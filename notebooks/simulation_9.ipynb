{
 "cells": [
  {
   "cell_type": "markdown",
   "metadata": {},
   "source": [
    "# Universidad Nacional de Colombia\n",
    "## Sede Bogotá  \n",
    "### Facultad de Ingeniería\n",
    "### Departamento de Ingeniería de Sistemas e Industrial\n",
    "\n",
    "---\n",
    "\n",
    "## **Taller de Modelos y Simulación**\n",
    "\n",
    "**Título del Taller:**  \n",
    "*Taller 2*\n",
    "\n",
    "**Estudiantes:**  \n",
    "*Jared Mijail Ramirez Escalante*\n",
    "\n",
    "*Juan Jeronimo Gómez Rubiano*  \n",
    "\n",
    "*Sergio Nicolás Correa Escbobar*\n",
    "\n",
    "*Laura Sofia Vargas Rodríguez*\n",
    "\n",
    "**Grupo:**  \n",
    "*0307*\n",
    "\n",
    "**Periodo:**  \n",
    "*2025-1*\n",
    "\n",
    "**Fecha de entrega:**  \n",
    "*mayo 26/2025*\n",
    "\n",
    "---\n",
    "\n",
    "*El source code junto a este documento se encuentra disponible en el siguiente repositorio publico de GitHub https://github.com/jujgomezru/modelos-taller-2*"
   ]
  },
  {
   "cell_type": "markdown",
   "metadata": {
    "id": "yX7Xf2Gf9WbC"
   },
   "source": [
    "# Preámbulo\n",
    "\n",
    "---\n",
    "\n",
    "En el presente trabajo, los problemas correspondientes se realizaron siguiendo el enfoque de simualación por eventos discretos mediante la librería Simlib en el lenguaje de programación C y, luego, siguiendo el enfoque de simulación por intervención de procesos mediante la librería SimPy en el lenguaje de programación Python.\n",
    "\n",
    "A continuación, en el presente documento, se describen el desarrollo y análisis correspondiente, en cada caso.\n",
    "\n",
    "Cabe mencionar que se decidió aprovechar el entorno de Google Colab, que permite trabajar de manera colaborativa asincrónica en la programación de las simulaciones y en todas sus asociaciones teóricas. Asimismo, Colab brinda soporte para desarrollar y ejecutar códigos en los lenguajes C y Python (entre otros); sin embargo, es necesario crear los archivos de simlib antes de continuar, para así no complicar la ejecución del notebook con importaciones manuales previas.\n",
    "\n",
    "En este sentido, lo que sigue es la creación de los archivos de Simlib.\n",
    "\n",
    "**Simlibdefs.h**"
   ]
  },
  {
   "cell_type": "code",
   "execution_count": 3,
   "metadata": {
    "id": "yX7Xf2Gf9WbC",
    "jp-MarkdownHeadingCollapsed": true
   },
   "outputs": [
    {
     "name": "stdout",
     "output_type": "stream",
     "text": [
      "Writing simlibdefs.h\n"
     ]
    }
   ],
   "source": [
    "%%writefile simlibdefs.h\n",
    "\n",
    "/* This is simlibdefs.h. */\n",
    "\n",
    "/* Define limits. */\n",
    "\n",
    "#define MAX_LIST    25      /* Max number of lists. */\n",
    "#define MAX_ATTR    10      /* Max number of attributes. */\n",
    "#define MAX_SVAR    25      /* Max number of sampst variables. */\n",
    "#define TIM_VAR     25      /* Max number of timest variables. */\n",
    "#define MAX_TVAR    50      /* Max number of timest variables + lists. */\n",
    "#define EPSILON      0.001  /* Used in event_cancel. */\n",
    "\n",
    "/* Define array sizes. */\n",
    "\n",
    "#define LIST_SIZE   26      /* MAX_LIST + 1. */\n",
    "#define ATTR_SIZE   11      /* MAX_ATTR + 1. */\n",
    "#define SVAR_SIZE   26      /* MAX_SVAR + 1. */\n",
    "#define TVAR_SIZE   51      /* MAX_TVAR + 1. */\n",
    "\n",
    "/* Define options for list_file and list_remove. */\n",
    "\n",
    "#define FIRST        1      /* Insert at (remove from) head of list. */\n",
    "#define LAST         2      /* Insert at (remove from) end of list. */\n",
    "#define INCREASING   3      /* Insert in increasing order. */\n",
    "#define DECREASING   4      /* Insert in decreasing order. */\n",
    "\n",
    "/* Define some other values. */\n",
    "\n",
    "#define LIST_EVENT  25      /* Event list number. */\n",
    "#define INFINITY     1.E30  /* Not really infinity, but a very large number. */\n",
    "\n",
    "/* Pre-define attribute numbers of transfer for event list. */\n",
    "\n",
    "#define EVENT_TIME   1      /* Attribute 1 in event list is event time. */\n",
    "#define EVENT_TYPE   2      /* Attribute 2 in event list is event type. */\n",
    "\n"
   ]
  },
  {
   "cell_type": "markdown",
   "metadata": {},
   "source": [
    "**simlib.h**"
   ]
  },
  {
   "cell_type": "code",
   "execution_count": 4,
   "metadata": {},
   "outputs": [
    {
     "name": "stdout",
     "output_type": "stream",
     "text": [
      "Writing simlib.h\n"
     ]
    }
   ],
   "source": [
    "%%writefile simlib.h\n",
    "\n",
    "/* This is simlib.h. */\n",
    "\n",
    "/* Include files. */\n",
    "\n",
    "#include <stdio.h>\n",
    "#include <stdlib.h>\n",
    "#include <math.h>\n",
    "#include \"simlibdefs.h\"\n",
    "\n",
    "/* Declare simlib global variables. */\n",
    "\n",
    "extern int    *list_rank, *list_size, next_event_type, maxatr, maxlist;\n",
    "extern float  *transfer, sim_time, prob_distrib[26];\n",
    "extern struct master {\n",
    "    float  *value;\n",
    "    struct master *pr;\n",
    "    struct master *sr;\n",
    "} **head, **tail;\n",
    "\n",
    "/* Declare simlib functions. */\n",
    "\n",
    "extern void  init_simlib(void);\n",
    "extern void  list_file(int option, int list);\n",
    "extern void  list_remove(int option, int list);\n",
    "extern void  timing(void);\n",
    "extern void  event_schedule(float time_of_event, int type_of_event);\n",
    "extern int   event_cancel(int event_type);\n",
    "extern float sampst(float value, int varibl);\n",
    "extern float timest(float value, int varibl);\n",
    "extern float filest(int list);\n",
    "extern void  out_sampst(FILE *unit, int lowvar, int highvar);\n",
    "extern void  out_timest(FILE *unit, int lowvar, int highvar);\n",
    "extern void  out_filest(FILE *unit, int lowlist, int highlist);\n",
    "extern float expon(float mean, int stream);\n",
    "extern int   random_integer(float prob_distrib[], int stream);\n",
    "extern float uniform(float a, float b, int stream);\n",
    "extern float erlang(int m, float mean, int stream);\n",
    "extern float lcgrand(int stream);\n",
    "extern void  lcgrandst(long zset, int stream);\n",
    "extern long  lcgrandgt(int stream);\n",
    "\n"
   ]
  },
  {
   "cell_type": "markdown",
   "metadata": {},
   "source": [
    "**simlib.c**"
   ]
  },
  {
   "cell_type": "code",
   "execution_count": 5,
   "metadata": {},
   "outputs": [
    {
     "name": "stdout",
     "output_type": "stream",
     "text": [
      "Writing simlib.c\n"
     ]
    }
   ],
   "source": [
    "%%writefile simlib.c\n",
    "\n",
    "/* This is simlib.c (adapted from SUPERSIMLIB, written by Gregory Glockner). */\n",
    "\n",
    "/* Include files. */\n",
    "\n",
    "#include <stdio.h>\n",
    "#include <stdlib.h>\n",
    "#include <math.h>\n",
    "#include \"simlibdefs.h\"\n",
    "\n",
    "/* Declare simlib global variables. */\n",
    "\n",
    "int    *list_rank, *list_size, next_event_type, maxatr = 0, maxlist = 0;\n",
    "float  *transfer, sim_time, prob_distrib[26];\n",
    "struct master {\n",
    "    float  *value;\n",
    "    struct master *pr;\n",
    "    struct master *sr;\n",
    "} **head, **tail;\n",
    "\n",
    "/* Declare simlib functions. */\n",
    "\n",
    "void  init_simlib(void);\n",
    "void  list_file(int option, int list);\n",
    "void  list_remove(int option, int list);\n",
    "void  timing(void);\n",
    "void  event_schedule(float time_of_event, int type_of_event);\n",
    "int   event_cancel(int event_type);\n",
    "float sampst(float value, int variable);\n",
    "float timest(float value, int variable);\n",
    "float filest(int list);\n",
    "void  out_sampst(FILE *unit, int lowvar, int highvar);\n",
    "void  out_timest(FILE *unit, int lowvar, int highvar);\n",
    "void  out_filest(FILE *unit, int lowlist, int highlist);\n",
    "void  pprint_out(FILE *unit, int i);\n",
    "float expon(float mean, int stream);\n",
    "int   random_integer(float prob_distrib[], int stream);\n",
    "float uniform(float a, float b, int stream);\n",
    "float erlang(int m, float mean, int stream);\n",
    "float lcgrand(int stream);\n",
    "void  lcgrandst(long zset, int stream);\n",
    "long  lcgrandgt(int stream);\n",
    "\n",
    "\n",
    "void init_simlib()\n",
    "{\n",
    "\n",
    "/* Initialize simlib.c.  List LIST_EVENT is reserved for event list, ordered by\n",
    "   event time.  init_simlib must be called from main by user. */\n",
    "\n",
    "    int list, listsize;\n",
    "\n",
    "    if (maxlist < 1) maxlist = MAX_LIST;\n",
    "    listsize = maxlist + 1;\n",
    "\n",
    "    /* Initialize system attributes. */\n",
    "\n",
    "    sim_time = 0.0;\n",
    "    if (maxatr < 4) maxatr = MAX_ATTR;\n",
    "\n",
    "    /* Allocate space for the lists. */\n",
    "\n",
    "    list_rank = (int *)            calloc(listsize,   sizeof(int));\n",
    "    list_size = (int *)            calloc(listsize,   sizeof(int));\n",
    "    head      = (struct master **) calloc(listsize,   sizeof(struct master *));\n",
    "    tail      = (struct master **) calloc(listsize,   sizeof(struct master *));\n",
    "    transfer  = (float *)          calloc(maxatr + 1, sizeof(float));\n",
    "\n",
    "    /* Initialize list attributes. */\n",
    "\n",
    "    for(list = 1; list <= maxlist; ++list) {\n",
    "        head [list]     = NULL;\n",
    "        tail [list]     = NULL;\n",
    "        list_size[list] = 0;\n",
    "        list_rank[list] = 0;\n",
    "    }\n",
    "\n",
    "    /* Set event list to be ordered by event time. */\n",
    "\n",
    "    list_rank[LIST_EVENT] = EVENT_TIME;\n",
    "\n",
    "    /* Initialize statistical routines. */\n",
    "\n",
    "    sampst(0.0, 0);\n",
    "    timest(0.0, 0);\n",
    "}\n",
    "\n",
    "\n",
    "void list_file(int option, int list)\n",
    "{\n",
    "\n",
    "/* Place transfr into list \"list\".\n",
    "   Update timest statistics for the list.\n",
    "   option = FIRST place at start of list\n",
    "            LAST  place at end of list\n",
    "            INCREASING  place in increasing order on attribute list_rank(list)\n",
    "            DECREASING  place in decreasing order on attribute list_rank(list)\n",
    "            (ties resolved by FIFO) */\n",
    "\n",
    "    struct master *row, *ahead, *behind, *ihead, *itail;\n",
    "    int    item, postest;\n",
    "\n",
    "    /* If the list value is improper, stop the simulation. */\n",
    "\n",
    "    if(!((list >= 0) && (list <= MAX_LIST))) {\n",
    "        printf(\"\\nInvalid list %d for list_file at time %f\\n\", list, sim_time);\n",
    "        exit(1);\n",
    "    }\n",
    "\n",
    "    /* Increment the list size. */\n",
    "\n",
    "    list_size[list]++;\n",
    "\n",
    "    /* If the option value is improper, stop the simulation. */\n",
    "\n",
    "    if(!((option >= 1) && (option <= DECREASING))) {\n",
    "        printf(\n",
    "            \"\\n%d is an invalid option for list_file on list %d at time %f\\n\",\n",
    "            option, list, sim_time);\n",
    "        exit(1);\n",
    "    }\n",
    "\n",
    "    /* If this is the first record in this list, just make space for it. */\n",
    "\n",
    "    if(list_size[list] == 1) {\n",
    "\n",
    "        row        = (struct master *) malloc(sizeof(struct master));\n",
    "        head[list] = row ;\n",
    "        tail[list] = row ;\n",
    "        (*row).pr  = NULL;\n",
    "        (*row).sr  = NULL;\n",
    "    }\n",
    "\n",
    "    else { /* There are other records in the list. */\n",
    "\n",
    "        /* Check the value of option. */\n",
    "\n",
    "        if ((option == INCREASING) || (option == DECREASING)) {\n",
    "            item = list_rank[list];\n",
    "            if(!((item >= 1) && (item <= maxatr))) {\n",
    "                printf(\n",
    "                    \"%d is an improper value for rank of list %d at time %f\\n\",\n",
    "                    item, list, sim_time) ;\n",
    "                exit(1);\n",
    "            }\n",
    "\n",
    "            row    = head[list];\n",
    "            behind = NULL; /* Dummy value for the first iteration. */\n",
    "\n",
    "            /* Search for the correct location. */\n",
    "\n",
    "            if (option == INCREASING) {\n",
    "                postest = (transfer[item] >= (*row).value[item]);\n",
    "                while (postest) {\n",
    "                    behind  = row;\n",
    "                    row     = (*row).sr;\n",
    "                    postest = (behind != tail[list]);\n",
    "                    if (postest)\n",
    "                        postest = (transfer[item] >= (*row).value[item]);\n",
    "                }\n",
    "            }\n",
    "\n",
    "            else {\n",
    "\n",
    "                postest = (transfer[item] <= (*row).value[item]);\n",
    "                while (postest) {\n",
    "                    behind  = row;\n",
    "                    row     = (*row).sr;\n",
    "                    postest = (behind != tail[list]);\n",
    "                    if (postest)\n",
    "                        postest = (transfer[item] <= (*row).value[item]);\n",
    "                }\n",
    "            }\n",
    "\n",
    "            /* Check to see if position is first or last.  If so, take care of\n",
    "               it below. */\n",
    "\n",
    "            if (row == head[list])\n",
    "\n",
    "                option = FIRST;\n",
    "\n",
    "            else\n",
    "\n",
    "                if (behind == tail[list])\n",
    "\n",
    "                    option = LAST;\n",
    "\n",
    "                else { /* Insert between preceding and succeeding records. */\n",
    "\n",
    "                    ahead        = (*behind).sr;\n",
    "                    row          = (struct master *)\n",
    "                                        malloc(sizeof(struct master));\n",
    "                    (*row).pr    = behind;\n",
    "                    (*behind).sr = row;\n",
    "                    (*ahead).pr  = row;\n",
    "                    (*row).sr    = ahead;\n",
    "                }\n",
    "        } /* End if inserting in increasing or decreasing order. */\n",
    "\n",
    "        if (option == FIRST) {\n",
    "            row         = (struct master *) malloc(sizeof(struct master));\n",
    "            ihead       = head[list];\n",
    "            (*ihead).pr = row;\n",
    "            (*row).sr   = ihead;\n",
    "            (*row).pr   = NULL;\n",
    "            head[list]  = row;\n",
    "        }\n",
    "        if (option == LAST) {\n",
    "            row         = (struct master *) malloc(sizeof(struct master));\n",
    "            itail       = tail[list];\n",
    "            (*row).pr   = itail;\n",
    "            (*itail).sr = row;\n",
    "            (*row).sr   = NULL;\n",
    "            tail[list]  = row;\n",
    "        }\n",
    "    }\n",
    "\n",
    "    /* Copy the row values from the transfer array. */\n",
    "\n",
    "    (*row).value = (float *) calloc(maxatr + 1, sizeof(float));\n",
    "    for (item = 0; item <= maxatr; ++item)\n",
    "        (*row).value[item] = transfer[item];\n",
    "\n",
    "\n",
    "    /* Update the area under the number-in-list curve. */\n",
    "\n",
    "    timest((float)list_size[list], TIM_VAR + list);\n",
    "}\n",
    "\n",
    "\n",
    "void list_remove(int option, int list)\n",
    "{\n",
    "\n",
    "/* Remove a record from list \"list\" and copy attributes into transfer.\n",
    "   Update timest statistics for the list.\n",
    "   option = FIRST remove first record in the list\n",
    "            LAST  remove last record in the list */\n",
    "\n",
    "    struct master *row, *ihead, *itail;\n",
    "\n",
    "    /* If the list value is improper, stop the simulation. */\n",
    "\n",
    "    if(!((list >= 0) && (list <= MAX_LIST))) {\n",
    "        printf(\"\\nInvalid list %d for list_remove at time %f\\n\",\n",
    "               list, sim_time);\n",
    "        exit(1);\n",
    "    }\n",
    "\n",
    "    /* If the list is empty, stop the simulation. */\n",
    "\n",
    "    if(list_size[list] <= 0) {\n",
    "        printf(\"\\nUnderflow of list %d at time %f\\n\", list, sim_time);\n",
    "        exit(1);\n",
    "    }\n",
    "\n",
    "    /* Decrement the list size. */\n",
    "\n",
    "    list_size[list]--;\n",
    "\n",
    "    /* If the option value is improper, stop the simulation. */\n",
    "\n",
    "    if(!(option == FIRST || option == LAST)) {\n",
    "        printf(\n",
    "            \"\\n%d is an invalid option for list_remove on list %d at time %f\\n\",\n",
    "            option, list, sim_time);\n",
    "        exit(1);\n",
    "    }\n",
    "\n",
    "    if(list_size[list] == 0) {\n",
    "\n",
    "        /* There is only 1 record, so remove it. */\n",
    "\n",
    "        row        = head[list];\n",
    "        head[list] = NULL;\n",
    "        tail[list] = NULL;\n",
    "    }\n",
    "\n",
    "    else {\n",
    "\n",
    "        /* There is more than 1 record, so remove according to the desired\n",
    "           option. */\n",
    "\n",
    "        switch(option) {\n",
    "\n",
    "            /* Remove the first record in the list. */\n",
    "\n",
    "            case FIRST:\n",
    "                row         = head[list];\n",
    "                ihead       = (*row).sr;\n",
    "                (*ihead).pr = NULL;\n",
    "                head[list]  = ihead;\n",
    "                break;\n",
    "\n",
    "            /* Remove the last record in the list. */\n",
    "\n",
    "            case LAST:\n",
    "                row         = tail[list];\n",
    "                itail       = (*row).pr;\n",
    "                (*itail).sr = NULL;\n",
    "                tail[list]  = itail;\n",
    "                break;\n",
    "        }\n",
    "    }\n",
    "\n",
    "    /* Copy the data and free memory. */\n",
    "\n",
    "    free((char *)transfer);\n",
    "    transfer = (*row).value;\n",
    "    free((char *)row);\n",
    "\n",
    "    /* Update the area under the number-in-list curve. */\n",
    "\n",
    "    timest((float)list_size[list], TIM_VAR + list);\n",
    "}\n",
    "\n",
    "\n",
    "void timing()\n",
    "{\n",
    "\n",
    "/* Remove next event from event list, placing its attributes in transfer.\n",
    "   Set sim_time (simulation time) to event time, transfer[1].\n",
    "   Set next_event_type to this event type, transfer[2]. */\n",
    "\n",
    "    /* Remove the first event from the event list and put it in transfer[]. */\n",
    "\n",
    "    list_remove(FIRST, LIST_EVENT);\n",
    "\n",
    "    /* Check for a time reversal. */\n",
    "\n",
    "    if(transfer[EVENT_TIME] < sim_time) {\n",
    "        printf(\n",
    "            \"\\nAttempt to schedule event type %f for time %f at time %f\\n\",\n",
    "            transfer[EVENT_TYPE], transfer[EVENT_TIME], sim_time);\n",
    "        exit(1);\n",
    "    }\n",
    "\n",
    "    /* Advance the simulation clock and set the next event type. */\n",
    "\n",
    "    sim_time        = transfer[EVENT_TIME];\n",
    "    next_event_type = transfer[EVENT_TYPE];\n",
    "}\n",
    "\n",
    "\n",
    "void event_schedule(float time_of_event, int type_of_event)\n",
    "{\n",
    "\n",
    "/* Schedule an event at time event_time of type event_type.  If attributes\n",
    "   beyond the first two (reserved for the event time and the event type) are\n",
    "   being used in the event list, it is the user's responsibility to place their\n",
    "   values into the transfer array before invoking event_schedule. */\n",
    "\n",
    "    transfer[EVENT_TIME] = time_of_event;\n",
    "    transfer[EVENT_TYPE] = type_of_event;\n",
    "    list_file(INCREASING, LIST_EVENT);\n",
    "}\n",
    "\n",
    "\n",
    "int event_cancel(int event_type)\n",
    "{\n",
    "\n",
    "/* Remove the first event of type event_type from the event list, leaving its\n",
    "   attributes in transfer.  If something is cancelled, event_cancel returns 1;\n",
    "   if no match is found, event_cancel returns 0. */\n",
    "\n",
    "    struct       master *row, *ahead, *behind;\n",
    "    static float high, low, value;\n",
    "\n",
    "    /* If the event list is empty, do nothing and return 0. */\n",
    "\n",
    "    if(list_size[LIST_EVENT] == 0) return 0;\n",
    "\n",
    "    /* Search the event list. */\n",
    "\n",
    "    row   = head[LIST_EVENT];\n",
    "    low   = event_type - EPSILON;\n",
    "    high  = event_type + EPSILON;\n",
    "    value = (*row).value[EVENT_TYPE] ;\n",
    "\n",
    "    while (((value <= low) || (value >= high)) && (row != tail[LIST_EVENT])) {\n",
    "        row   = (*row).sr;\n",
    "        value = (*row).value[EVENT_TYPE];\n",
    "    }\n",
    "\n",
    "    /* Check to see if this is the end of the event list. */\n",
    "\n",
    "    if (row == tail[LIST_EVENT]) {\n",
    "\n",
    "        /* Double check to see that this is a match. */\n",
    "\n",
    "        if ((value > low) && (value < high)) {\n",
    "            list_remove(LAST, LIST_EVENT);\n",
    "            return 1;\n",
    "        }\n",
    "\n",
    "        else /* no match */\n",
    "            return 0;\n",
    "    }\n",
    "\n",
    "    /* Check to see if this is the head of the list.  If it is at the head, then\n",
    "       it MUST be a match. */\n",
    "\n",
    "    if (row == head[LIST_EVENT]) {\n",
    "        list_remove(FIRST, LIST_EVENT);\n",
    "        return 1;\n",
    "    }\n",
    "\n",
    "    /* Else remove this event somewhere in the middle of the event list. */\n",
    "\n",
    "    /* Update pointers. */\n",
    "\n",
    "    ahead        = (*row).sr;\n",
    "    behind       = (*row).pr;\n",
    "    (*behind).sr = ahead;\n",
    "    (*ahead).pr  = behind;\n",
    "\n",
    "    /* Decrement the size of the event list. */\n",
    "\n",
    "    list_size[LIST_EVENT]--;\n",
    "\n",
    "    /* Copy and free memory. */\n",
    "\n",
    "    free((char *)transfer);       /* Free the old transfer. */\n",
    "    transfer = (*row).value;      /* Transfer the data. */\n",
    "    free((char *)row);            /* Free the space vacated by row. */\n",
    "\n",
    "    /* Update the area under the number-in-event-list curve. */\n",
    "\n",
    "    timest((float)list_size[LIST_EVENT], TIM_VAR + LIST_EVENT);\n",
    "    return 1;\n",
    "}\n",
    "\n",
    "\n",
    "float sampst(float value, int variable)\n",
    "{\n",
    "\n",
    "/* Initialize, update, or report statistics on discrete-time processes:\n",
    "   sum/average, max (default -1E30), min (default 1E30), number of observations\n",
    "   for sampst variable \"variable\", where \"variable\":\n",
    "       = 0 initializes accumulators\n",
    "       > 0 updates sum, count, min, and max accumulators with new observation\n",
    "       < 0 reports stats on variable \"variable\" and returns them in transfer:\n",
    "           [1] = average of observations\n",
    "           [2] = number of observations\n",
    "           [3] = maximum of observations\n",
    "           [4] = minimum of observations */\n",
    "\n",
    "    static int   ivar, num_observations[SVAR_SIZE];\n",
    "    static float max[SVAR_SIZE], min[SVAR_SIZE], sum[SVAR_SIZE];\n",
    "\n",
    "    /* If the variable value is improper, stop the simulation. */\n",
    "\n",
    "    if(!(variable >= -MAX_SVAR) && (variable <= MAX_SVAR)) {\n",
    "        printf(\"\\n%d is an improper value for a sampst variable at time %f\\n\",\n",
    "            variable, sim_time);\n",
    "        exit(1);\n",
    "    }\n",
    "\n",
    "    /* Execute the desired option. */\n",
    "\n",
    "    if(variable > 0) { /* Update. */\n",
    "        sum[variable] += value;\n",
    "        if(value > max[variable]) max[variable] = value;\n",
    "        if(value < min[variable]) min[variable] = value;\n",
    "        num_observations[variable]++;\n",
    "        return 0.0;\n",
    "    }\n",
    "\n",
    "    if(variable < 0) { /* Report summary statistics in transfer. */\n",
    "        ivar        = -variable;\n",
    "        transfer[2] = (float) num_observations[ivar];\n",
    "        transfer[3] = max[ivar];\n",
    "        transfer[4] = min[ivar];\n",
    "        if(num_observations[ivar] == 0)\n",
    "            transfer[1] = 0.0;\n",
    "        else\n",
    "            transfer[1] = sum[ivar] / transfer[2];\n",
    "        return transfer[1];\n",
    "    }\n",
    "\n",
    "    /* Initialize the accumulators. */\n",
    "\n",
    "    for(ivar=1; ivar <= MAX_SVAR; ++ivar) {\n",
    "        sum[ivar]              = 0.0;\n",
    "        max[ivar]              = -INFINITY;\n",
    "        min[ivar]              =  INFINITY;\n",
    "        num_observations[ivar] = 0;\n",
    "    }\n",
    "}\n",
    "\n",
    "\n",
    "float timest(float value, int variable)\n",
    "{\n",
    "\n",
    "/* Initialize, update, or report statistics on continuous-time processes:\n",
    "   integral/average, max (default -1E30), min (default 1E30)\n",
    "   for timest variable \"variable\", where \"variable\":\n",
    "       = 0 initializes counters\n",
    "       > 0 updates area, min, and max accumulators with new level of variable\n",
    "       < 0 reports stats on variable \"variable\" and returns them in transfer:\n",
    "           [1] = time-average of variable updated to the time of this call\n",
    "           [2] = maximum value variable has attained\n",
    "           [3] = minimum value variable has attained\n",
    "   Note that variables TIM_VAR + 1 through TVAR_SIZE are used for automatic\n",
    "   record keeping on the length of lists 1 through MAX_LIST. */\n",
    "\n",
    "    int          ivar;\n",
    "    static float area[TVAR_SIZE], max[TVAR_SIZE], min[TVAR_SIZE],\n",
    "                 preval[TVAR_SIZE], tlvc[TVAR_SIZE], treset;\n",
    "\n",
    "    /* If the variable value is improper, stop the simulation. */\n",
    "\n",
    "    if(!(variable >= -MAX_TVAR) && (variable <= MAX_TVAR)) {\n",
    "        printf(\"\\n%d is an improper value for a timest variable at time %f\\n\",\n",
    "            variable, sim_time);\n",
    "        exit(1);\n",
    "    }\n",
    "\n",
    "    /* Execute the desired option. */\n",
    "\n",
    "    if(variable > 0) { /* Update. */\n",
    "        area[variable] += (sim_time - tlvc[variable]) * preval[variable];\n",
    "        if(value > max[variable]) max[variable] = value;\n",
    "        if(value < min[variable]) min[variable] = value;\n",
    "        preval[variable] = value;\n",
    "        tlvc[variable]   = sim_time;\n",
    "        return 0.0;\n",
    "    }\n",
    "\n",
    "    if(variable < 0) { /* Report summary statistics in transfer. */\n",
    "        ivar         = -variable;\n",
    "        area[ivar]   += (sim_time - tlvc[ivar]) * preval[ivar];\n",
    "        tlvc[ivar]   = sim_time;\n",
    "        transfer[1]  = area[ivar] / (sim_time - treset);\n",
    "        transfer[2]  = max[ivar];\n",
    "        transfer[3]  = min[ivar];\n",
    "        return transfer[1];\n",
    "    }\n",
    "\n",
    "    /* Initialize the accumulators. */\n",
    "\n",
    "    for(ivar = 1; ivar <= MAX_TVAR; ++ivar) {\n",
    "        area[ivar]   = 0.0;\n",
    "        max[ivar]    = -INFINITY;\n",
    "        min[ivar]    =  INFINITY;\n",
    "        preval[ivar] = 0.0;\n",
    "        tlvc[ivar]   = sim_time;\n",
    "    }\n",
    "    treset = sim_time;\n",
    "}\n",
    "\n",
    "\n",
    "float filest(int list)\n",
    "{\n",
    "\n",
    "/* Report statistics on the length of list \"list\" in transfer:\n",
    "       [1] = time-average of list length updated to the time of this call\n",
    "       [2] = maximum length list has attained\n",
    "       [3] = minimum length list has attained\n",
    "   This uses timest variable TIM_VAR + list. */\n",
    "\n",
    "    return timest(0.0, -(TIM_VAR + list));\n",
    "}\n",
    "\n",
    "\n",
    "void out_sampst(FILE *unit, int lowvar, int highvar)\n",
    "{\n",
    "\n",
    "/* Write sampst statistics for variables lowvar through highvar on file\n",
    "   \"unit\". */\n",
    "\n",
    "    int ivar, iatrr;\n",
    "\n",
    "    if(lowvar>highvar || lowvar > MAX_SVAR || highvar > MAX_SVAR) return;\n",
    "\n",
    "    fprintf(unit, \"\\n sampst                         Number\");\n",
    "    fprintf(unit, \"\\nvariable                          of\");\n",
    "    fprintf(unit, \"\\n number       Average           values          Maximum\");\n",
    "    fprintf(unit, \"          Minimum\");\n",
    "    fprintf(unit, \"\\n___________________________________\");\n",
    "    fprintf(unit, \"_____________________________________\");\n",
    "    for(ivar = lowvar; ivar <= highvar; ++ivar) {\n",
    "        fprintf(unit, \"\\n\\n%5d\", ivar);\n",
    "        sampst(0.00, -ivar);\n",
    "        for(iatrr = 1; iatrr <= 4; ++iatrr) pprint_out(unit, iatrr);\n",
    "    }\n",
    "    fprintf(unit, \"\\n___________________________________\");\n",
    "    fprintf(unit, \"_____________________________________\\n\\n\\n\");\n",
    "}\n",
    "\n",
    "\n",
    "void out_timest(FILE *unit, int lowvar, int highvar)\n",
    "{\n",
    "\n",
    "/* Write timest statistics for variables lowvar through highvar on file\n",
    "   \"unit\". */\n",
    "\n",
    "    int ivar, iatrr;\n",
    "\n",
    "    if(lowvar > highvar || lowvar > TIM_VAR || highvar > TIM_VAR ) return;\n",
    "\n",
    "\n",
    "    fprintf(unit, \"\\n  timest\");\n",
    "    fprintf(unit, \"\\n variable       Time\");\n",
    "    fprintf(unit, \"\\n  number       average          Maximum          Minimum\");\n",
    "    fprintf(unit, \"\\n________________________________________________________\");\n",
    "    for(ivar = lowvar; ivar <= highvar; ++ivar) {\n",
    "        fprintf(unit, \"\\n\\n%5d\", ivar);\n",
    "        timest(0.00, -ivar);\n",
    "        for(iatrr = 1; iatrr <= 3; ++iatrr) pprint_out(unit, iatrr);\n",
    "    }\n",
    "    fprintf(unit, \"\\n________________________________________________________\");\n",
    "    fprintf(unit, \"\\n\\n\\n\");\n",
    "}\n",
    "\n",
    "\n",
    "void out_filest(FILE *unit, int lowlist, int highlist)\n",
    "{\n",
    "\n",
    "/* Write timest list-length statistics for lists lowlist through highlist on\n",
    "   file \"unit\". */\n",
    "\n",
    "    int list, iatrr;\n",
    "\n",
    "    if(lowlist > highlist || lowlist > MAX_LIST || highlist > MAX_LIST) return;\n",
    "\n",
    "    fprintf(unit, \"\\n  File         Time\");\n",
    "    fprintf(unit, \"\\n number       average          Maximum          Minimum\");\n",
    "    fprintf(unit, \"\\n_______________________________________________________\");\n",
    "    for(list = lowlist; list <= highlist; ++list) {\n",
    "        fprintf(unit, \"\\n\\n%5d\", list);\n",
    "        filest(list);\n",
    "        for(iatrr = 1; iatrr <= 3; ++iatrr) pprint_out(unit, iatrr);\n",
    "    }\n",
    "    fprintf(unit, \"\\n_______________________________________________________\");\n",
    "    fprintf(unit, \"\\n\\n\\n\");\n",
    "}\n",
    "\n",
    "\n",
    "void pprint_out(FILE *unit, int i) /* Write ith entry in transfer to file\n",
    "                                      \"unit\". */\n",
    "{\n",
    "    if(transfer[i] == -1e30 || transfer[i] == 1e30)\n",
    "        fprintf(unit,\" %#15.6G \", 0.00);\n",
    "    else\n",
    "        fprintf(unit,\" %#15.6G \", transfer[i]);\n",
    "}\n",
    "\n",
    "\n",
    "float expon(float mean, int stream) /* Exponential variate generation\n",
    "                                       function. */\n",
    "{\n",
    "    return -mean * log(lcgrand(stream));\n",
    "\n",
    "}\n",
    "\n",
    "\n",
    "int random_integer(float prob_distrib[], int stream) /* Discrete-variate\n",
    "                                                        generation function. */\n",
    "{\n",
    "    int   i;\n",
    "    float u;\n",
    "\n",
    "    u = lcgrand(stream);\n",
    "\n",
    "    for (i = 1; u >= prob_distrib[i]; ++i)\n",
    "        ;\n",
    "    return i;\n",
    "}\n",
    "\n",
    "\n",
    "float uniform(float a, float b, int stream) /* Uniform variate generation\n",
    "                                               function. */\n",
    "{\n",
    "    return a + lcgrand(stream) * (b - a);\n",
    "}\n",
    "\n",
    "\n",
    "float erlang(int m, float mean, int stream)  /* Erlang variate generation\n",
    "                                                function. */\n",
    "{\n",
    "    int   i;\n",
    "    float mean_exponential, sum;\n",
    "\n",
    "    mean_exponential = mean / m;\n",
    "    sum = 0.0;\n",
    "    for (i = 1; i <= m; ++i)\n",
    "        sum += expon(mean_exponential, stream);\n",
    "    return sum;\n",
    "}\n",
    "\n",
    "\n",
    "/* Prime modulus multiplicative linear congruential generator\n",
    "\n",
    "   Z[i] = (630360016 * Z[i-1]) (mod(pow(2,31) - 1)), based on Marse and\n",
    "   Roberts' portable FORTRAN random-number generator UNIRAN.  Multiple\n",
    "   (100) streams are supported, with seeds spaced 100,000 apart.\n",
    "   Throughout, input argument \"stream\" must be an int giving the\n",
    "   desired stream number.  The header file lcgrand.h must be included in\n",
    "   the calling program (#include \"lcgrand.h\") before using these\n",
    "   functions.\n",
    "\n",
    "   Usage: (Three functions)\n",
    "\n",
    "   1. To obtain the next U(0,1) random number from stream \"stream,\"\n",
    "      execute\n",
    "          u = lcgrand(stream);\n",
    "      where lcgrand is a float function.  The float variable u will\n",
    "      contain the next random number.\n",
    "\n",
    "   2. To set the seed for stream \"stream\" to a desired value zset,\n",
    "      execute\n",
    "          lcgrandst(zset, stream);\n",
    "      where lcgrandst is a void function and zset must be a long set to\n",
    "      the desired seed, a number between 1 and 2147483646 (inclusive).\n",
    "      Default seeds for all 100 streams are given in the code.\n",
    "\n",
    "   3. To get the current (most recently used) integer in the sequence\n",
    "      being generated for stream \"stream\" into the long variable zget,\n",
    "      execute\n",
    "          zget = lcgrandgt(stream);\n",
    "      where lcgrandgt is a long function. */\n",
    "\n",
    "/* Define the constants. */\n",
    "\n",
    "#define MODLUS 2147483647\n",
    "#define MULT1       24112\n",
    "#define MULT2       26143\n",
    "\n",
    "/* Set the default seeds for all 100 streams. */\n",
    "\n",
    "static long zrng[] =\n",
    "{         1,\n",
    " 1973272912, 281629770,  20006270,1280689831,2096730329,1933576050,\n",
    "  913566091, 246780520,1363774876, 604901985,1511192140,1259851944,\n",
    "  824064364, 150493284, 242708531,  75253171,1964472944,1202299975,\n",
    "  233217322,1911216000, 726370533, 403498145, 993232223,1103205531,\n",
    "  762430696,1922803170,1385516923,  76271663, 413682397, 726466604,\n",
    "  336157058,1432650381,1120463904, 595778810, 877722890,1046574445,\n",
    "   68911991,2088367019, 748545416, 622401386,2122378830, 640690903,\n",
    " 1774806513,2132545692,2079249579,  78130110, 852776735,1187867272,\n",
    " 1351423507,1645973084,1997049139, 922510944,2045512870, 898585771,\n",
    "  243649545,1004818771, 773686062, 403188473, 372279877,1901633463,\n",
    "  498067494,2087759558, 493157915, 597104727,1530940798,1814496276,\n",
    "  536444882,1663153658, 855503735,  67784357,1432404475, 619691088,\n",
    "  119025595, 880802310, 176192644,1116780070, 277854671,1366580350,\n",
    " 1142483975,2026948561,1053920743, 786262391,1792203830,1494667770,\n",
    " 1923011392,1433700034,1244184613,1147297105, 539712780,1545929719,\n",
    "  190641742,1645390429, 264907697, 620389253,1502074852, 927711160,\n",
    "  364849192,2049576050, 638580085, 547070247 };\n",
    "\n",
    "/* Generate the next random number. */\n",
    "\n",
    "float lcgrand(int stream)\n",
    "{\n",
    "    long zi, lowprd, hi31;\n",
    "\n",
    "    zi     = zrng[stream];\n",
    "    lowprd = (zi & 65535) * MULT1;\n",
    "    hi31   = (zi >> 16) * MULT1 + (lowprd >> 16);\n",
    "    zi     = ((lowprd & 65535) - MODLUS) +\n",
    "             ((hi31 & 32767) << 16) + (hi31 >> 15);\n",
    "    if (zi < 0) zi += MODLUS;\n",
    "    lowprd = (zi & 65535) * MULT2;\n",
    "    hi31   = (zi >> 16) * MULT2 + (lowprd >> 16);\n",
    "    zi     = ((lowprd & 65535) - MODLUS) +\n",
    "             ((hi31 & 32767) << 16) + (hi31 >> 15);\n",
    "    if (zi < 0) zi += MODLUS;\n",
    "    zrng[stream] = zi;\n",
    "    return (zi >> 7 | 1) / 16777216.0;\n",
    "}\n",
    "\n",
    "\n",
    "void lcgrandst (long zset, int stream) /* Set the current zrng for stream\n",
    "                                          \"stream\" to zset. */\n",
    "{\n",
    "    zrng[stream] = zset;\n",
    "}\n",
    "\n",
    "\n",
    "long lcgrandgt (int stream) /* Return the current zrng for stream \"stream\". */\n",
    "{\n",
    "    return zrng[stream];\n",
    "}\n",
    "\n"
   ]
  },
  {
   "cell_type": "markdown",
   "metadata": {},
   "source": [
    "Una vez hecho esto, se continúa con la exposición de los problemas y sus simulaciones. También, cabe mencionar que todos los archivos mostrados (a excepción de la librería Simlib) se comparten adjuntmente a este documento.\n",
    "\n",
    "Por parte de SimPy, el único paso previo necesario, en contraste con el caso de Simlib en C, es instalar simpy:"
   ]
  },
  {
   "cell_type": "code",
   "execution_count": 6,
   "metadata": {},
   "outputs": [
    {
     "name": "stdout",
     "output_type": "stream",
     "text": [
      "Requirement already satisfied: simpy in /home/jujgomezru/miniconda3/envs/py313_env/lib/python3.13/site-packages (4.1.1)\n"
     ]
    }
   ],
   "source": [
    "!pip install simpy"
   ]
  },
  {
   "cell_type": "markdown",
   "metadata": {
    "id": "yX7Xf2Gf9WbC",
    "jp-MarkdownHeadingCollapsed": true
   },
   "source": [
    "# Simulación 7"
   ]
  },
  {
   "cell_type": "markdown",
   "metadata": {
    "id": "yX7Xf2Gf9WbC"
   },
   "source": [
    "# Simulación 8"
   ]
  },
  {
   "cell_type": "markdown",
   "metadata": {
    "id": "yX7Xf2Gf9WbC"
   },
   "source": [
    "# Simulación 9"
   ]
  },
  {
   "cell_type": "markdown",
   "metadata": {
    "id": "yX7Xf2Gf9WbC"
   },
   "source": [
    "## Simlib"
   ]
  },
  {
   "cell_type": "markdown",
   "metadata": {
    "id": "yX7Xf2Gf9WbC"
   },
   "source": [
    "### 1. Definir:"
   ]
  },
  {
   "cell_type": "markdown",
   "metadata": {
    "id": "yX7Xf2Gf9WbC"
   },
   "source": [
    "**a. Parámetros de entrada**\n",
    "\n",
    "Tal como se define en el enunciado del problema, la simulación debe recibir tres parámetros, los que definen los tiempos de la simulación.\n",
    "A estos tres, añadimos un cuarto parámetro, que determina si los tiempos van a ser exponenciales, o constantes. Esto es con el fin de usar el mismo\n",
    "archivo de código para cada una de las corridas, en vez de crear archivos separados. Los parámetros servers_level1 y servers_level2 indican el número de servidores de cada servicio. En los primeros cuatro puntos, se mantendrá constante de 1 servidor por cada servicio, pero analizaremos el resultado de duplicar servidores en el punto 5.\n",
    "\n",
    "| Nombre                | Parámetro                                                   |\n",
    "|-----------------------|-------------------------------------------------------------|\n",
    "| mean_interarrival     | Tiempo promedio de llegada entre elementos                  |\n",
    "| mean_service          | Tiempo promedio de servicio en cada uno de los dos procesos |\n",
    "| total_simulation_time | Tiempo total de la simulación                               |\n",
    "| distribution_type     | Tipo de distribuciones usadas en la simulación              |\n",
    "| servers_level1        | Número de servidores del servicio 1                         |\n",
    "| servers_level2        | Número de servidores del servicio 2                         |\n",
    "\n",
    "La variable distribution_type, puede tomar valores de 1 al 4, para las distintas corridas del programa:\n",
    "\n",
    "| Valor | mean_interarrival | mean_service |\n",
    "|-------|-------------------|--------------|\n",
    "| 1     | Exponencial       | Exponencial  |\n",
    "| 2     | Constante         | Exponencial  |\n",
    "| 3     | Exponencial       | Constante    |\n",
    "| 4     | Constante         | Constante    |"
   ]
  },
  {
   "cell_type": "markdown",
   "metadata": {
    "id": "yX7Xf2Gf9WbC"
   },
   "source": [
    "**b. Variables del modelado**\n",
    "\n",
    "El uso de Simlib, permite facilitar la declaración de variables explícitas, y la definición de los métodos de la simulación. Esto es, porque la propia librería tiene predefinidos múltiples variables y métodos en cada simulación, realizada con esta. Por tanto, muchas de las variables específicas de cada agente, evento o proceso, son manejadas internamente por Simlib, y no tienen que ser escritas en el código. En la siguiente tabla, mostramos las variables usadas de forma explícita en la simulación.\n",
    "\n",
    "| Nombre          | Tipo  | Uso                                                                 |\n",
    "|-----------------|-------|---------------------------------------------------------------------|\n",
    "| sim_time        | Float | Reloj interno del simulador                                         |\n",
    "| system_time     | Float | Tiempo del elemento en el sistema                                   |\n",
    "| next_event_type | Int   | Identificador del tipo de evento que se debe planear a continuación |\n",
    "| maxatr          | Int   | Número máximo de atributos por lista                                |\n",
    "| maxlist         | Int   | Número máximo de listas                                             |\n",
    "\n",
    "Mantenemos las llamadas al reloj interno, y al identificador de tipo de evento. El reloj sigue siendo necesario manejarlo, para especificar el manejo de eventos de esta simulación en particular. Por ejemplo, en este programa que requiere indicar de entrada, el tipo de distribuciones (exponencial o constante) con el que se van a programar las llegadas y servicios de los elementos, es necesario especificar cómo se van a calcular, usando sim_time como referente. Creamos una nueva variable \"system_time\", para realizar seguimiento del tiempo de cada elemento dentro del sistema. Esto es porque, el uso del arreglo transfer es susceptible a que se sobreesciba su contenido, cada vez que se realiza una nueva operación. Por tanto, necesitamos guardar los contenidos necesarios en esta variable, si se quiere hacer el seguimiento del elemento en todos los eventos. El identificador de tipo de evento es necesario para dar forma a la simulación particular. Por ejemplo, es necesario identificar el orden para crear una simulación de dos servicios secuenciales, en vez de paralelos.\n",
    "Finalmente, maxatr y maxlist deben ser definidos en cualquier simulación que utilice simlib. La variable maxatr define el número máximo de atributos de cada lista simlib. Por la manera en la que esta escrito Simlib internamente, el mínimo valor posible de maxatr es 4. Por otra parte, maxlist indica el máximo de listas que se pueden crear en una simulación. El mínimo valor que se puede usar es 25, porque la lista 25 siempre va a ser la lista de eventos.\n"
   ]
  },
  {
   "cell_type": "markdown",
   "metadata": {
    "id": "yX7Xf2Gf9WbC"
   },
   "source": [
    "**c. Descripción del evento y tipo de evento**\n",
    "\n",
    "| Nombre     | Tipo | Uso                                                                                                           |\n",
    "|------------|------|---------------------------------------------------------------------------------------------------------------|\n",
    "| ARRIVAL    | 1    | Llegada de un elemento a la cadena de producción, puede ser atendido o hacer fila si el servidor está ocupado |\n",
    "| DEPARTURE1 | 2    | Terminación del primer servicio. Apenas de termina el Servicio 1, es atendido, o hace fila para el Servicio 2 |\n",
    "| DEPARTURE2 | 3    | Terminación del segundo servicio. Cuando termina el Servicio 2, el elemento sale del sistema                  |\n",
    "\n",
    "La simulación 9, en sus cuatro variantes, es muy parecida al ejercicio de prueba del Capítulo 1 del libro de Averill y Law. La principal diferencia, es que los elementos deben recibir dos servicios, en vez de uno, y para recibir el servicio 2, debe haber terminado el servicio 1. Por esta razón, se definen dos servicios de salida, uno para cada servicio. Sus diferencias, es la manera en la que se maneja el elemento respecto al servicio. Los elementos sólo salen del sistema si se termina el servicio 2. En cambio, la finalización del servicio 1 indica que debe iniciar el servicio 2, el cual tiene una cola infinita, y sólo debe trasladar el elemento a la segunda cola. La cola de llegada al sistema es específica para recibir el servicio 1.\n",
    "\n"
   ]
  },
  {
   "cell_type": "markdown",
   "metadata": {
    "id": "yX7Xf2Gf9WbC"
   },
   "source": [
    "**d. Listas y sus atributos**\n",
    "\n",
    "| Número | Nombre     | Atributo 1                    | Atributo 2     |                                                                              \n",
    "|--------|------------|-------------------------------|----------------|\n",
    "| 1      | QUEUE1     | Tiempo de llegada a la fila 1 |                |\n",
    "| 2      | SERVER1    |                               |                |\n",
    "| 3      | QUEUE2     | Tiempo de llegada a la fila 2 |                |\n",
    "| 4      | SERVER2    |                               |                |\n",
    "| 25     | EVENT_LIST | Tiempo de inicio del evento   | Tipo de evento |\n",
    " \n",
    "Como ya se comentó en el punto anterior, la lista 25 existe en todas las simulaciones de Simlib, y siempre es por defecto la lista de eventos. Por tanto, esta lista guarda dos atibutos por cada evento, el tiempo en el que se registra el evento, y el tipo de evento registrado. Para las otras listas, los argumentos se manejan de forma diferente. Para las listas 1 y 3 (filas), se registra únicamente el tiempo de llegada a la fila. El método arrive registra el tiempo de reloj en QUEUE1 cuando se procesa un evento de llegada, y el servidor 1 está disponible, y el método depart1 hace lo mismo con el evento de salida 1, y el servidor 2 disponible. Por otra parte, las listas 2 y 4 (servidores), únicamente registran un booleano, para indicar si está disponible u ocupado el servidor. Esto lo verifican los métodos arrive y depart1, al consultar si el valor es igual a 1, están preguntando si el servidor 1 y 2 respectivamente están disponibles."
   ]
  },
  {
   "cell_type": "markdown",
   "metadata": {
    "id": "yX7Xf2Gf9WbC"
   },
   "source": [
    "**e. Contadores y/o acumuladores**\n",
    "\n",
    "| Variable                | Tipo            | Descripción                                           | \n",
    "|-------------------------|-----------------|-------------------------------------------------------|\n",
    "| num_custs_delayed       | Contador entero | Clientes que no han sido atendidos de forma inmediata |\n",
    "| num_completed_customers | Contador entero | Clientes que han completado el servicio 2             |\n",
    "\n",
    "Como se comentó en los puntos anteriores, la mayoría de variables y contadores son manejadas internamente por la librería Simlib, al realizar los métodos predefinidos de Simlib. En la simulación sólo se manejan dos contadores, que permiten contar la cantidad de clientes que han sido atendidos."
   ]
  },
  {
   "cell_type": "markdown",
   "metadata": {
    "id": "yX7Xf2Gf9WbC"
   },
   "source": [
    "**f. Medidas de desempeño**\n",
    "\n",
    "| Variable                 | Descripción                                           | \n",
    "|--------------------------|-----------------------------------------------------|\n",
    "| Demora promedio en cola       | Tiempo promedio de espera en cualquiera de las dos colas            |\n",
    "| Demora máxima en cola         | Tiempo máximo de espera registrado en cola |\n",
    "| Demora mínima en cola         | Tiempo mínimo de espera registrado en cola |\n",
    "| Longitud promedio de cola 1   | Contador entero | Clientes que no han sido atendidos de forma inmediata |\n",
    "| Longitud máxima de cola 1     | Contador entero | Clientes que no han sido atendidos de forma inmediata |\n",
    "| Longitud mínima de cola 1     | Contador entero | Clientes que no han sido atendidos de forma inmediata |\n",
    "| Longitud promedio de cola 2   | Contador entero | Clientes que no han sido atendidos de forma inmediata |\n",
    "| Longitud máxima de cola 2     | Contador entero | Clientes que no han sido atendidos de forma inmediata |\n",
    "| Longitud mínima de cola 2     | Contador entero | Clientes que no han sido atendidos de forma inmediata |\n",
    "| Uso promedio del servidor 1   | Contador entero | Clientes que no han sido atendidos de forma inmediata |\n",
    "| Uso máximo del servidor 1     | Contador entero | Clientes que no han sido atendidos de forma inmediata |\n",
    "| Uso mínimo del servidor 1     | Contador entero | Clientes que no han sido atendidos de forma inmediata |\n",
    "| Uso promedio del servidor 2   | Contador entero | Clientes que no han sido atendidos de forma inmediata |\n",
    "| Uso máximo del servidor 2     | Contador entero | Clientes que no han sido atendidos de forma inmediata |\n",
    "| Uso mínimo del servidor 2     | Contador entero | Clientes que no han sido atendidos de forma inmediata |"
   ]
  },
  {
   "cell_type": "markdown",
   "metadata": {
    "id": "yX7Xf2Gf9WbC"
   },
   "source": [
    "**g. Subprogramas y propósito**\n",
    "\n",
    "En la solución presentada, no se crearon subprogramas para las simulaciones. Como tal, era posible crear cuatro archivos separados, especificando las distribuciones de cada corrida. No obstante, en el simulador utilizado para los resultados, se prefirió usar un solo programa, el cual pudiera cambiar las distribuciones entre exponencial y constante, dependiendo del modo que se le suministra."
   ]
  },
  {
   "cell_type": "markdown",
   "metadata": {
    "id": "yX7Xf2Gf9WbC"
   },
   "source": [
    "### 2. Elaborar el diagrama de flujo del programa principal y de cada subprograma que conforma el modelo"
   ]
  },
  {
   "cell_type": "markdown",
   "metadata": {},
   "source": [
    "![Image Description](images_9/arrive2.png)"
   ]
  },
  {
   "cell_type": "markdown",
   "metadata": {},
   "source": [
    "Para la función arrive, tenemos el presente diagrama de flujo. Para este evento, realizamos el mismo proceso de control de flujo, que en el ejemplo correspondiente del ejemplo del Capítulo 1 del libro de Averill y Law, que es, consultar si hay servidores disponibles. No obstante, los pasos que se realizan durante el proceso son diferentes. La principal diferencia es el manejo en el caso de que el servidor esté ocupado. En el flujo original, se especifican todos los pasos de añadir el cliente a la fila. Pero en este caso, sólo es necesario añadir el cliente a la fila, ya que la librería Simlib se encarga del manejo de la fila. Los pasos en el caso de que el servidor esté disponible son los mismos del evento original."
   ]
  },
  {
   "cell_type": "markdown",
   "metadata": {},
   "source": [
    "![Image Description](images_9/depart1_2.png)"
   ]
  },
  {
   "cell_type": "markdown",
   "metadata": {},
   "source": [
    "Para la función depart_1, toca mezclar la lógica de la llegada con la lógica de salida convencional. Esto es porque el evento de salida del servicio 1, requiere manejar también la llegada al servicio 2. Los clientes que hayan terminado el servicio 1, intentarán obtener el servicio 2 de manera inmediata. Si los servidores están ocupados, tendrán que ir a la fila, siguiendo la misma lógica del evento arrive. Para la lógica de salida, hace la misma pregunta que el ejemplo original, si hay clientes esperando en la fila 1. Si hay clientes esperando después de la salida del cliente anterior, se siguen los mismos pasos de manejo de la fila y ejecución del servicio. Si no hay clientes, no es necesario cambiar manualmente la disponibilidad del servidor, porque Simib actualiza el contenido de las listas en cada evento."
   ]
  },
  {
   "cell_type": "markdown",
   "metadata": {},
   "source": [
    "![Image Description](images_9/depart2_2.png)"
   ]
  },
  {
   "cell_type": "markdown",
   "metadata": {},
   "source": [
    "Para la función depart_2, se sigue la misma lógica de salida de un cliente, que se mostró en depart1, sin programar la entrada del cliente saliente a un nuevo servicio, porque una vez terminado el servicio 2, el cliente sale del sistema. La única diferencia es que actualiza el contador num_completed_customers, una vez salen los clientes del sistema. Esto será necesario para las métricas de desempeño."
   ]
  },
  {
   "cell_type": "markdown",
   "metadata": {},
   "source": [
    "![Image Description](images_9/main2.png)"
   ]
  },
  {
   "cell_type": "markdown",
   "metadata": {},
   "source": [
    "No realizamos diagramas de flujo de init_simlib o report, porque son eventos muy secuenciales, y no aportan al entendimiento del modelo de simulación. Para la función main, definimos la entrada de los parámetros, e inicializamos el modelo. La inicializacion es notoriamente más sencilla, porque muchas de las variables y listas que creamos manualmente en el taller 1, son manejadas por la librería Simlib. Para la ejecución de la simulación, sólo debe consultar una variable de detención, en este caso, el tiempo máximo de simulación. En cada ciclo de la simulación, identifica el siguiente evento, el cual es insertando en la lista de eventos por Simlib, sin tener que ser especificada por el programador. Dependiendo del próximo evento, se ejecuta el método correspondiente, y se programa el siguiente evento mientras no se haya cumplido el tiempo máximo. Una vez se termina la simulación, se escribe el reporte con las métricas de desempeño."
   ]
  },
  {
   "cell_type": "markdown",
   "metadata": {
    "id": "yX7Xf2Gf9WbC"
   },
   "source": [
    "### 3. Desarrollar el simulador en lenguaje de alto nivel"
   ]
  },
  {
   "cell_type": "code",
   "execution_count": 8,
   "metadata": {
    "colab": {
     "base_uri": "https://localhost:8080/"
    },
    "id": "2_XCHLu09-pN",
    "outputId": "1b6a1238-bc99-49a2-9588-f1ee6584b654"
   },
   "outputs": [
    {
     "name": "stdout",
     "output_type": "stream",
     "text": [
      "Writing parameters_10.txt\n"
     ]
    }
   ],
   "source": [
    "%%writefile parameters_9.txt\n",
    "10 9 10000 1 1 1"
   ]
  },
  {
   "cell_type": "markdown",
   "metadata": {
    "id": "yX7Xf2Gf9WbC"
   },
   "source": [
    "%%writefile simulation_9.c\n",
    "#include \"simlib.h\"\n",
    "\n",
    "#define EVENT_ARRIVAL 1\n",
    "#define EVENT_DEPARTURE1 2\n",
    "#define EVENT_DEPARTURE2 3\n",
    "#define LIST_QUEUE1 1\n",
    "#define LIST_SERVER1 2\n",
    "#define LIST_QUEUE2 3\n",
    "#define LIST_SERVER2 4\n",
    "#define SAMPST_DELAYS 1\n",
    "#define STREAM_INTERARRIVAL 1\n",
    "#define STREAM_SERVICE 2\n",
    "\n",
    "int num_custs_delayed, total_simulation_time, num_completed_customers, \n",
    "distribution_type,servers_level1, servers_level2;\n",
    "float mean_interarrival, mean_service;\n",
    "FILE *infile, *outfile;\n",
    "\n",
    "float get_interarrival_time() {\n",
    "    switch (distribution_type) {\n",
    "        case 1: // Exponential interarrival\n",
    "        case 3:\n",
    "            return expon(mean_interarrival, STREAM_INTERARRIVAL);\n",
    "        case 2: // Constant interarrival\n",
    "        case 4:\n",
    "            return mean_interarrival; // Constant time = mean\n",
    "        default:\n",
    "            return expon(mean_interarrival, STREAM_INTERARRIVAL); // Default to exponential\n",
    "    }\n",
    "}\n",
    "\n",
    "float get_service_time() {\n",
    "    switch (distribution_type) {\n",
    "        case 1: // Exponential service\n",
    "        case 2:\n",
    "            return expon(mean_service, STREAM_SERVICE);\n",
    "        case 3: // Constant service\n",
    "        case 4:\n",
    "            return mean_service; // Constant time = mean\n",
    "        default:\n",
    "            return expon(mean_service, STREAM_SERVICE); // Default to exponential\n",
    "    }\n",
    "}\n",
    "\n",
    "void init_model(void) {\n",
    "    num_custs_delayed = 0;\n",
    "    event_schedule(sim_time + get_interarrival_time(), EVENT_ARRIVAL);\n",
    "}\n",
    "\n",
    "void arrive(void) {\n",
    "    event_schedule(sim_time + get_interarrival_time(), EVENT_ARRIVAL);\n",
    "    \n",
    "    if (list_size[LIST_SERVER1] >= servers_level1) {  // Check against number of servers\n",
    "        transfer[1] = sim_time;\n",
    "        list_file(LAST, LIST_QUEUE1);\n",
    "    }\n",
    "    else {\n",
    "        sampst(0.0, SAMPST_DELAYS);\n",
    "        ++num_custs_delayed;\n",
    "        list_file(FIRST, LIST_SERVER1);\n",
    "        event_schedule(sim_time + get_service_time(), EVENT_DEPARTURE1);\n",
    "    }\n",
    "}\n",
    "\n",
    "void depart1(void) {\n",
    "    if (list_size[LIST_QUEUE1] == 0) {\n",
    "        list_remove(FIRST, LIST_SERVER1);\n",
    "    } else {\n",
    "        list_remove(FIRST, LIST_QUEUE1);\n",
    "        sampst(sim_time - transfer[1], SAMPST_DELAYS);\n",
    "        ++num_custs_delayed;\n",
    "        event_schedule(sim_time + get_service_time(), EVENT_DEPARTURE1);\n",
    "    }\n",
    "\n",
    "    if (list_size[LIST_SERVER2] >= servers_level2) {  // Check against number of servers\n",
    "        transfer[1] = sim_time;\n",
    "        list_file(LAST, LIST_QUEUE2);\n",
    "    }\n",
    "    else {\n",
    "        list_file(FIRST, LIST_SERVER2);\n",
    "        event_schedule(sim_time + get_service_time(), EVENT_DEPARTURE2);\n",
    "    }\n",
    "}\n",
    "\n",
    "void depart2(void) {\n",
    "    if (list_size[LIST_QUEUE2] == 0) {\n",
    "        list_remove(FIRST, LIST_SERVER2);\n",
    "    } else {\n",
    "        list_remove(FIRST, LIST_QUEUE2);\n",
    "        event_schedule(sim_time + get_service_time(), EVENT_DEPARTURE2);\n",
    "    }\n",
    "\n",
    "    ++num_completed_customers;\n",
    "}\n",
    "\n",
    "void report(void) {\n",
    "    fprintf(outfile, \"\\nDelays in queue, in minutes:\\n\");\n",
    "    out_sampst(outfile, SAMPST_DELAYS, SAMPST_DELAYS);\n",
    "    fprintf(outfile, \"\\nQueue length and server utilization:\\n\");\n",
    "    out_filest(outfile, LIST_QUEUE1, LIST_SERVER1);\n",
    "    out_filest(outfile, LIST_QUEUE2, LIST_SERVER2);\n",
    "    fprintf(outfile, \"\\nTime simulation ended:%12.3f minutes\\n\", sim_time);\n",
    "    fprintf(outfile, \"Number of customers completed both services:%8d\\n\", num_completed_customers);\n",
    "    fprintf(outfile, \"Number of servers at level 1: %d\\n\", servers_level1);\n",
    "    fprintf(outfile, \"Number of servers at level 2: %d\\n\", servers_level2);\n",
    "}\n",
    "\n",
    "int main() {\n",
    "    char outfilename[20];\n",
    "\n",
    "    infile = fopen(\"parameters_9.txt\", \"r\");\n",
    "    if (infile == NULL) {\n",
    "        printf(\"Error: cannot open input file parameters_9.txt\\n\");\n",
    "        return 1;\n",
    "    }\n",
    "\n",
    "    // Read input parameters including server counts\n",
    "    fscanf(infile, \"%f %f %d %d %d %d\", \n",
    "           &mean_interarrival, &mean_service, \n",
    "           &total_simulation_time, &distribution_type,\n",
    "           &servers_level1, &servers_level2);\n",
    "\n",
    "    // Generate output filename\n",
    "    sprintf(outfilename, \"report_9_%d.txt\", distribution_type, servers_level1, servers_level2);\n",
    "\n",
    "    outfile = fopen(outfilename, \"w\");\n",
    "    if (outfile == NULL) {\n",
    "        printf(\"Error: cannot open output file %s\\n\", outfilename);\n",
    "        fclose(infile);\n",
    "        return 1;\n",
    "    }\n",
    "\n",
    "    fprintf(outfile, \"Multi-server queueing system using simlib\\n\\n\");\n",
    "    fprintf(outfile, \"Mean interarrival time%11.3f minutes\\n\\n\", mean_interarrival);\n",
    "    fprintf(outfile, \"Mean service time%16.3f minutes\\n\\n\", mean_service);\n",
    "    fprintf(outfile, \"Total simulation time%12d minutes\\n\\n\", total_simulation_time);\n",
    "    fprintf(outfile, \"Distribution type: %d\\n\", distribution_type);\n",
    "    switch (distribution_type) {\n",
    "        case 1:\n",
    "            fprintf(outfile, \"Interarrival: Exponential, Service: Exponential\\n\");\n",
    "            break;\n",
    "        case 2:\n",
    "            fprintf(outfile, \"Interarrival: Constant, Service: Exponential\\n\");\n",
    "            break;\n",
    "        case 3:\n",
    "            fprintf(outfile, \"Interarrival: Exponential, Service: Constant\\n\");\n",
    "            break;\n",
    "        case 4:\n",
    "            fprintf(outfile, \"Interarrival: Constant, Service: Constant\\n\");\n",
    "            break;\n",
    "        default:\n",
    "            fprintf(outfile, \"Invalid distribution type. Defaulting to Exponential/Exponential.\\n\");\n",
    "    }\n",
    "    fprintf(outfile, \"Number of servers at level 1: %d\\n\", servers_level1);\n",
    "    fprintf(outfile, \"Number of servers at level 2: %d\\n\\n\", servers_level2);\n",
    "\n",
    "    maxatr = 4;\n",
    "    maxlist = 26;\n",
    "    init_simlib();\n",
    "    init_model();\n",
    "    while (sim_time < total_simulation_time) {\n",
    "        timing();\n",
    "        switch (next_event_type) {\n",
    "            case EVENT_ARRIVAL:\n",
    "                arrive();\n",
    "                break;\n",
    "            case EVENT_DEPARTURE1:\n",
    "                depart1();\n",
    "                break;\n",
    "            case EVENT_DEPARTURE2:\n",
    "                depart2();\n",
    "                break;\n",
    "        }\n",
    "    }\n",
    "    report();\n",
    "    fclose(infile);\n",
    "    fclose(outfile);\n",
    "\n",
    "    return 0;\n",
    "}"
   ]
  },
  {
   "cell_type": "markdown",
   "metadata": {
    "id": "yX7Xf2Gf9WbC"
   },
   "source": [
    "### 4. Analizar resultados"
   ]
  },
  {
   "cell_type": "code",
   "execution_count": 10,
   "metadata": {
    "colab": {
     "base_uri": "https://localhost:8080/"
    },
    "id": "cZUldD1V-VYX",
    "outputId": "9de7c69b-b304-4837-b7ec-eeea8c8b062e"
   },
   "outputs": [
    {
     "name": "stdout",
     "output_type": "stream",
     "text": [
      "In file included from \u001b[01m\u001b[Ksimlib.h:9\u001b[m\u001b[K,\n",
      "                 from \u001b[01m\u001b[Ksimulation_10.c:74\u001b[m\u001b[K:\n",
      "\u001b[01m\u001b[Ksimlibdefs.h:30:\u001b[m\u001b[K \u001b[01;35m\u001b[Kwarning: \u001b[m\u001b[K\"INFINITY\" redefined\n",
      "   30 | #define INFINITY     1.E30  /* Not really infinity, but a very large number. */\n",
      "      | \n",
      "In file included from \u001b[01m\u001b[Ksimulation_10.c:73\u001b[m\u001b[K:\n",
      "\u001b[01m\u001b[K/usr/include/math.h:91:\u001b[m\u001b[K \u001b[01;36m\u001b[Knote: \u001b[m\u001b[Kthis is the location of the previous definition\n",
      "   91 | #  define INFINITY (__builtin_inff ())\n",
      "      | \n",
      "In file included from \u001b[01m\u001b[Ksimlib.c:9\u001b[m\u001b[K:\n",
      "\u001b[01m\u001b[Ksimlibdefs.h:30:\u001b[m\u001b[K \u001b[01;35m\u001b[Kwarning: \u001b[m\u001b[K\"INFINITY\" redefined\n",
      "   30 | #define INFINITY     1.E30  /* Not really infinity, but a very large number. */\n",
      "      | \n",
      "In file included from \u001b[01m\u001b[Ksimlib.c:8\u001b[m\u001b[K:\n",
      "\u001b[01m\u001b[K/usr/include/math.h:91:\u001b[m\u001b[K \u001b[01;36m\u001b[Knote: \u001b[m\u001b[Kthis is the location of the previous definition\n",
      "   91 | #  define INFINITY (__builtin_inff ())\n",
      "      | \n"
     ]
    }
   ],
   "source": [
    "!gcc simulation_9.c simlib.c -o simulation_9 -lm"
   ]
  },
  {
   "cell_type": "code",
   "execution_count": 11,
   "metadata": {
    "id": "ImJU1lIaBxRw"
   },
   "outputs": [],
   "source": [
    "!./simulation_9"
   ]
  },
  {
   "cell_type": "code",
   "execution_count": 12,
   "metadata": {
    "colab": {
     "base_uri": "https://localhost:8080/"
    },
    "id": "sC46dbTnCtxE",
    "outputId": "28d9da1e-724b-4378-dc02-ddb8a9fe032c"
   },
   "outputs": [
    {
     "ename": "FileNotFoundError",
     "evalue": "[Errno 2] No such file or directory: '/content/report_10.txt'",
     "output_type": "error",
     "traceback": [
      "\u001b[31m---------------------------------------------------------------------------\u001b[39m",
      "\u001b[31mFileNotFoundError\u001b[39m                         Traceback (most recent call last)",
      "\u001b[36mCell\u001b[39m\u001b[36m \u001b[39m\u001b[32mIn[12]\u001b[39m\u001b[32m, line 1\u001b[39m\n\u001b[32m----> \u001b[39m\u001b[32m1\u001b[39m \u001b[38;5;28;01mwith\u001b[39;00m \u001b[38;5;28;43mopen\u001b[39;49m\u001b[43m(\u001b[49m\u001b[33;43m\"\u001b[39;49m\u001b[33;43m/content/report_10.txt\u001b[39;49m\u001b[33;43m\"\u001b[39;49m\u001b[43m,\u001b[49m\u001b[43m \u001b[49m\u001b[33;43m\"\u001b[39;49m\u001b[33;43mr\u001b[39;49m\u001b[33;43m\"\u001b[39;49m\u001b[43m)\u001b[49m \u001b[38;5;28;01mas\u001b[39;00m file:\n\u001b[32m      2\u001b[39m     \u001b[38;5;28mprint\u001b[39m(file.read())\n",
      "\u001b[36mFile \u001b[39m\u001b[32m~/.local/lib/python3.13/site-packages/IPython/core/interactiveshell.py:326\u001b[39m, in \u001b[36m_modified_open\u001b[39m\u001b[34m(file, *args, **kwargs)\u001b[39m\n\u001b[32m    319\u001b[39m \u001b[38;5;28;01mif\u001b[39;00m file \u001b[38;5;129;01min\u001b[39;00m {\u001b[32m0\u001b[39m, \u001b[32m1\u001b[39m, \u001b[32m2\u001b[39m}:\n\u001b[32m    320\u001b[39m     \u001b[38;5;28;01mraise\u001b[39;00m \u001b[38;5;167;01mValueError\u001b[39;00m(\n\u001b[32m    321\u001b[39m         \u001b[33mf\u001b[39m\u001b[33m\"\u001b[39m\u001b[33mIPython won\u001b[39m\u001b[33m'\u001b[39m\u001b[33mt let you open fd=\u001b[39m\u001b[38;5;132;01m{\u001b[39;00mfile\u001b[38;5;132;01m}\u001b[39;00m\u001b[33m by default \u001b[39m\u001b[33m\"\u001b[39m\n\u001b[32m    322\u001b[39m         \u001b[33m\"\u001b[39m\u001b[33mas it is likely to crash IPython. If you know what you are doing, \u001b[39m\u001b[33m\"\u001b[39m\n\u001b[32m    323\u001b[39m         \u001b[33m\"\u001b[39m\u001b[33myou can use builtins\u001b[39m\u001b[33m'\u001b[39m\u001b[33m open.\u001b[39m\u001b[33m\"\u001b[39m\n\u001b[32m    324\u001b[39m     )\n\u001b[32m--> \u001b[39m\u001b[32m326\u001b[39m \u001b[38;5;28;01mreturn\u001b[39;00m \u001b[43mio_open\u001b[49m\u001b[43m(\u001b[49m\u001b[43mfile\u001b[49m\u001b[43m,\u001b[49m\u001b[43m \u001b[49m\u001b[43m*\u001b[49m\u001b[43margs\u001b[49m\u001b[43m,\u001b[49m\u001b[43m \u001b[49m\u001b[43m*\u001b[49m\u001b[43m*\u001b[49m\u001b[43mkwargs\u001b[49m\u001b[43m)\u001b[49m\n",
      "\u001b[31mFileNotFoundError\u001b[39m: [Errno 2] No such file or directory: '/content/report_10.txt'"
     ]
    }
   ],
   "source": [
    "with open(\"report_9_1.txt\", \"r\") as file:\n",
    "    print(file.read())\n"
   ]
  },
  {
   "cell_type": "markdown",
   "metadata": {
    "id": "yX7Xf2Gf9WbC"
   },
   "source": [
    "**a.\tCorrida 1: tiempo entre llegada y de servicio exponenciales**"
   ]
  },
  {
   "cell_type": "markdown",
   "metadata": {
    "id": "yX7Xf2Gf9WbC"
   },
   "source": [
    "Multi-server queueing system using simlib\n",
    "\n",
    "Mean interarrival time     10.000 minutes\n",
    "\n",
    "Mean service time           9.000 minutes\n",
    "\n",
    "Total simulation time       10000 minutes\n",
    "\n",
    "Distribution type: 1\n",
    "Interarrival: Exponential, Service: Exponential\n",
    "Number of servers at level 1: 1\n",
    "Number of servers at level 2: 1\n",
    "\n",
    "\n",
    "Delays in queue, in minutes:\n",
    "\n",
    " sampst                         Number\n",
    "variable                          of\n",
    " number       Average           values          Maximum          Minimum\n",
    "________________________________________________________________________\n",
    "\n",
    "    1         121.123          1014.00          349.119          0.00000 \n",
    "________________________________________________________________________\n",
    "\n",
    "\n",
    "\n",
    "Queue length and server utilization:\n",
    "\n",
    "  File         Time\n",
    " number       average          Maximum          Minimum\n",
    "_______________________________________________________\n",
    "\n",
    "    1         12.2813          37.0000          0.00000 \n",
    "\n",
    "    2        0.925342          1.00000          0.00000 \n",
    "_______________________________________________________\n",
    "\n",
    "\n",
    "\n",
    "  File         Time\n",
    " number       average          Maximum          Minimum\n",
    "_______________________________________________________\n",
    "\n",
    "    3         5.06968          28.0000          0.00000 \n",
    "\n",
    "    4        0.862937          1.00000          0.00000 \n",
    "_______________________________________________________\n",
    "\n",
    "\n",
    "\n",
    "Time simulation ended:   10000.495 minutes\n",
    "Number of customers completed both services:    1006\n",
    "Number of servers at level 1: 1\n",
    "Number of servers at level 2: 1\n"
   ]
  },
  {
   "cell_type": "markdown",
   "metadata": {
    "id": "yX7Xf2Gf9WbC"
   },
   "source": [
    "**b.\tCorrida 2: Tiempo entre llegada constantes y tiempos de servicio exponenciales**"
   ]
  },
  {
   "cell_type": "code",
   "execution_count": 8,
   "metadata": {
    "colab": {
     "base_uri": "https://localhost:8080/"
    },
    "id": "2_XCHLu09-pN",
    "outputId": "1b6a1238-bc99-49a2-9588-f1ee6584b654"
   },
   "outputs": [
    {
     "name": "stdout",
     "output_type": "stream",
     "text": [
      "Writing parameters_10.txt\n"
     ]
    }
   ],
   "source": [
    "%%writefile parameters_9.txt\n",
    "10 9 10000 2 1 1"
   ]
  },
  {
   "cell_type": "code",
   "execution_count": 11,
   "metadata": {
    "id": "ImJU1lIaBxRw"
   },
   "outputs": [],
   "source": [
    "!./simulation_9"
   ]
  },
  {
   "cell_type": "code",
   "execution_count": 12,
   "metadata": {
    "colab": {
     "base_uri": "https://localhost:8080/"
    },
    "id": "sC46dbTnCtxE",
    "outputId": "28d9da1e-724b-4378-dc02-ddb8a9fe032c"
   },
   "outputs": [
    {
     "ename": "FileNotFoundError",
     "evalue": "[Errno 2] No such file or directory: '/content/report_10.txt'",
     "output_type": "error",
     "traceback": [
      "\u001b[31m---------------------------------------------------------------------------\u001b[39m",
      "\u001b[31mFileNotFoundError\u001b[39m                         Traceback (most recent call last)",
      "\u001b[36mCell\u001b[39m\u001b[36m \u001b[39m\u001b[32mIn[12]\u001b[39m\u001b[32m, line 1\u001b[39m\n\u001b[32m----> \u001b[39m\u001b[32m1\u001b[39m \u001b[38;5;28;01mwith\u001b[39;00m \u001b[38;5;28;43mopen\u001b[39;49m\u001b[43m(\u001b[49m\u001b[33;43m\"\u001b[39;49m\u001b[33;43m/content/report_10.txt\u001b[39;49m\u001b[33;43m\"\u001b[39;49m\u001b[43m,\u001b[49m\u001b[43m \u001b[49m\u001b[33;43m\"\u001b[39;49m\u001b[33;43mr\u001b[39;49m\u001b[33;43m\"\u001b[39;49m\u001b[43m)\u001b[49m \u001b[38;5;28;01mas\u001b[39;00m file:\n\u001b[32m      2\u001b[39m     \u001b[38;5;28mprint\u001b[39m(file.read())\n",
      "\u001b[36mFile \u001b[39m\u001b[32m~/.local/lib/python3.13/site-packages/IPython/core/interactiveshell.py:326\u001b[39m, in \u001b[36m_modified_open\u001b[39m\u001b[34m(file, *args, **kwargs)\u001b[39m\n\u001b[32m    319\u001b[39m \u001b[38;5;28;01mif\u001b[39;00m file \u001b[38;5;129;01min\u001b[39;00m {\u001b[32m0\u001b[39m, \u001b[32m1\u001b[39m, \u001b[32m2\u001b[39m}:\n\u001b[32m    320\u001b[39m     \u001b[38;5;28;01mraise\u001b[39;00m \u001b[38;5;167;01mValueError\u001b[39;00m(\n\u001b[32m    321\u001b[39m         \u001b[33mf\u001b[39m\u001b[33m\"\u001b[39m\u001b[33mIPython won\u001b[39m\u001b[33m'\u001b[39m\u001b[33mt let you open fd=\u001b[39m\u001b[38;5;132;01m{\u001b[39;00mfile\u001b[38;5;132;01m}\u001b[39;00m\u001b[33m by default \u001b[39m\u001b[33m\"\u001b[39m\n\u001b[32m    322\u001b[39m         \u001b[33m\"\u001b[39m\u001b[33mas it is likely to crash IPython. If you know what you are doing, \u001b[39m\u001b[33m\"\u001b[39m\n\u001b[32m    323\u001b[39m         \u001b[33m\"\u001b[39m\u001b[33myou can use builtins\u001b[39m\u001b[33m'\u001b[39m\u001b[33m open.\u001b[39m\u001b[33m\"\u001b[39m\n\u001b[32m    324\u001b[39m     )\n\u001b[32m--> \u001b[39m\u001b[32m326\u001b[39m \u001b[38;5;28;01mreturn\u001b[39;00m \u001b[43mio_open\u001b[49m\u001b[43m(\u001b[49m\u001b[43mfile\u001b[49m\u001b[43m,\u001b[49m\u001b[43m \u001b[49m\u001b[43m*\u001b[49m\u001b[43margs\u001b[49m\u001b[43m,\u001b[49m\u001b[43m \u001b[49m\u001b[43m*\u001b[49m\u001b[43m*\u001b[49m\u001b[43mkwargs\u001b[49m\u001b[43m)\u001b[49m\n",
      "\u001b[31mFileNotFoundError\u001b[39m: [Errno 2] No such file or directory: '/content/report_10.txt'"
     ]
    }
   ],
   "source": [
    "with open(\"report_9_2.txt\", \"r\") as file:\n",
    "    print(file.read())\n"
   ]
  },
  {
   "cell_type": "markdown",
   "metadata": {
    "id": "yX7Xf2Gf9WbC"
   },
   "source": [
    "Multi-server queueing system using simlib\n",
    "\n",
    "Mean interarrival time     10.000 minutes\n",
    "\n",
    "Mean service time           9.000 minutes\n",
    "\n",
    "Total simulation time       10000 minutes\n",
    "\n",
    "Distribution type: 2\n",
    "Interarrival: Constant, Service: Exponential\n",
    "Number of servers at level 1: 1\n",
    "Number of servers at level 2: 1\n",
    "\n",
    "\n",
    "Delays in queue, in minutes:\n",
    "\n",
    " sampst                         Number\n",
    "variable                          of\n",
    " number       Average           values          Maximum          Minimum\n",
    "________________________________________________________________________\n",
    "\n",
    "    1         36.6710          998.000          148.308          0.00000 \n",
    "________________________________________________________________________\n",
    "\n",
    "\n",
    "\n",
    "Queue length and server utilization:\n",
    "\n",
    "  File         Time\n",
    " number       average          Maximum          Minimum\n",
    "_______________________________________________________\n",
    "\n",
    "    1         3.66076          15.0000          0.00000 \n",
    "\n",
    "    2        0.894527          1.00000          0.00000 \n",
    "_______________________________________________________\n",
    "\n",
    "\n",
    "\n",
    "  File         Time\n",
    " number       average          Maximum          Minimum\n",
    "_______________________________________________________\n",
    "\n",
    "    3         3.54243          25.0000          0.00000 \n",
    "\n",
    "    4        0.864306          1.00000          0.00000 \n",
    "_______________________________________________________\n",
    "\n",
    "\n",
    "\n",
    "Time simulation ended:   10000.000 minutes\n",
    "Number of customers completed both services:     993\n",
    "Number of servers at level 1: 1\n",
    "Number of servers at level 2: 1\n"
   ]
  },
  {
   "cell_type": "markdown",
   "metadata": {
    "id": "yX7Xf2Gf9WbC"
   },
   "source": [
    "**c.\tCorrida 3: Tiempo entre llegadas exponenciales y tiempo de servicio constantes**"
   ]
  },
  {
   "cell_type": "code",
   "execution_count": 8,
   "metadata": {
    "colab": {
     "base_uri": "https://localhost:8080/"
    },
    "id": "2_XCHLu09-pN",
    "outputId": "1b6a1238-bc99-49a2-9588-f1ee6584b654"
   },
   "outputs": [
    {
     "name": "stdout",
     "output_type": "stream",
     "text": [
      "Writing parameters_10.txt\n"
     ]
    }
   ],
   "source": [
    "%%writefile parameters_9.txt\n",
    "10 9 10000 3 1 1"
   ]
  },
  {
   "cell_type": "code",
   "execution_count": 11,
   "metadata": {
    "id": "ImJU1lIaBxRw"
   },
   "outputs": [],
   "source": [
    "!./simulation_9"
   ]
  },
  {
   "cell_type": "code",
   "execution_count": 12,
   "metadata": {
    "colab": {
     "base_uri": "https://localhost:8080/"
    },
    "id": "sC46dbTnCtxE",
    "outputId": "28d9da1e-724b-4378-dc02-ddb8a9fe032c"
   },
   "outputs": [
    {
     "ename": "FileNotFoundError",
     "evalue": "[Errno 2] No such file or directory: '/content/report_10.txt'",
     "output_type": "error",
     "traceback": [
      "\u001b[31m---------------------------------------------------------------------------\u001b[39m",
      "\u001b[31mFileNotFoundError\u001b[39m                         Traceback (most recent call last)",
      "\u001b[36mCell\u001b[39m\u001b[36m \u001b[39m\u001b[32mIn[12]\u001b[39m\u001b[32m, line 1\u001b[39m\n\u001b[32m----> \u001b[39m\u001b[32m1\u001b[39m \u001b[38;5;28;01mwith\u001b[39;00m \u001b[38;5;28;43mopen\u001b[39;49m\u001b[43m(\u001b[49m\u001b[33;43m\"\u001b[39;49m\u001b[33;43m/content/report_10.txt\u001b[39;49m\u001b[33;43m\"\u001b[39;49m\u001b[43m,\u001b[49m\u001b[43m \u001b[49m\u001b[33;43m\"\u001b[39;49m\u001b[33;43mr\u001b[39;49m\u001b[33;43m\"\u001b[39;49m\u001b[43m)\u001b[49m \u001b[38;5;28;01mas\u001b[39;00m file:\n\u001b[32m      2\u001b[39m     \u001b[38;5;28mprint\u001b[39m(file.read())\n",
      "\u001b[36mFile \u001b[39m\u001b[32m~/.local/lib/python3.13/site-packages/IPython/core/interactiveshell.py:326\u001b[39m, in \u001b[36m_modified_open\u001b[39m\u001b[34m(file, *args, **kwargs)\u001b[39m\n\u001b[32m    319\u001b[39m \u001b[38;5;28;01mif\u001b[39;00m file \u001b[38;5;129;01min\u001b[39;00m {\u001b[32m0\u001b[39m, \u001b[32m1\u001b[39m, \u001b[32m2\u001b[39m}:\n\u001b[32m    320\u001b[39m     \u001b[38;5;28;01mraise\u001b[39;00m \u001b[38;5;167;01mValueError\u001b[39;00m(\n\u001b[32m    321\u001b[39m         \u001b[33mf\u001b[39m\u001b[33m\"\u001b[39m\u001b[33mIPython won\u001b[39m\u001b[33m'\u001b[39m\u001b[33mt let you open fd=\u001b[39m\u001b[38;5;132;01m{\u001b[39;00mfile\u001b[38;5;132;01m}\u001b[39;00m\u001b[33m by default \u001b[39m\u001b[33m\"\u001b[39m\n\u001b[32m    322\u001b[39m         \u001b[33m\"\u001b[39m\u001b[33mas it is likely to crash IPython. If you know what you are doing, \u001b[39m\u001b[33m\"\u001b[39m\n\u001b[32m    323\u001b[39m         \u001b[33m\"\u001b[39m\u001b[33myou can use builtins\u001b[39m\u001b[33m'\u001b[39m\u001b[33m open.\u001b[39m\u001b[33m\"\u001b[39m\n\u001b[32m    324\u001b[39m     )\n\u001b[32m--> \u001b[39m\u001b[32m326\u001b[39m \u001b[38;5;28;01mreturn\u001b[39;00m \u001b[43mio_open\u001b[49m\u001b[43m(\u001b[49m\u001b[43mfile\u001b[49m\u001b[43m,\u001b[49m\u001b[43m \u001b[49m\u001b[43m*\u001b[49m\u001b[43margs\u001b[49m\u001b[43m,\u001b[49m\u001b[43m \u001b[49m\u001b[43m*\u001b[49m\u001b[43m*\u001b[49m\u001b[43mkwargs\u001b[49m\u001b[43m)\u001b[49m\n",
      "\u001b[31mFileNotFoundError\u001b[39m: [Errno 2] No such file or directory: '/content/report_10.txt'"
     ]
    }
   ],
   "source": [
    "with open(\"report_9_3.txt\", \"r\") as file:\n",
    "    print(file.read())\n"
   ]
  },
  {
   "cell_type": "markdown",
   "metadata": {
    "id": "yX7Xf2Gf9WbC"
   },
   "source": [
    "Multi-server queueing system using simlib\n",
    "\n",
    "Mean interarrival time     10.000 minutes\n",
    "\n",
    "Mean service time           9.000 minutes\n",
    "\n",
    "Total simulation time       10000 minutes\n",
    "\n",
    "Distribution type: 3\n",
    "Interarrival: Exponential, Service: Constant\n",
    "Number of servers at level 1: 1\n",
    "Number of servers at level 2: 1\n",
    "\n",
    "\n",
    "Delays in queue, in minutes:\n",
    "\n",
    " sampst                         Number\n",
    "variable                          of\n",
    " number       Average           values          Maximum          Minimum\n",
    "________________________________________________________________________\n",
    "\n",
    "    1         47.3141          1015.00          208.489          0.00000 \n",
    "________________________________________________________________________\n",
    "\n",
    "\n",
    "\n",
    "Queue length and server utilization:\n",
    "\n",
    "  File         Time\n",
    " number       average          Maximum          Minimum\n",
    "_______________________________________________________\n",
    "\n",
    "    1         4.79695          24.0000          0.00000 \n",
    "\n",
    "    2        0.911567          1.00000          0.00000 \n",
    "_______________________________________________________\n",
    "\n",
    "\n",
    "\n",
    "  File         Time\n",
    " number       average          Maximum          Minimum\n",
    "_______________________________________________________\n",
    "\n",
    "    3         0.00000          1.00000          0.00000 \n",
    "\n",
    "    4        0.911567          1.00000          0.00000 \n",
    "_______________________________________________________\n",
    "\n",
    "\n",
    "\n",
    "Time simulation ended:   10011.330 minutes\n",
    "Number of customers completed both services:    1014\n",
    "Number of servers at level 1: 1\n",
    "Number of servers at level 2: 1\n"
   ]
  },
  {
   "cell_type": "markdown",
   "metadata": {
    "id": "yX7Xf2Gf9WbC"
   },
   "source": [
    "**d.\tCorrida 4: Tiempo entre llegadas constantes y tiempos de servicio constantes**"
   ]
  },
  {
   "cell_type": "code",
   "execution_count": 8,
   "metadata": {
    "colab": {
     "base_uri": "https://localhost:8080/"
    },
    "id": "2_XCHLu09-pN",
    "outputId": "1b6a1238-bc99-49a2-9588-f1ee6584b654"
   },
   "outputs": [
    {
     "name": "stdout",
     "output_type": "stream",
     "text": [
      "Writing parameters_10.txt\n"
     ]
    }
   ],
   "source": [
    "%%writefile parameters_9.txt\n",
    "10 9 10000 4 1 1"
   ]
  },
  {
   "cell_type": "code",
   "execution_count": 11,
   "metadata": {
    "id": "ImJU1lIaBxRw"
   },
   "outputs": [],
   "source": [
    "!./simulation_9"
   ]
  },
  {
   "cell_type": "code",
   "execution_count": 12,
   "metadata": {
    "colab": {
     "base_uri": "https://localhost:8080/"
    },
    "id": "sC46dbTnCtxE",
    "outputId": "28d9da1e-724b-4378-dc02-ddb8a9fe032c"
   },
   "outputs": [
    {
     "ename": "FileNotFoundError",
     "evalue": "[Errno 2] No such file or directory: '/content/report_10.txt'",
     "output_type": "error",
     "traceback": [
      "\u001b[31m---------------------------------------------------------------------------\u001b[39m",
      "\u001b[31mFileNotFoundError\u001b[39m                         Traceback (most recent call last)",
      "\u001b[36mCell\u001b[39m\u001b[36m \u001b[39m\u001b[32mIn[12]\u001b[39m\u001b[32m, line 1\u001b[39m\n\u001b[32m----> \u001b[39m\u001b[32m1\u001b[39m \u001b[38;5;28;01mwith\u001b[39;00m \u001b[38;5;28;43mopen\u001b[39;49m\u001b[43m(\u001b[49m\u001b[33;43m\"\u001b[39;49m\u001b[33;43m/content/report_10.txt\u001b[39;49m\u001b[33;43m\"\u001b[39;49m\u001b[43m,\u001b[49m\u001b[43m \u001b[49m\u001b[33;43m\"\u001b[39;49m\u001b[33;43mr\u001b[39;49m\u001b[33;43m\"\u001b[39;49m\u001b[43m)\u001b[49m \u001b[38;5;28;01mas\u001b[39;00m file:\n\u001b[32m      2\u001b[39m     \u001b[38;5;28mprint\u001b[39m(file.read())\n",
      "\u001b[36mFile \u001b[39m\u001b[32m~/.local/lib/python3.13/site-packages/IPython/core/interactiveshell.py:326\u001b[39m, in \u001b[36m_modified_open\u001b[39m\u001b[34m(file, *args, **kwargs)\u001b[39m\n\u001b[32m    319\u001b[39m \u001b[38;5;28;01mif\u001b[39;00m file \u001b[38;5;129;01min\u001b[39;00m {\u001b[32m0\u001b[39m, \u001b[32m1\u001b[39m, \u001b[32m2\u001b[39m}:\n\u001b[32m    320\u001b[39m     \u001b[38;5;28;01mraise\u001b[39;00m \u001b[38;5;167;01mValueError\u001b[39;00m(\n\u001b[32m    321\u001b[39m         \u001b[33mf\u001b[39m\u001b[33m\"\u001b[39m\u001b[33mIPython won\u001b[39m\u001b[33m'\u001b[39m\u001b[33mt let you open fd=\u001b[39m\u001b[38;5;132;01m{\u001b[39;00mfile\u001b[38;5;132;01m}\u001b[39;00m\u001b[33m by default \u001b[39m\u001b[33m\"\u001b[39m\n\u001b[32m    322\u001b[39m         \u001b[33m\"\u001b[39m\u001b[33mas it is likely to crash IPython. If you know what you are doing, \u001b[39m\u001b[33m\"\u001b[39m\n\u001b[32m    323\u001b[39m         \u001b[33m\"\u001b[39m\u001b[33myou can use builtins\u001b[39m\u001b[33m'\u001b[39m\u001b[33m open.\u001b[39m\u001b[33m\"\u001b[39m\n\u001b[32m    324\u001b[39m     )\n\u001b[32m--> \u001b[39m\u001b[32m326\u001b[39m \u001b[38;5;28;01mreturn\u001b[39;00m \u001b[43mio_open\u001b[49m\u001b[43m(\u001b[49m\u001b[43mfile\u001b[49m\u001b[43m,\u001b[49m\u001b[43m \u001b[49m\u001b[43m*\u001b[49m\u001b[43margs\u001b[49m\u001b[43m,\u001b[49m\u001b[43m \u001b[49m\u001b[43m*\u001b[49m\u001b[43m*\u001b[49m\u001b[43mkwargs\u001b[49m\u001b[43m)\u001b[49m\n",
      "\u001b[31mFileNotFoundError\u001b[39m: [Errno 2] No such file or directory: '/content/report_10.txt'"
     ]
    }
   ],
   "source": [
    "with open(\"report_9_4.txt\", \"r\") as file:\n",
    "    print(file.read())\n"
   ]
  },
  {
   "cell_type": "markdown",
   "metadata": {
    "id": "yX7Xf2Gf9WbC"
   },
   "source": [
    "Multi-server queueing system using simlib\n",
    "\n",
    "Mean interarrival time     10.000 minutes\n",
    "\n",
    "Mean service time           9.000 minutes\n",
    "\n",
    "Total simulation time       10000 minutes\n",
    "\n",
    "Distribution type: 4\n",
    "Interarrival: Constant, Service: Constant\n",
    "Number of servers at level 1: 1\n",
    "Number of servers at level 2: 1\n",
    "\n",
    "\n",
    "Delays in queue, in minutes:\n",
    "\n",
    " sampst                         Number\n",
    "variable                          of\n",
    " number       Average           values          Maximum          Minimum\n",
    "________________________________________________________________________\n",
    "\n",
    "    1         0.00000          1000.00          0.00000          0.00000 \n",
    "________________________________________________________________________\n",
    "\n",
    "\n",
    "\n",
    "Queue length and server utilization:\n",
    "\n",
    "  File         Time\n",
    " number       average          Maximum          Minimum\n",
    "_______________________________________________________\n",
    "\n",
    "    1         0.00000     -1.00000E+30      1.00000E+30 \n",
    "\n",
    "    2        0.899100          1.00000          0.00000 \n",
    "_______________________________________________________\n",
    "\n",
    "\n",
    "\n",
    "  File         Time\n",
    " number       average          Maximum          Minimum\n",
    "_______________________________________________________\n",
    "\n",
    "    3         0.00000     -1.00000E+30      1.00000E+30 \n",
    "\n",
    "    4        0.898300          1.00000          0.00000 \n",
    "_______________________________________________________\n",
    "\n",
    "\n",
    "\n",
    "Time simulation ended:   10000.000 minutes\n",
    "Number of customers completed both services:     998\n",
    "Number of servers at level 1: 1\n",
    "Number of servers at level 2: 1\n"
   ]
  },
  {
   "cell_type": "markdown",
   "metadata": {
    "id": "yX7Xf2Gf9WbC"
   },
   "source": [
    "**e. Análisis de resultados**\n",
    "\n",
    "En esta sección, acabamos de mostrar cómo se realizan reportes de rendimiento para las cuatro corridas requeridas para el ejercicio. En la siguiente tabla, comparamos las corridas realizadas durante el desarrollo de este taller. Se pueden confirmar estos valores en el repositorio oficial del taller:\n",
    "| Métrica            | Exponencial/Exponencial | Constante/Exponencial | Exponencial/Constante | Constante/Constante |\n",
    "|--------------------|-------------------------|-----------------------|-----------------------|---------------------|\n",
    "| Demora total       | 197.448 (0.9-603.5)     | 124.112 (3.3-286.1)   | 65.3607 (18-226.5)    | 18 (18-18)          |\n",
    "| Demora cola 1      | 70.3611 (0-270.2)       | 34.0812 (0-212.6)     | 47.3141 (0-208.5)     | 0                   |\n",
    "| Demora cola 2      | 109.225 (0-520.8)       | 72.1279 (0-235.2)     | 0                     | 0                   |\n",
    "| Longitud fila 1    | 7.13311 (0-26)          | 3.40471 (0-22)        | 4.79695 (0-24)        | 0                   |\n",
    "| Longitud fila 2    | 11.0731 (0-57)          | 7.17686 (0-25)        | 0                     | 0                   |\n",
    "| Uso servidor 1     | 90.6411%                | 84.8335%              | 91.1567%              | 89.91%              |\n",
    "| Uso servidor 2     | 88.6811%                | 91.0061%              | 91.1567%              | 89.83%              |\n",
    "| Clientes atendidos | 1013                    | 992                   | 1014                  | 998                 |\n",
    "\n",
    "Primero, debemos confirmar que estos valores sean coherentes con las características de cada corrida. Se observa que, en general, la simulación con tiempos de llegada y servicio constante, es la más eficiente, ya que evita la formación de colas, y la demora total promedio de los clientes es la más baja de las cuatro corridas (18). Por otra parte, la primera corrida, la de tiempos exponenciales, es la que tiene mayor tiempo de demora en atención al cliente, así como las demoras más largas en la cola, y los peores casos más exagerados. \n",
    "El resultado de la corrida 4 tan exacto es coherente. El tiempo de demora total no considera el tiempo entre llegadas de cada cliente. Por tanto, el tiempo de demora total es, el tiempo de ambos servicios, más el tiempo de espera en ambas colas. Si el tiempo de servicio es constante (9 minutos), y ambos servicios son iguales, un tiempo promedio de demora de 18 minutos indica que no hubo demora en cola, que es exactamente lo que se observa en las demoras de cada cola. Tiene sentido que no se genere nunca cola en esta simulación, porque el tiempo entre llegadas es constante, y mayor al tiempo de servicio, por lo que siempre se libera el servidor antes de que llegue un nuevo cliente.\n",
    "Por otra parte, la diferencia entre los casos exponenciales con los constantes también es coherente. Aunque el promedio de llegada, como el de servicio, son iguales en ambas distribuciones, la variabilidad en la distribución exponencial es mucho mayor. Esto implica, que van a existir casos de demoras en servicio, así como tiempos de llegada inusualmente rápidos La presencia de casos anómalos a lo largo de la simulación van a generar retrasos, que se manifiestan como el crecimiento de las colas. Incluso en el peor caso (Corrida 1), el promedio de longitud de fila no es tan grande (7 y 11 respectivamente), pero los máximos registrados muestran que existen momentos específicos en los que las colas crecen significativamente, y por tanto, los tiempos de espera resultantes. Cualquier situación de tiempo de llegada menor a alguno de los dos tiempos de servicio de los dos servidores generará un retraso, que se va a ir acumulando en los clientes posteriores.\n",
    "Comparando la corrida 2 con la corrida 3, observamos que hacer constante el tiempo de servicio, tiene mejores resultados que hacer constante el tiempo de espera. Esto también tiene sentido, ya que el tiempo de servicio tiene un mayor impacto en la simulación general, al presentar dos servidores de manera secuencial. No solo es (en el caso óptimo), más demorado atender un cliente en ambos servidores, que esperar a un nuevo cliente, sino que además, una demora en cualquiera de los dos servidores va a generar un retraso en el servicio. Por eso se observa que la Corrida 3 no tiene fila para el servicio 2. Como los tiempos son constantes, la llegada de clientes al servicio 2 depende exclusivamente de la llegada y resolución de la cola al servicio 1. Una vez se inicia el servicio 1, el tiempo de servicio total es constante, y será más rápido que el proceso de desencolar al servicio 1.\n",
    "Finalmente, llama la atención que, aunque el tiempo de espera por cliente difiere significativamente en cada corrida, el número de clientes atendidos se mantiene constante. Esto se explica por el porcentaje de uso del servidor. Aunque el tiempo de espera del cliente sea distinto, el tiempo de atención promedio se mantiene constante. Esto se observa porque en las cuatro corridas, el uso de los servidores es casi constante. Lo que espera observarse, es que la fila pendiente al final de la simulación de la corrida 1, sea mayor que la fila de las corridas 3 y 4 (que nunca se encola), pero el tiempo que demora cada servidor en atender a los clientes, se mantiene muy constante. "
   ]
  },
  {
   "cell_type": "markdown",
   "metadata": {
    "id": "yX7Xf2Gf9WbC"
   },
   "source": [
    "### 5. Plantear modificaciones\n",
    "\n",
    "Para el proceso de modificaciones, vamos a realizar experimentos únicamente en parámetros que se presume, pueden ser modificados por el sistema. Por ejemplo, el tiempo de llegada de clientes (y su distribución), no es dependiente del funcionamiento de su sistema, y se presume que no puede ser modificado por acciones reales del sistema. Por tanto, nos vamos a enfocar en dos variables, el número de servidores, y el tiempo promedio de servicio. Comparar estas dos variables, nos permite asesorar, por ejemplo, si es más eficiente poner una nueva máquina (en el caso de que sea una planta de ensamblaje, equivalente a duplicar servidores), o si es más eficiente reemplazar la máquina existente por una más rápida (disminuyendo el tiempo de servicio). También es importante determinar cuál de las dos máquinas vale más la pena duplicar o reemplazar. A continuación, mostramos las corridas para el modo 1, con las modificaciones pertinentes:"
   ]
  },
  {
   "cell_type": "markdown",
   "metadata": {
    "id": "yX7Xf2Gf9WbC"
   },
   "source": [
    "## Simpy"
   ]
  },
  {
   "cell_type": "markdown",
   "metadata": {
    "id": "yX7Xf2Gf9WbC"
   },
   "source": [
    "### 1. Definir:"
   ]
  },
  {
   "cell_type": "markdown",
   "metadata": {
    "id": "yX7Xf2Gf9WbC"
   },
   "source": [
    "**a. Parámetros de entrada**\n",
    "\n",
    "\n",
    "| Nombre                | Parámetro                                                   |\n",
    "|-----------------------|-------------------------------------------------------------|\n",
    "| mean_interarrival     | Tiempo promedio de llegada entre elementos                  |\n",
    "| mean_service          | Tiempo promedio de servicio en cada uno de los dos procesos |\n",
    "| total_simulation_time | Tiempo total de la simulación                               |\n",
    "| distribution_type     | Tipo de distribuciones usadas en la simulación              |\n",
    "| servers_level1        | Número de servidores del servicio 1                         |\n",
    "| servers_level2        | Número de servidores del servicio 2                         |\n",
    "\n",
    "\n",
    "| Valor | mean_interarrival | mean_service |\n",
    "|-------|-------------------|--------------|\n",
    "| 1     | Exponencial       | Exponencial  |\n",
    "| 2     | Constante         | Exponencial  |\n",
    "| 3     | Exponencial       | Constante    |\n",
    "| 4     | Constante         | Constante    |\n",
    "\n",
    "Los parámetros que usa el programa de entrada en Simpy son los mismos que se usaron para la simulación en Simlib. Nótese que la variable total_simulation_type no es declarada en el constructor de la clase, porque no es usada por la clase. En cambio, es usada por el ambiente de simulación de SimPy. El ambiente al ejecutarse, recibe este parámetro como \"until\", es decir, que se ejecuta hasta que el reloj interno alcance este valor."
   ]
  },
  {
   "cell_type": "markdown",
   "metadata": {
    "id": "yX7Xf2Gf9WbC"
   },
   "source": [
    "**b. Variables del modelado**\n",
    "\n",
    "El uso de Simlib, permite facilitar la declaración de variables explícitas, y la definición de los métodos de la simulación. Esto es, porque la propia librería tiene predefinidos múltiples variables y métodos en cada simulación, realizada con esta. Por tanto, muchas de las variables específicas de cada agente, evento o proceso, son manejadas internamente por Simlib, y no tienen que ser escritas en el código. En la siguiente tabla, mostramos las variables usadas de forma explícita en la simulación.\n",
    "\n",
    "| Nombre          | Tipo  | Uso                                                                 |\n",
    "|-----------------|-------|---------------------------------------------------------------------|\n",
    "| sim_time        | Float | Reloj interno del simulador                                         |\n",
    "| next_event_type | Int   | Identificador del tipo de evento que se debe planear a continuación |\n",
    "| maxatr          | Int   | Número máximo de atributos por lista                                |\n",
    "| maxlist         | Int   | Número máximo de listas                                             |\n",
    "\n",
    "Mantenemos las llamadas al reloj interno, y al identificador de tipo de evento. El reloj sigue siendo necesario manejarlo, para especificar el manejo de eventos de esta simulación en particular. Por ejemplo, en este programa que requiere indicar de entrada, el tipo de distribuciones (exponencial o constante) con el que se van a programar las llegadas y servicios de los elementos, es necesario especificar cómo se van a calcular, usando sim_time como referente. El identificador de tipo de evento es necesario para dar forma a la simulación particular. Por ejemplo, es necesario identificar el orden para crear una simulación de dos servicios secuenciales, en vez de paralelos.\n",
    "Finalmente, maxatr y maxlist deben ser definidos en cualquier simulación que utilice simlib. La variable maxatr define el número máximo de atributos de cada lista simlib. Por la manera en la que esta escrito Simlib internamente, el mínimo valor posible de maxatr es 4. Por otra parte, maxlist indica el máximo de listas que se pueden crear en una simulación. El mínimo valor que se puede usar es 25, porque la lista 25 siempre va a ser la lista de eventos.\n"
   ]
  },
  {
   "cell_type": "markdown",
   "metadata": {
    "id": "yX7Xf2Gf9WbC"
   },
   "source": [
    "**c. Descripción del proceso y tipo de proceso**\n",
    "\n",
    "| Nombre     | Parámetros | Uso                                                                                                           |\n",
    "|------------|------|---------------------------------------------------------------------------------------------------------------|\n",
    "| customer_generator    | Ninguno    | Crea un cliente (con id), registra su llegada al sistema, ejecuta customer_flow y programa al siguiente cliente|\n",
    "| customer_flow | customer_id, arrival_time   | Registra el ingreso a la fila 1, demora respectiva, tiempo de servicio 1, y el mismo proceso del servicio 2 |\n",
    "| monitor_queues | Ninguno   | Mide la cantidad de clientes haciendo fila en el tiempo                 |\n",
    "| monitor_servers | Ninguno    | Monitorea el uso de cada servidor en el tiempo                |\n",
    "\n",
    "SimPy, a diferencia de Simlib, es una librería de modelado por procesos. Los procesos, son más afines a los hilos de un sistema operativo. Mientras que el sistema por eventos, define los eventos que se deben detectar, y las acciones a realizar cuando ocurre un evento, el modelado por procesos define las acciones que debe realizar cada agente, y construye el hilo que debe seguir cada agente en el modelo. Para este ejemplo, definimos 4 procesos. El proceso principal es \"customer_flow\", que indica el camino que realiza un agente (cliente) en el sistema. Este proceso define cuando entra a la fila 1, la espera al servicio 1, la ejecución del servicio 1, la entrada a la fila 2, la espera del servicio 2, la ejecución del servicio 2, y la salida del sistema. Este proceso recibe un \"cliente\", el cual es generado por el proceso \"customer_generator\" de acuerdo a los tiempos de llegada que reciba la simulación. Una vez se crea un cliente, este realiza el proceso de flujo del cliente. El proceso de \"customer_flow\" también registra los tiempos de espera en fila promedio que se usarán para la evaluación de métricas. Los otros dos modelos se encargan de monitorear la cantidad de clientes haciendo fila, y el uso de servidores respectivamente, lo que también dará un resultado para la evaluación de métricas."
   ]
  },
  {
   "cell_type": "markdown",
   "metadata": {
    "id": "yX7Xf2Gf9WbC"
   },
   "source": [
    "**d. Listas y sus atributos**\n",
    "\n",
    "Nombre     | Llave                | Descripción     |                                                                              \n",
    "------------|-------------------------------|----------------|\n",
    " queue1_delays     |                 | Mide la diferencia entre el tiempo actual, y la llegada del cliente a la cola 1 |\n",
    " queue2_delays    |                    | Mide la diferencia entre el tiempo actual, y la llegada del cliente a la cola 2                |\n",
    " queue1_lengths    |                  | Registra la cantidad de clientes haciendo fila para el servicio 1 cada 6 segundos |\n",
    " queue2_lengths    |                   | Registra la cantidad de clientes haciendo fila para el servicio 2 cada 6 segundos                |\n",
    " server1_busy |  | Registra cada 6 segundos si el servidor 1 está ocupado |\n",
    " server2_busy |  | Registra cada 6 segundos si el servidor 2 está ocupado |\n",
    " queue1_entry_times | customer_id | Registra la entrada a la cola 1 para cada cliente |\n",
    " queue2_entry_times | customer_id | Registra la entrada a la cola 2 para cada cliente |\n",
    " \n",
    "Las listas en SimPy pueden ser arreglos convencionales, o pueden ser diccionarios, dependiendo de si el valor almacenado es específico de un cliente, o no. En el caso de queue1_entry_times y queueu2_entry_times, es necesario asociarlo a cada cliente, para poder monitorear la demora en las filas a lo largo del flujo de cada cliente en específico. Si no estuvieran marcadas, existe la posibilidad de que se registren entradas a la cola para clientes distintos, porque el tiempo de servicio sea diferente. En cambio, las otras listas no deben ser diccionarios, porque todas las mediciones son medidores de rendimiento directos en un punto determinado, y no dependen del seguimiento del cliente para su cálculo."
   ]
  },
  {
   "cell_type": "markdown",
   "metadata": {
    "id": "yX7Xf2Gf9WbC"
   },
   "source": [
    "**e. Contadores y/o acumuladores**\n",
    "\n",
    "| Variable                | Tipo            | Descripción                                           | \n",
    "|-------------------------|-----------------|-------------------------------------------------------|\n",
    "| num_arrivals      | Contador entero | Clientes que no han sido atendidos de forma inmediata |\n",
    "| num_completed| Contador entero | Clientes que han completado el servicio 2             |\n",
    "\n",
    "El uso de contadores no requiere múltiples modificaciones respecto al programa original en Simlib, por lo que se mantiene el sistema original."
   ]
  },
  {
   "cell_type": "markdown",
   "metadata": {
    "id": "yX7Xf2Gf9WbC"
   },
   "source": [
    "**f. Medidas de desempeño**\n",
    "\n",
    "| Variable                 Descripción                                           | \n",
    "|--------------------------------------------------------------------------------|\n",
    "| Demora promedio en cola| Tiempo promedio de espera en cualquiera de las dos colas            |\n",
    "| Demora máxima en cola      | Tiempo máximo de espera registrado en cola |\n",
    "| Demora mínima en cola     | Tiempo mínimo de espera registrado en cola |\n",
    "| Longitud promedio de cola 1    | Contador entero | Clientes que no han sido atendidos de forma inmediata |\n",
    "| Longitud máxima de cola 1      | Contador entero | Clientes que no han sido atendidos de forma inmediata |\n",
    "| Longitud mínima de cola 1      | Contador entero | Clientes que no han sido atendidos de forma inmediata |\n",
    "| Longitud promedio de cola 2    | Contador entero | Clientes que no han sido atendidos de forma inmediata |\n",
    "| Longitud máxima de cola 2      | Contador entero | Clientes que no han sido atendidos de forma inmediata |\n",
    "| Longitud mínima de cola 2      | Contador entero | Clientes que no han sido atendidos de forma inmediata |\n",
    "| Uso promedio del servidor 1    | Contador entero | Clientes que no han sido atendidos de forma inmediata |\n",
    "| Uso máximo del servidor 1      | Contador entero | Clientes que no han sido atendidos de forma inmediata |\n",
    "| Uso mínimo del servidor 1     | Contador entero | Clientes que no han sido atendidos de forma inmediata |\n",
    "| Uso promedio del servidor 2   | Contador entero | Clientes que no han sido atendidos de forma inmediata |\n",
    "| Uso máximo del servidor 2     | Contador entero | Clientes que no han sido atendidos de forma inmediata |\n",
    "| Uso mínimo del servidor 2     | Contador entero | Clientes que no han sido atendidos de forma inmediata |\n",
    "\n",
    "Se usaron los mismos marcadores de rendimiento de Simlib, para poder comparar fielmente los resultados obtenidos en ambos modelos."
   ]
  },
  {
   "cell_type": "markdown",
   "metadata": {
    "id": "yX7Xf2Gf9WbC"
   },
   "source": [
    "**g. Subprogramas y propósito**\n",
    "\n",
    "Igualmente, para este problema se decidieron no realizar subprogramas. Esto, por la misma razón que no se usaron en Simpy. Para la ejecución de la solución en este Notebook, se consideró más práctico hacer el programa flexible a distintos parámetros, y producir una salida distinta según los parámetros, en vez de ejecutar un modelo aparte con modificaciones mínimas."
   ]
  },
  {
   "cell_type": "markdown",
   "metadata": {
    "id": "yX7Xf2Gf9WbC"
   },
   "source": [
    "### 2. Elaborar el diagrama de flujo del programa principal y de cada subprograma que conforma el modelo"
   ]
  },
  {
   "cell_type": "markdown",
   "metadata": {},
   "source": [
    "![Image Description](images_9/customer_flow.png)"
   ]
  },
  {
   "cell_type": "markdown",
   "metadata": {},
   "source": [
    "Para el proceso customer_flow, se modela la secuencia estándar de servicio del cliente a lo largo de nuestra simulación. A diferencia de los eventos, estos procesos no se concentran en las bifurcaciones de flujo, sino en identificar los caminos posibles que puede seguir un cliente en nuestro sistema. Por ejemplo, se puede ver que en este proceso, se condensa el equivalente de arrive, depart1, y depart2 del programa en Simlib. Pero, aunque el diagrama de flujo muestre el bucle en el caso de que algún servidor no esté disponible, realmente no cambia el comportamiento. Esto es porque SimPy usa with y yield. Estas son estructuras de Python que manejan el flujo de los agentes (clientes) en la simulación. La estructura with, permite crear una solicitud, que va a ser enviada a la cola del recurso (server1 y server2 en nuestro ejemplo). La estructura yield, detiene la ejecución del proceso hasta que se apruebe la solicitud creada con with. Entonces, si bien el flujo es distinto si el servidor está disponible u ocupado, en realidad siempre hace lo mismo. La diferencia es el tiempo que le toma al proceso, ejecutar el inicio del servicio de un cliente. Esta demora es registrada por el modelo para el reporte de métricas de desempeño."
   ]
  },
  {
   "cell_type": "markdown",
   "metadata": {},
   "source": [
    "![Image Description](images_9/customer_generator.png)"
   ]
  },
  {
   "cell_type": "markdown",
   "metadata": {},
   "source": [
    "El proceso customer_generator, es en esencia, un contenedor del proceso customer_flow. Si bien customer_flow dicta el flujo del cliente en el sistema, de inicio a fin, customer_generator permite asignarle un flujo a cada cliente. Es necesario separar esto, porque permite asociar todas las marcas de tiempo, e intervalos de demora y servicio a cada cliente en específico, lo que permite un manejo más fidedigno del flujo de cada cliente. Esto es particularmente útil en modelos que incluyen múltiples servicios o servidores de forma paralela, o modelos en los que el camino de un cliente pueda diferir en su orden o longitud. Por tanto, este proceso crea un cliente al momento de agendar la llegada de un nuevo cliente, anota un identificador de cliente, su tiempo de llegada, y crea un proceso customer_flow para ese cliente."
   ]
  },
  {
   "cell_type": "markdown",
   "metadata": {},
   "source": [
    "![Image Description](images_9/run_simulation.png)"
   ]
  },
  {
   "cell_type": "markdown",
   "metadata": {},
   "source": [
    "El proceso run_simulation es el equivalente al programa main del modelo construido con Simlib. Este proceso recibe los parámetros, crea el entorno de simulación, y ejecuta los procesos del modelo hasta que se acabe el tiempo de simulación. Además de customer_generator, hay dos procesos concurrentes, llamados monitor_queues y monitor_servers. No obstante, estos son específicos para el reporte de métricas de desempeño, y no alteran el comportamiento de la simulación. Una vez se acaba la simulación, el proceso se encarga de escribir el reporte, y da por finalizada la ejecución del programa."
   ]
  },
  {
   "cell_type": "markdown",
   "metadata": {
    "id": "yX7Xf2Gf9WbC"
   },
   "source": [
    "### 3. Desarrollar el simulador en lenguaje de alto nivel"
   ]
  },
  {
   "cell_type": "code",
   "execution_count": 8,
   "metadata": {
    "colab": {
     "base_uri": "https://localhost:8080/"
    },
    "id": "2_XCHLu09-pN",
    "outputId": "1b6a1238-bc99-49a2-9588-f1ee6584b654"
   },
   "outputs": [
    {
     "name": "stdout",
     "output_type": "stream",
     "text": [
      "Writing parameters_10.txt\n"
     ]
    }
   ],
   "source": [
    "%%writefile parameters_9.txt\n",
    "10 9 10000 1 1 1"
   ]
  },
  {
   "cell_type": "code",
   "execution_count": null,
   "metadata": {
    "colab": {
     "base_uri": "https://localhost:8080/"
    },
    "id": "jSG9bzOEDopD",
    "outputId": "4f94314e-b6e2-4313-c54c-e3a853494988"
   },
   "outputs": [
    {
     "name": "stdout",
     "output_type": "stream",
     "text": [
      "Collecting simpy\n",
      "  Downloading simpy-4.1.1-py3-none-any.whl.metadata (6.1 kB)\n",
      "Downloading simpy-4.1.1-py3-none-any.whl (27 kB)\n",
      "Installing collected packages: simpy\n",
      "Successfully installed simpy-4.1.1\n"
     ]
    }
   ],
   "source": [
    "!pip install simpy"
   ]
  },
  {
   "cell_type": "markdown",
   "metadata": {
    "id": "yX7Xf2Gf9WbC"
   },
   "source": [
    "import simpy\n",
    "import random\n",
    "import statistics\n",
    "from collections import defaultdict\n",
    "\n",
    "class SimuladorSecuencial:\n",
    "    def __init__(self, env, mean_interarrival, mean_service, \n",
    "                 servers_level1, servers_level2, distribution_type):\n",
    "        self.env = env\n",
    "        self.mean_interarrival = mean_interarrival\n",
    "        self.mean_service = mean_service\n",
    "        self.distribution_type = distribution_type\n",
    "        self.server1 = simpy.Resource(env, capacity=servers_level1)\n",
    "        self.server2 = simpy.Resource(env, capacity=servers_level2)\n",
    "        self.queue1_delays = []\n",
    "        self.queue2_delays = []\n",
    "        self.system_times = []\n",
    "        self.queue1_lengths = []\n",
    "        self.queue2_lengths = []\n",
    "        self.server1_busy = []\n",
    "        self.server2_busy = []\n",
    "        self.num_completed = 0\n",
    "        self.num_arrivals = 0\n",
    "        self.queue1_entry_times = {}\n",
    "        self.queue2_entry_times = {}\n",
    "        self.env.process(self.customer_generator())\n",
    "        self.env.process(self.monitor_queues())\n",
    "        self.env.process(self.monitor_servers())\n",
    "    \n",
    "    def get_interarrival_time(self):\n",
    "        if self.distribution_type in [1, 3]:\n",
    "            return random.expovariate(1.0 / self.mean_interarrival)\n",
    "        else:\n",
    "            return self.mean_interarrival\n",
    "    \n",
    "    def get_service_time(self):\n",
    "        if self.distribution_type in [1, 2]:\n",
    "            return random.expovariate(1.0 / self.mean_service)\n",
    "        else:\n",
    "            return self.mean_service\n",
    "    \n",
    "    def customer_generator(self):\n",
    "        while True:\n",
    "            yield self.env.timeout(self.get_interarrival_time())\n",
    "            \n",
    "            arrival_time = self.env.now\n",
    "            self.num_arrivals += 1\n",
    "            customer_id = self.num_arrivals\n",
    "            self.env.process(self.customer_flow(customer_id, arrival_time))\n",
    "    \n",
    "    def customer_flow(self, customer_id, arrival_time):\n",
    "        queue1_entry = self.env.now\n",
    "        self.queue1_entry_times[customer_id] = queue1_entry\n",
    "        \n",
    "        with self.server1.request() as req:\n",
    "            yield req\n",
    "            \n",
    "            queue1_delay = self.env.now - queue1_entry\n",
    "            self.queue1_delays.append(queue1_delay)\n",
    "            del self.queue1_entry_times[customer_id]\n",
    "            yield self.env.timeout(self.get_service_time())\n",
    "        \n",
    "        queue2_entry = self.env.now\n",
    "        self.queue2_entry_times[customer_id] = queue2_entry\n",
    "        with self.server2.request() as req:\n",
    "            yield req\n",
    "            \n",
    "            queue2_delay = self.env.now - queue2_entry\n",
    "            self.queue2_delays.append(queue2_delay)\n",
    "            del self.queue2_entry_times[customer_id]\n",
    "            \n",
    "            yield self.env.timeout(self.get_service_time())\n",
    "        \n",
    "        system_time = self.env.now - arrival_time\n",
    "        self.system_times.append(system_time)\n",
    "        self.num_completed += 1\n",
    "    \n",
    "    def monitor_queues(self):\n",
    "        while True:\n",
    "            q1_len = len(self.server1.queue)\n",
    "            self.queue1_lengths.append(q1_len)\n",
    "            \n",
    "            q2_len = len(self.server2.queue)\n",
    "            self.queue2_lengths.append(q2_len)\n",
    "            \n",
    "            yield self.env.timeout(0.1) \n",
    "    \n",
    "    def monitor_servers(self):\n",
    "        while True:\n",
    "            self.server1_busy.append(len(self.server1.users))\n",
    "            self.server2_busy.append(len(self.server2.users))\n",
    "            yield self.env.timeout(0.1)  \n",
    "    \n",
    "    def generate_report(self):\n",
    "        def safe_mean(data):\n",
    "            return statistics.mean(data) if data else 0.0\n",
    "        \n",
    "        def safe_max(data):\n",
    "            return max(data) if data else 0.0\n",
    "        \n",
    "        def safe_min(data):\n",
    "            return min(data) if data else 0.0\n",
    "        \n",
    "        report = \"Multi-server queueing system using SimPy\\n\\n\"\n",
    "        report += f\"Mean interarrival time{11*' '}{self.mean_interarrival:.3f} minutes\\n\\n\"\n",
    "        report += f\"Mean service time{16*' '}{self.mean_service:.3f} minutes\\n\\n\"\n",
    "        report += f\"Total simulation time{12*' '}{self.env.now:.3f} minutes\\n\\n\"\n",
    "        report += f\"Distribution type: {self.distribution_type}\\n\"\n",
    "        \n",
    "        dist_map = {\n",
    "            1: \"Interarrival: Exponential, Service: Exponential\",\n",
    "            2: \"Interarrival: Constant, Service: Exponential\",\n",
    "            3: \"Interarrival: Exponential, Service: Constant\",\n",
    "            4: \"Interarrival: Constant, Service: Constant\"\n",
    "        }\n",
    "        report += dist_map.get(self.distribution_type, \"Invalid distribution type\") + \"\\n\"\n",
    "        report += f\"Number of servers at level 1: {self.server1.capacity}\\n\"\n",
    "        report += f\"Number of servers at level 2: {self.server2.capacity}\\n\\n\"\n",
    "        \n",
    "        report += \"\\nDelays in Queue 1, in minutes:\\n\"\n",
    "        report += f\"  Average: {safe_mean(self.queue1_delays):.3f}\\n\"\n",
    "        report += f\"  Maximum: {safe_max(self.queue1_delays):.3f}\\n\"\n",
    "        report += f\"  Minimum: {safe_min(self.queue1_delays):.3f}\\n\"\n",
    "        report += f\"  Number measured: {len(self.queue1_delays)}\\n\"\n",
    "        \n",
    "        report += \"\\nDelays in Queue 2, in minutes:\\n\"\n",
    "        report += f\"  Average: {safe_mean(self.queue2_delays):.3f}\\n\"\n",
    "        report += f\"  Maximum: {safe_max(self.queue2_delays):.3f}\\n\"\n",
    "        report += f\"  Minimum: {safe_min(self.queue2_delays):.3f}\\n\"\n",
    "        report += f\"  Number measured: {len(self.queue2_delays)}\\n\"\n",
    "        \n",
    "        report += \"\\nTotal System Time (arrival to final departure), in minutes:\\n\"\n",
    "        report += f\"  Average: {safe_mean(self.system_times):.3f}\\n\"\n",
    "        report += f\"  Maximum: {safe_max(self.system_times):.3f}\\n\"\n",
    "        report += f\"  Minimum: {safe_min(self.system_times):.3f}\\n\"\n",
    "        report += f\"  Number measured: {len(self.system_times)}\\n\"\n",
    "        \n",
    "        report += \"\\nQueue lengths:\\n\"\n",
    "        report += f\"  Average queue 1 length: {safe_mean(self.queue1_lengths):.3f}\\n\"\n",
    "        report += f\"  Average queue 2 length: {safe_mean(self.queue2_lengths):.3f}\\n\"\n",
    "        \n",
    "        server1_util = sum(self.server1_busy) / len(self.server1_busy) / self.server1.capacity * 100\n",
    "        server2_util = sum(self.server2_busy) / len(self.server2_busy) / self.server2.capacity * 100\n",
    "        report += \"\\nServer utilization:\\n\"\n",
    "        report += f\"  Server 1 utilization: {server1_util:.1f}%\\n\"\n",
    "        report += f\"  Server 2 utilization: {server2_util:.1f}%\\n\"\n",
    "        \n",
    "        report += f\"\\nTime simulation ended:{12*' '}{self.env.now:.3f} minutes\\n\"\n",
    "        report += f\"Number of customers completed both services:{8*' '}{self.num_completed}\\n\"\n",
    "        \n",
    "        return report\n",
    "\n",
    "def read_parameters(filename):\n",
    "    with open(filename, 'r') as f:\n",
    "        values = list(map(float, f.readline().strip().split()))\n",
    "        \n",
    "        mean_interarrival = values[0]\n",
    "        mean_service = values[1]\n",
    "        total_simulation_time = int(values[2])\n",
    "        distribution_type = int(values[3])\n",
    "        servers_level1 = int(values[4])\n",
    "        servers_level2 = int(values[5])\n",
    "        \n",
    "        return (mean_interarrival, mean_service, total_simulation_time,\n",
    "                distribution_type, servers_level1, servers_level2)\n",
    "\n",
    "def run_simulation(input_file, output_prefix):\n",
    "    try:\n",
    "        params = read_parameters(input_file)\n",
    "        mean_interarrival, mean_service, total_simulation_time, \\\n",
    "        distribution_type, servers_level1, servers_level2 = params\n",
    "        \n",
    "        env = simpy.Environment()\n",
    "        system = SimuladorSecuencial(env, mean_interarrival, mean_service,\n",
    "                                   servers_level1, servers_level2, distribution_type)\n",
    "        env.run(until=total_simulation_time)\n",
    "        \n",
    "        report = system.generate_report()\n",
    "        output_filename = f\"{output_prefix}_{distribution_type}.txt\"\n",
    "        \n",
    "        with open(output_filename, 'w') as f:\n",
    "            f.write(report)\n",
    "        \n",
    "        print(f\"Simulation complete. Report saved to {output_filename}\")\n",
    "        return True\n",
    "    \n",
    "    except FileNotFoundError:\n",
    "        print(f\"Error: Cannot open input file {input_file}\")\n",
    "        return False\n",
    "    except Exception as e:\n",
    "        print(f\"Error running simulation: {str(e)}\")\n",
    "        return False\n",
    "\n",
    "if __name__ == \"__main__\":\n",
    "    input_file = \"parameters_9.txt\"\n",
    "    output_prefix = \"report_9\"\n",
    "    \n",
    "    if not run_simulation(input_file, output_prefix):\n",
    "        print(\"Creating sample parameters file and running simulation...\")\n",
    "        with open(input_file, 'w') as f:\n",
    "            f.write(\"5.0 4.0 1000 1 2 3\\n\")\n",
    "        \n",
    "        run_simulation(input_file, output_prefix)"
   ]
  },
  {
   "cell_type": "markdown",
   "metadata": {
    "id": "yX7Xf2Gf9WbC"
   },
   "source": [
    "### 4. Analizar resultados"
   ]
  },
  {
   "cell_type": "code",
   "execution_count": 12,
   "metadata": {
    "colab": {
     "base_uri": "https://localhost:8080/"
    },
    "id": "sC46dbTnCtxE",
    "outputId": "28d9da1e-724b-4378-dc02-ddb8a9fe032c"
   },
   "outputs": [
    {
     "ename": "FileNotFoundError",
     "evalue": "[Errno 2] No such file or directory: '/content/report_10.txt'",
     "output_type": "error",
     "traceback": [
      "\u001b[31m---------------------------------------------------------------------------\u001b[39m",
      "\u001b[31mFileNotFoundError\u001b[39m                         Traceback (most recent call last)",
      "\u001b[36mCell\u001b[39m\u001b[36m \u001b[39m\u001b[32mIn[12]\u001b[39m\u001b[32m, line 1\u001b[39m\n\u001b[32m----> \u001b[39m\u001b[32m1\u001b[39m \u001b[38;5;28;01mwith\u001b[39;00m \u001b[38;5;28;43mopen\u001b[39;49m\u001b[43m(\u001b[49m\u001b[33;43m\"\u001b[39;49m\u001b[33;43m/content/report_10.txt\u001b[39;49m\u001b[33;43m\"\u001b[39;49m\u001b[43m,\u001b[49m\u001b[43m \u001b[49m\u001b[33;43m\"\u001b[39;49m\u001b[33;43mr\u001b[39;49m\u001b[33;43m\"\u001b[39;49m\u001b[43m)\u001b[49m \u001b[38;5;28;01mas\u001b[39;00m file:\n\u001b[32m      2\u001b[39m     \u001b[38;5;28mprint\u001b[39m(file.read())\n",
      "\u001b[36mFile \u001b[39m\u001b[32m~/.local/lib/python3.13/site-packages/IPython/core/interactiveshell.py:326\u001b[39m, in \u001b[36m_modified_open\u001b[39m\u001b[34m(file, *args, **kwargs)\u001b[39m\n\u001b[32m    319\u001b[39m \u001b[38;5;28;01mif\u001b[39;00m file \u001b[38;5;129;01min\u001b[39;00m {\u001b[32m0\u001b[39m, \u001b[32m1\u001b[39m, \u001b[32m2\u001b[39m}:\n\u001b[32m    320\u001b[39m     \u001b[38;5;28;01mraise\u001b[39;00m \u001b[38;5;167;01mValueError\u001b[39;00m(\n\u001b[32m    321\u001b[39m         \u001b[33mf\u001b[39m\u001b[33m\"\u001b[39m\u001b[33mIPython won\u001b[39m\u001b[33m'\u001b[39m\u001b[33mt let you open fd=\u001b[39m\u001b[38;5;132;01m{\u001b[39;00mfile\u001b[38;5;132;01m}\u001b[39;00m\u001b[33m by default \u001b[39m\u001b[33m\"\u001b[39m\n\u001b[32m    322\u001b[39m         \u001b[33m\"\u001b[39m\u001b[33mas it is likely to crash IPython. If you know what you are doing, \u001b[39m\u001b[33m\"\u001b[39m\n\u001b[32m    323\u001b[39m         \u001b[33m\"\u001b[39m\u001b[33myou can use builtins\u001b[39m\u001b[33m'\u001b[39m\u001b[33m open.\u001b[39m\u001b[33m\"\u001b[39m\n\u001b[32m    324\u001b[39m     )\n\u001b[32m--> \u001b[39m\u001b[32m326\u001b[39m \u001b[38;5;28;01mreturn\u001b[39;00m \u001b[43mio_open\u001b[49m\u001b[43m(\u001b[49m\u001b[43mfile\u001b[49m\u001b[43m,\u001b[49m\u001b[43m \u001b[49m\u001b[43m*\u001b[49m\u001b[43margs\u001b[49m\u001b[43m,\u001b[49m\u001b[43m \u001b[49m\u001b[43m*\u001b[49m\u001b[43m*\u001b[49m\u001b[43mkwargs\u001b[49m\u001b[43m)\u001b[49m\n",
      "\u001b[31mFileNotFoundError\u001b[39m: [Errno 2] No such file or directory: '/content/report_10.txt'"
     ]
    }
   ],
   "source": [
    "with open(\"report_9_1.txt\", \"r\") as file:\n",
    "    print(file.read())\n"
   ]
  },
  {
   "cell_type": "markdown",
   "metadata": {
    "id": "yX7Xf2Gf9WbC"
   },
   "source": [
    "**a.\tCorrida 1: tiempo entre llegada y de servicio exponenciales**"
   ]
  },
  {
   "cell_type": "markdown",
   "metadata": {
    "id": "yX7Xf2Gf9WbC"
   },
   "source": [
    "Multi-server queueing system using simlib\n",
    "\n",
    "Mean interarrival time     10.000 minutes\n",
    "\n",
    "Mean service time           9.000 minutes\n",
    "\n",
    "Total simulation time       10000 minutes\n",
    "\n",
    "Distribution type: 1\n",
    "Interarrival: Exponential, Service: Exponential\n",
    "Number of servers at level 1: 1\n",
    "Number of servers at level 2: 1\n",
    "\n",
    "\n",
    "Delays in queue, in minutes:\n",
    "\n",
    " sampst                         Number\n",
    "variable                          of\n",
    " number       Average           values          Maximum          Minimum\n",
    "________________________________________________________________________\n",
    "\n",
    "    1         121.123          1014.00          349.119          0.00000 \n",
    "________________________________________________________________________\n",
    "\n",
    "\n",
    "\n",
    "Queue length and server utilization:\n",
    "\n",
    "  File         Time\n",
    " number       average          Maximum          Minimum\n",
    "_______________________________________________________\n",
    "\n",
    "    1         12.2813          37.0000          0.00000 \n",
    "\n",
    "    2        0.925342          1.00000          0.00000 \n",
    "_______________________________________________________\n",
    "\n",
    "\n",
    "\n",
    "  File         Time\n",
    " number       average          Maximum          Minimum\n",
    "_______________________________________________________\n",
    "\n",
    "    3         5.06968          28.0000          0.00000 \n",
    "\n",
    "    4        0.862937          1.00000          0.00000 \n",
    "_______________________________________________________\n",
    "\n",
    "\n",
    "\n",
    "Time simulation ended:   10000.495 minutes\n",
    "Number of customers completed both services:    1006\n",
    "Number of servers at level 1: 1\n",
    "Number of servers at level 2: 1\n"
   ]
  },
  {
   "cell_type": "markdown",
   "metadata": {
    "id": "yX7Xf2Gf9WbC"
   },
   "source": [
    "**b.\tCorrida 2: Tiempo entre llegada constantes y tiempos de servicio exponenciales**"
   ]
  },
  {
   "cell_type": "code",
   "execution_count": 8,
   "metadata": {
    "colab": {
     "base_uri": "https://localhost:8080/"
    },
    "id": "2_XCHLu09-pN",
    "outputId": "1b6a1238-bc99-49a2-9588-f1ee6584b654"
   },
   "outputs": [
    {
     "name": "stdout",
     "output_type": "stream",
     "text": [
      "Writing parameters_10.txt\n"
     ]
    }
   ],
   "source": [
    "%%writefile parameters_9.txt\n",
    "10 9 10000 2 1 1"
   ]
  },
  {
   "cell_type": "code",
   "execution_count": 11,
   "metadata": {
    "id": "ImJU1lIaBxRw"
   },
   "outputs": [],
   "source": [
    "!./simulation_9"
   ]
  },
  {
   "cell_type": "code",
   "execution_count": 12,
   "metadata": {
    "colab": {
     "base_uri": "https://localhost:8080/"
    },
    "id": "sC46dbTnCtxE",
    "outputId": "28d9da1e-724b-4378-dc02-ddb8a9fe032c"
   },
   "outputs": [
    {
     "ename": "FileNotFoundError",
     "evalue": "[Errno 2] No such file or directory: '/content/report_10.txt'",
     "output_type": "error",
     "traceback": [
      "\u001b[31m---------------------------------------------------------------------------\u001b[39m",
      "\u001b[31mFileNotFoundError\u001b[39m                         Traceback (most recent call last)",
      "\u001b[36mCell\u001b[39m\u001b[36m \u001b[39m\u001b[32mIn[12]\u001b[39m\u001b[32m, line 1\u001b[39m\n\u001b[32m----> \u001b[39m\u001b[32m1\u001b[39m \u001b[38;5;28;01mwith\u001b[39;00m \u001b[38;5;28;43mopen\u001b[39;49m\u001b[43m(\u001b[49m\u001b[33;43m\"\u001b[39;49m\u001b[33;43m/content/report_10.txt\u001b[39;49m\u001b[33;43m\"\u001b[39;49m\u001b[43m,\u001b[49m\u001b[43m \u001b[49m\u001b[33;43m\"\u001b[39;49m\u001b[33;43mr\u001b[39;49m\u001b[33;43m\"\u001b[39;49m\u001b[43m)\u001b[49m \u001b[38;5;28;01mas\u001b[39;00m file:\n\u001b[32m      2\u001b[39m     \u001b[38;5;28mprint\u001b[39m(file.read())\n",
      "\u001b[36mFile \u001b[39m\u001b[32m~/.local/lib/python3.13/site-packages/IPython/core/interactiveshell.py:326\u001b[39m, in \u001b[36m_modified_open\u001b[39m\u001b[34m(file, *args, **kwargs)\u001b[39m\n\u001b[32m    319\u001b[39m \u001b[38;5;28;01mif\u001b[39;00m file \u001b[38;5;129;01min\u001b[39;00m {\u001b[32m0\u001b[39m, \u001b[32m1\u001b[39m, \u001b[32m2\u001b[39m}:\n\u001b[32m    320\u001b[39m     \u001b[38;5;28;01mraise\u001b[39;00m \u001b[38;5;167;01mValueError\u001b[39;00m(\n\u001b[32m    321\u001b[39m         \u001b[33mf\u001b[39m\u001b[33m\"\u001b[39m\u001b[33mIPython won\u001b[39m\u001b[33m'\u001b[39m\u001b[33mt let you open fd=\u001b[39m\u001b[38;5;132;01m{\u001b[39;00mfile\u001b[38;5;132;01m}\u001b[39;00m\u001b[33m by default \u001b[39m\u001b[33m\"\u001b[39m\n\u001b[32m    322\u001b[39m         \u001b[33m\"\u001b[39m\u001b[33mas it is likely to crash IPython. If you know what you are doing, \u001b[39m\u001b[33m\"\u001b[39m\n\u001b[32m    323\u001b[39m         \u001b[33m\"\u001b[39m\u001b[33myou can use builtins\u001b[39m\u001b[33m'\u001b[39m\u001b[33m open.\u001b[39m\u001b[33m\"\u001b[39m\n\u001b[32m    324\u001b[39m     )\n\u001b[32m--> \u001b[39m\u001b[32m326\u001b[39m \u001b[38;5;28;01mreturn\u001b[39;00m \u001b[43mio_open\u001b[49m\u001b[43m(\u001b[49m\u001b[43mfile\u001b[49m\u001b[43m,\u001b[49m\u001b[43m \u001b[49m\u001b[43m*\u001b[49m\u001b[43margs\u001b[49m\u001b[43m,\u001b[49m\u001b[43m \u001b[49m\u001b[43m*\u001b[49m\u001b[43m*\u001b[49m\u001b[43mkwargs\u001b[49m\u001b[43m)\u001b[49m\n",
      "\u001b[31mFileNotFoundError\u001b[39m: [Errno 2] No such file or directory: '/content/report_10.txt'"
     ]
    }
   ],
   "source": [
    "with open(\"report_9_2.txt\", \"r\") as file:\n",
    "    print(file.read())\n"
   ]
  },
  {
   "cell_type": "markdown",
   "metadata": {
    "id": "yX7Xf2Gf9WbC"
   },
   "source": [
    "Multi-server queueing system using simlib\n",
    "\n",
    "Mean interarrival time     10.000 minutes\n",
    "\n",
    "Mean service time           9.000 minutes\n",
    "\n",
    "Total simulation time       10000 minutes\n",
    "\n",
    "Distribution type: 2\n",
    "Interarrival: Constant, Service: Exponential\n",
    "Number of servers at level 1: 1\n",
    "Number of servers at level 2: 1\n",
    "\n",
    "\n",
    "Delays in queue, in minutes:\n",
    "\n",
    " sampst                         Number\n",
    "variable                          of\n",
    " number       Average           values          Maximum          Minimum\n",
    "________________________________________________________________________\n",
    "\n",
    "    1         36.6710          998.000          148.308          0.00000 \n",
    "________________________________________________________________________\n",
    "\n",
    "\n",
    "\n",
    "Queue length and server utilization:\n",
    "\n",
    "  File         Time\n",
    " number       average          Maximum          Minimum\n",
    "_______________________________________________________\n",
    "\n",
    "    1         3.66076          15.0000          0.00000 \n",
    "\n",
    "    2        0.894527          1.00000          0.00000 \n",
    "_______________________________________________________\n",
    "\n",
    "\n",
    "\n",
    "  File         Time\n",
    " number       average          Maximum          Minimum\n",
    "_______________________________________________________\n",
    "\n",
    "    3         3.54243          25.0000          0.00000 \n",
    "\n",
    "    4        0.864306          1.00000          0.00000 \n",
    "_______________________________________________________\n",
    "\n",
    "\n",
    "\n",
    "Time simulation ended:   10000.000 minutes\n",
    "Number of customers completed both services:     993\n",
    "Number of servers at level 1: 1\n",
    "Number of servers at level 2: 1\n"
   ]
  },
  {
   "cell_type": "markdown",
   "metadata": {
    "id": "yX7Xf2Gf9WbC"
   },
   "source": [
    "**c.\tCorrida 3: Tiempo entre llegadas exponenciales y tiempo de servicio constantes**"
   ]
  },
  {
   "cell_type": "code",
   "execution_count": 8,
   "metadata": {
    "colab": {
     "base_uri": "https://localhost:8080/"
    },
    "id": "2_XCHLu09-pN",
    "outputId": "1b6a1238-bc99-49a2-9588-f1ee6584b654"
   },
   "outputs": [
    {
     "name": "stdout",
     "output_type": "stream",
     "text": [
      "Writing parameters_10.txt\n"
     ]
    }
   ],
   "source": [
    "%%writefile parameters_9.txt\n",
    "10 9 10000 3 1 1"
   ]
  },
  {
   "cell_type": "code",
   "execution_count": 11,
   "metadata": {
    "id": "ImJU1lIaBxRw"
   },
   "outputs": [],
   "source": [
    "!./simulation_9"
   ]
  },
  {
   "cell_type": "code",
   "execution_count": 12,
   "metadata": {
    "colab": {
     "base_uri": "https://localhost:8080/"
    },
    "id": "sC46dbTnCtxE",
    "outputId": "28d9da1e-724b-4378-dc02-ddb8a9fe032c"
   },
   "outputs": [
    {
     "ename": "FileNotFoundError",
     "evalue": "[Errno 2] No such file or directory: '/content/report_10.txt'",
     "output_type": "error",
     "traceback": [
      "\u001b[31m---------------------------------------------------------------------------\u001b[39m",
      "\u001b[31mFileNotFoundError\u001b[39m                         Traceback (most recent call last)",
      "\u001b[36mCell\u001b[39m\u001b[36m \u001b[39m\u001b[32mIn[12]\u001b[39m\u001b[32m, line 1\u001b[39m\n\u001b[32m----> \u001b[39m\u001b[32m1\u001b[39m \u001b[38;5;28;01mwith\u001b[39;00m \u001b[38;5;28;43mopen\u001b[39;49m\u001b[43m(\u001b[49m\u001b[33;43m\"\u001b[39;49m\u001b[33;43m/content/report_10.txt\u001b[39;49m\u001b[33;43m\"\u001b[39;49m\u001b[43m,\u001b[49m\u001b[43m \u001b[49m\u001b[33;43m\"\u001b[39;49m\u001b[33;43mr\u001b[39;49m\u001b[33;43m\"\u001b[39;49m\u001b[43m)\u001b[49m \u001b[38;5;28;01mas\u001b[39;00m file:\n\u001b[32m      2\u001b[39m     \u001b[38;5;28mprint\u001b[39m(file.read())\n",
      "\u001b[36mFile \u001b[39m\u001b[32m~/.local/lib/python3.13/site-packages/IPython/core/interactiveshell.py:326\u001b[39m, in \u001b[36m_modified_open\u001b[39m\u001b[34m(file, *args, **kwargs)\u001b[39m\n\u001b[32m    319\u001b[39m \u001b[38;5;28;01mif\u001b[39;00m file \u001b[38;5;129;01min\u001b[39;00m {\u001b[32m0\u001b[39m, \u001b[32m1\u001b[39m, \u001b[32m2\u001b[39m}:\n\u001b[32m    320\u001b[39m     \u001b[38;5;28;01mraise\u001b[39;00m \u001b[38;5;167;01mValueError\u001b[39;00m(\n\u001b[32m    321\u001b[39m         \u001b[33mf\u001b[39m\u001b[33m\"\u001b[39m\u001b[33mIPython won\u001b[39m\u001b[33m'\u001b[39m\u001b[33mt let you open fd=\u001b[39m\u001b[38;5;132;01m{\u001b[39;00mfile\u001b[38;5;132;01m}\u001b[39;00m\u001b[33m by default \u001b[39m\u001b[33m\"\u001b[39m\n\u001b[32m    322\u001b[39m         \u001b[33m\"\u001b[39m\u001b[33mas it is likely to crash IPython. If you know what you are doing, \u001b[39m\u001b[33m\"\u001b[39m\n\u001b[32m    323\u001b[39m         \u001b[33m\"\u001b[39m\u001b[33myou can use builtins\u001b[39m\u001b[33m'\u001b[39m\u001b[33m open.\u001b[39m\u001b[33m\"\u001b[39m\n\u001b[32m    324\u001b[39m     )\n\u001b[32m--> \u001b[39m\u001b[32m326\u001b[39m \u001b[38;5;28;01mreturn\u001b[39;00m \u001b[43mio_open\u001b[49m\u001b[43m(\u001b[49m\u001b[43mfile\u001b[49m\u001b[43m,\u001b[49m\u001b[43m \u001b[49m\u001b[43m*\u001b[49m\u001b[43margs\u001b[49m\u001b[43m,\u001b[49m\u001b[43m \u001b[49m\u001b[43m*\u001b[49m\u001b[43m*\u001b[49m\u001b[43mkwargs\u001b[49m\u001b[43m)\u001b[49m\n",
      "\u001b[31mFileNotFoundError\u001b[39m: [Errno 2] No such file or directory: '/content/report_10.txt'"
     ]
    }
   ],
   "source": [
    "with open(\"report_9_3.txt\", \"r\") as file:\n",
    "    print(file.read())\n"
   ]
  },
  {
   "cell_type": "markdown",
   "metadata": {
    "id": "yX7Xf2Gf9WbC"
   },
   "source": [
    "Multi-server queueing system using simlib\n",
    "\n",
    "Mean interarrival time     10.000 minutes\n",
    "\n",
    "Mean service time           9.000 minutes\n",
    "\n",
    "Total simulation time       10000 minutes\n",
    "\n",
    "Distribution type: 3\n",
    "Interarrival: Exponential, Service: Constant\n",
    "Number of servers at level 1: 1\n",
    "Number of servers at level 2: 1\n",
    "\n",
    "\n",
    "Delays in queue, in minutes:\n",
    "\n",
    " sampst                         Number\n",
    "variable                          of\n",
    " number       Average           values          Maximum          Minimum\n",
    "________________________________________________________________________\n",
    "\n",
    "    1         47.3141          1015.00          208.489          0.00000 \n",
    "________________________________________________________________________\n",
    "\n",
    "\n",
    "\n",
    "Queue length and server utilization:\n",
    "\n",
    "  File         Time\n",
    " number       average          Maximum          Minimum\n",
    "_______________________________________________________\n",
    "\n",
    "    1         4.79695          24.0000          0.00000 \n",
    "\n",
    "    2        0.911567          1.00000          0.00000 \n",
    "_______________________________________________________\n",
    "\n",
    "\n",
    "\n",
    "  File         Time\n",
    " number       average          Maximum          Minimum\n",
    "_______________________________________________________\n",
    "\n",
    "    3         0.00000          1.00000          0.00000 \n",
    "\n",
    "    4        0.911567          1.00000          0.00000 \n",
    "_______________________________________________________\n",
    "\n",
    "\n",
    "\n",
    "Time simulation ended:   10011.330 minutes\n",
    "Number of customers completed both services:    1014\n",
    "Number of servers at level 1: 1\n",
    "Number of servers at level 2: 1\n"
   ]
  },
  {
   "cell_type": "markdown",
   "metadata": {
    "id": "yX7Xf2Gf9WbC"
   },
   "source": [
    "**d.\tCorrida 4: Tiempo entre llegadas constantes y tiempos de servicio constantes**"
   ]
  },
  {
   "cell_type": "code",
   "execution_count": 8,
   "metadata": {
    "colab": {
     "base_uri": "https://localhost:8080/"
    },
    "id": "2_XCHLu09-pN",
    "outputId": "1b6a1238-bc99-49a2-9588-f1ee6584b654"
   },
   "outputs": [
    {
     "name": "stdout",
     "output_type": "stream",
     "text": [
      "Writing parameters_10.txt\n"
     ]
    }
   ],
   "source": [
    "%%writefile parameters_9.txt\n",
    "10 9 10000 4 1 1"
   ]
  },
  {
   "cell_type": "code",
   "execution_count": 11,
   "metadata": {
    "id": "ImJU1lIaBxRw"
   },
   "outputs": [],
   "source": [
    "!./simulation_9"
   ]
  },
  {
   "cell_type": "code",
   "execution_count": 12,
   "metadata": {
    "colab": {
     "base_uri": "https://localhost:8080/"
    },
    "id": "sC46dbTnCtxE",
    "outputId": "28d9da1e-724b-4378-dc02-ddb8a9fe032c"
   },
   "outputs": [
    {
     "ename": "FileNotFoundError",
     "evalue": "[Errno 2] No such file or directory: '/content/report_10.txt'",
     "output_type": "error",
     "traceback": [
      "\u001b[31m---------------------------------------------------------------------------\u001b[39m",
      "\u001b[31mFileNotFoundError\u001b[39m                         Traceback (most recent call last)",
      "\u001b[36mCell\u001b[39m\u001b[36m \u001b[39m\u001b[32mIn[12]\u001b[39m\u001b[32m, line 1\u001b[39m\n\u001b[32m----> \u001b[39m\u001b[32m1\u001b[39m \u001b[38;5;28;01mwith\u001b[39;00m \u001b[38;5;28;43mopen\u001b[39;49m\u001b[43m(\u001b[49m\u001b[33;43m\"\u001b[39;49m\u001b[33;43m/content/report_10.txt\u001b[39;49m\u001b[33;43m\"\u001b[39;49m\u001b[43m,\u001b[49m\u001b[43m \u001b[49m\u001b[33;43m\"\u001b[39;49m\u001b[33;43mr\u001b[39;49m\u001b[33;43m\"\u001b[39;49m\u001b[43m)\u001b[49m \u001b[38;5;28;01mas\u001b[39;00m file:\n\u001b[32m      2\u001b[39m     \u001b[38;5;28mprint\u001b[39m(file.read())\n",
      "\u001b[36mFile \u001b[39m\u001b[32m~/.local/lib/python3.13/site-packages/IPython/core/interactiveshell.py:326\u001b[39m, in \u001b[36m_modified_open\u001b[39m\u001b[34m(file, *args, **kwargs)\u001b[39m\n\u001b[32m    319\u001b[39m \u001b[38;5;28;01mif\u001b[39;00m file \u001b[38;5;129;01min\u001b[39;00m {\u001b[32m0\u001b[39m, \u001b[32m1\u001b[39m, \u001b[32m2\u001b[39m}:\n\u001b[32m    320\u001b[39m     \u001b[38;5;28;01mraise\u001b[39;00m \u001b[38;5;167;01mValueError\u001b[39;00m(\n\u001b[32m    321\u001b[39m         \u001b[33mf\u001b[39m\u001b[33m\"\u001b[39m\u001b[33mIPython won\u001b[39m\u001b[33m'\u001b[39m\u001b[33mt let you open fd=\u001b[39m\u001b[38;5;132;01m{\u001b[39;00mfile\u001b[38;5;132;01m}\u001b[39;00m\u001b[33m by default \u001b[39m\u001b[33m\"\u001b[39m\n\u001b[32m    322\u001b[39m         \u001b[33m\"\u001b[39m\u001b[33mas it is likely to crash IPython. If you know what you are doing, \u001b[39m\u001b[33m\"\u001b[39m\n\u001b[32m    323\u001b[39m         \u001b[33m\"\u001b[39m\u001b[33myou can use builtins\u001b[39m\u001b[33m'\u001b[39m\u001b[33m open.\u001b[39m\u001b[33m\"\u001b[39m\n\u001b[32m    324\u001b[39m     )\n\u001b[32m--> \u001b[39m\u001b[32m326\u001b[39m \u001b[38;5;28;01mreturn\u001b[39;00m \u001b[43mio_open\u001b[49m\u001b[43m(\u001b[49m\u001b[43mfile\u001b[49m\u001b[43m,\u001b[49m\u001b[43m \u001b[49m\u001b[43m*\u001b[49m\u001b[43margs\u001b[49m\u001b[43m,\u001b[49m\u001b[43m \u001b[49m\u001b[43m*\u001b[49m\u001b[43m*\u001b[49m\u001b[43mkwargs\u001b[49m\u001b[43m)\u001b[49m\n",
      "\u001b[31mFileNotFoundError\u001b[39m: [Errno 2] No such file or directory: '/content/report_10.txt'"
     ]
    }
   ],
   "source": [
    "with open(\"report_9_4.txt\", \"r\") as file:\n",
    "    print(file.read())\n"
   ]
  },
  {
   "cell_type": "markdown",
   "metadata": {
    "id": "yX7Xf2Gf9WbC"
   },
   "source": [
    "Multi-server queueing system using simlib\n",
    "\n",
    "Mean interarrival time     10.000 minutes\n",
    "\n",
    "Mean service time           9.000 minutes\n",
    "\n",
    "Total simulation time       10000 minutes\n",
    "\n",
    "Distribution type: 4\n",
    "Interarrival: Constant, Service: Constant\n",
    "Number of servers at level 1: 1\n",
    "Number of servers at level 2: 1\n",
    "\n",
    "\n",
    "Delays in queue, in minutes:\n",
    "\n",
    " sampst                         Number\n",
    "variable                          of\n",
    " number       Average           values          Maximum          Minimum\n",
    "________________________________________________________________________\n",
    "\n",
    "    1         0.00000          1000.00          0.00000          0.00000 \n",
    "________________________________________________________________________\n",
    "\n",
    "\n",
    "\n",
    "Queue length and server utilization:\n",
    "\n",
    "  File         Time\n",
    " number       average          Maximum          Minimum\n",
    "_______________________________________________________\n",
    "\n",
    "    1         0.00000     -1.00000E+30      1.00000E+30 \n",
    "\n",
    "    2        0.899100          1.00000          0.00000 \n",
    "_______________________________________________________\n",
    "\n",
    "\n",
    "\n",
    "  File         Time\n",
    " number       average          Maximum          Minimum\n",
    "_______________________________________________________\n",
    "\n",
    "    3         0.00000     -1.00000E+30      1.00000E+30 \n",
    "\n",
    "    4        0.898300          1.00000          0.00000 \n",
    "_______________________________________________________\n",
    "\n",
    "\n",
    "\n",
    "Time simulation ended:   10000.000 minutes\n",
    "Number of customers completed both services:     998\n",
    "Number of servers at level 1: 1\n",
    "Number of servers at level 2: 1\n"
   ]
  },
  {
   "cell_type": "markdown",
   "metadata": {
    "id": "yX7Xf2Gf9WbC"
   },
   "source": [
    "**e. Análisis de resultados**\n",
    "\n",
    "En esta sección, acabamos de mostrar cómo se realizan reportes de rendimiento para las cuatro corridas requeridas para el ejercicio. En la siguiente tabla, comparamos las corridas realizadas durante el desarrollo de este taller. Se pueden confirmar estos valores en el repositorio oficial del taller:\n",
    "| Métrica            | Exponencial/Exponencial | Constante/Exponencial | Exponencial/Constante | Constante/Constante |\n",
    "|--------------------|-------------------------|-----------------------|-----------------------|---------------------|\n",
    "| Demora total       | 145.865 (4.5-341.9)     | 124.746 (25.1-223.2)  | 85.424 (18-237.2)     | 18 (18-18)          |\n",
    "| Demora cola 1      | 75.27 (0-306.2)         | 39.169 (0-169.4)      | 67.317 (0-219.2)      | 0                   |\n",
    "| Demora cola 2      | 51.864 (0-256)          | 66.972 (0-205)        | 0                     | 0                   |\n",
    "| Longitud fila 1    | 7.551                   | 3.914                 | 6.943                 | 0                   |\n",
    "| Longitud fila 2    | 5.203                   | 6.637                 | 0                     | 0                   |\n",
    "| Uso servidor 1     | 88.4%                   | 91.5%                 | 92.7%                 | 89.9%               |\n",
    "| Uso servidor 2     | 88.8%                   | 93%                   | 92.6%                 | 89.8%               |\n",
    "| Clientes atendidos | 988                     | 990                   | 1029                  | 998                 |\n",
    "\n",
    "Comparando con los resultados obtenidos con Simlib, observamos que en general, son bastante parecidos. El resultado de la Corrida 4, de tiempos constantes, es exactamente idéntico, mientras que las otras corridas tienen leves variaciones. Esto puede ser resultado de la variabilidad dada por el manejo de variables aleatorias en ambos programas. No obstante, al observar las mismas tendencias dependiendo del manejo de las variables de cada corrida, se puede confirmar que la simulación por procesos hecha en SimPy, es equivalente a la simulación por eventos en Simlib."
   ]
  },
  {
   "cell_type": "markdown",
   "metadata": {
    "id": "yX7Xf2Gf9WbC"
   },
   "source": [
    "### 5. Plantear modificaciones\n",
    "\n",
    "Para el proceso de modificaciones, vamos a realizar experimentos únicamente en parámetros que se presume, pueden ser modificados por el sistema. Por ejemplo, el tiempo de llegada de clientes (y su distribución), no es dependiente del funcionamiento de su sistema, y se presume que no puede ser modificado por acciones reales del sistema. Por tanto, nos vamos a enfocar en dos variables, el número de servidores, y el tiempo promedio de servicio. Comparar estas dos variables, nos permite asesorar, por ejemplo, si es más eficiente poner una nueva máquina (en el caso de que sea una planta de ensamblaje, equivalente a duplicar servidores), o si es más eficiente reemplazar la máquina existente por una más rápida (disminuyendo el tiempo de servicio). También es importante determinar cuál de las dos máquinas vale más la pena duplicar o reemplazar. A continuación, mostramos las corridas para el modo 1, con las modificaciones pertinentes:"
   ]
  },
  {
   "cell_type": "markdown",
   "metadata": {
    "id": "yX7Xf2Gf9WbC"
   },
   "source": [
    "# Simulación 10"
   ]
  }
 ],
 "metadata": {
  "colab": {
   "provenance": []
  },
  "kernelspec": {
   "display_name": "Python 3 (ipykernel)",
   "language": "python",
   "name": "python3"
  },
  "language_info": {
   "codemirror_mode": {
    "name": "ipython",
    "version": 3
   },
   "file_extension": ".py",
   "mimetype": "text/x-python",
   "name": "python",
   "nbconvert_exporter": "python",
   "pygments_lexer": "ipython3",
   "version": "3.13.2"
  }
 },
 "nbformat": 4,
 "nbformat_minor": 4
}
