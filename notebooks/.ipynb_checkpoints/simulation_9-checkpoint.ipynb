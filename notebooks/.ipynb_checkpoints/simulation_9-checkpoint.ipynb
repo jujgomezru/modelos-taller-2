{
 "cells": [
  {
   "cell_type": "markdown",
   "metadata": {
    "id": "yX7Xf2Gf9WbC"
   },
   "source": [
    "# Simulación 9"
   ]
  },
  {
   "cell_type": "markdown",
   "metadata": {
    "id": "yX7Xf2Gf9WbC",
    "jupyter": {
     "source_hidden": true
    }
   },
   "source": [
    "## Simlib"
   ]
  },
  {
   "cell_type": "markdown",
   "metadata": {
    "id": "yX7Xf2Gf9WbC"
   },
   "source": [
    "### 1. Definir:"
   ]
  },
  {
   "cell_type": "markdown",
   "metadata": {
    "id": "yX7Xf2Gf9WbC"
   },
   "source": [
    "**a. Parámetros de entrada**\n",
    "\n",
    "Tal como se define en el enunciado del problema, la simulación debe recibir tres parámetros, los que definen los tiempos de la simulación.\n",
    "A estos tres, añadimos un cuarto parámetro, que determina si los tiempos van a ser exponenciales, o constantes. Esto es con el fin de usar el mismo\n",
    "archivo de código para cada una de las corridas, en vez de crear archivos separados. Los parámetros servers_level1 y servers_level2 indican el número de servidores de cada servicio. En los primeros cuatro puntos, se mantendrá constante de 1 servidor por cada servicio, pero analizaremos el resultado de duplicar servidores en el punto 5.\n",
    "\n",
    "| Nombre                | Parámetro                                                   |\n",
    "|-----------------------|-------------------------------------------------------------|\n",
    "| mean_interarrival     | Tiempo promedio de llegada entre elementos                  |\n",
    "| mean_service          | Tiempo promedio de servicio en cada uno de los dos procesos |\n",
    "| total_simulation_time | Tiempo total de la simulación                               |\n",
    "| distribution_type     | Tipo de distribuciones usadas en la simulación              |\n",
    "| servers_level1        | Número de servidores del servicio 1                         |\n",
    "| servers_level2        | Número de servidores del servicio 2                         |\n",
    "\n",
    "La variable distribution_type, puede tomar valores de 1 al 4, para las distintas corridas del programa:\n",
    "\n",
    "| Valor | mean_interarrival | mean_service |\n",
    "|-------|-------------------|--------------|\n",
    "| 1     | Exponencial       | Exponencial  |\n",
    "| 2     | Constante         | Exponencial  |\n",
    "| 3     | Exponencial       | Constante    |\n",
    "| 4     | Constante         | Constante    |"
   ]
  },
  {
   "cell_type": "markdown",
   "metadata": {
    "id": "yX7Xf2Gf9WbC"
   },
   "source": [
    "**b. Variables del modelado**\n",
    "\n",
    "El uso de Simlib, permite facilitar la declaración de variables explícitas, y la definición de los métodos de la simulación. Esto es, porque la propia librería tiene predefinidos múltiples variables y métodos en cada simulación, realizada con esta. Por tanto, muchas de las variables específicas de cada agente, evento o proceso, son manejadas internamente por Simlib, y no tienen que ser escritas en el código. En la siguiente tabla, mostramos las variables usadas de forma explícita en la simulación.\n",
    "\n",
    "| Nombre          | Tipo  | Uso                                                                 |\n",
    "|-----------------|-------|---------------------------------------------------------------------|\n",
    "| sim_time        | Float | Reloj interno del simulador                                         |\n",
    "| system_time     | Float | Tiempo del elemento en el sistema                                   |\n",
    "| next_event_type | Int   | Identificador del tipo de evento que se debe planear a continuación |\n",
    "| maxatr          | Int   | Número máximo de atributos por lista                                |\n",
    "| maxlist         | Int   | Número máximo de listas                                             |\n",
    "\n",
    "Mantenemos las llamadas al reloj interno, y al identificador de tipo de evento. El reloj sigue siendo necesario manejarlo, para especificar el manejo de eventos de esta simulación en particular. Por ejemplo, en este programa que requiere indicar de entrada, el tipo de distribuciones (exponencial o constante) con el que se van a programar las llegadas y servicios de los elementos, es necesario especificar cómo se van a calcular, usando sim_time como referente. Creamos una nueva variable \"system_time\", para realizar seguimiento del tiempo de cada elemento dentro del sistema. Esto es porque, el uso del arreglo transfer es susceptible a que se sobreesciba su contenido, cada vez que se realiza una nueva operación. Por tanto, necesitamos guardar los contenidos necesarios en esta variable, si se quiere hacer el seguimiento del elemento en todos los eventos. El identificador de tipo de evento es necesario para dar forma a la simulación particular. Por ejemplo, es necesario identificar el orden para crear una simulación de dos servicios secuenciales, en vez de paralelos.\n",
    "Finalmente, maxatr y maxlist deben ser definidos en cualquier simulación que utilice simlib. La variable maxatr define el número máximo de atributos de cada lista simlib. Por la manera en la que esta escrito Simlib internamente, el mínimo valor posible de maxatr es 4. Por otra parte, maxlist indica el máximo de listas que se pueden crear en una simulación. El mínimo valor que se puede usar es 25, porque la lista 25 siempre va a ser la lista de eventos.\n"
   ]
  },
  {
   "cell_type": "markdown",
   "metadata": {
    "id": "yX7Xf2Gf9WbC"
   },
   "source": [
    "**c. Descripción del evento y tipo de evento**\n",
    "\n",
    "| Nombre     | Tipo | Uso                                                                                                           |\n",
    "|------------|------|---------------------------------------------------------------------------------------------------------------|\n",
    "| ARRIVAL    | 1    | Llegada de un elemento a la cadena de producción, puede ser atendido o hacer fila si el servidor está ocupado |\n",
    "| DEPARTURE1 | 2    | Terminación del primer servicio. Apenas de termina el Servicio 1, es atendido, o hace fila para el Servicio 2 |\n",
    "| DEPARTURE2 | 3    | Terminación del segundo servicio. Cuando termina el Servicio 2, el elemento sale del sistema                  |\n",
    "\n",
    "La simulación 9, en sus cuatro variantes, es muy parecida al ejercicio de prueba del Capítulo 1 del libro de Averill y Law. La principal diferencia, es que los elementos deben recibir dos servicios, en vez de uno, y para recibir el servicio 2, debe haber terminado el servicio 1. Por esta razón, se definen dos servicios de salida, uno para cada servicio. Sus diferencias, es la manera en la que se maneja el elemento respecto al servicio. Los elementos sólo salen del sistema si se termina el servicio 2. En cambio, la finalización del servicio 1 indica que debe iniciar el servicio 2, el cual tiene una cola infinita, y sólo debe trasladar el elemento a la segunda cola. La cola de llegada al sistema es específica para recibir el servicio 1.\n",
    "\n"
   ]
  },
  {
   "cell_type": "markdown",
   "metadata": {
    "id": "yX7Xf2Gf9WbC"
   },
   "source": [
    "**d. Listas y sus atributos**\n",
    "\n",
    "| Número | Nombre     | Atributo 1                    | Atributo 2     |                                                                              \n",
    "|--------|------------|-------------------------------|----------------|\n",
    "| 1      | QUEUE1     | Tiempo de llegada a la fila 1 |                |\n",
    "| 2      | SERVER1    |                               |                |\n",
    "| 3      | QUEUE2     | Tiempo de llegada a la fila 2 |                |\n",
    "| 4      | SERVER2    |                               |                |\n",
    "| 25     | EVENT_LIST | Tiempo de inicio del evento   | Tipo de evento |\n",
    " \n",
    "Como ya se comentó en el punto anterior, la lista 25 existe en todas las simulaciones de Simlib, y siempre es por defecto la lista de eventos. Por tanto, esta lista guarda dos atibutos por cada evento, el tiempo en el que se registra el evento, y el tipo de evento registrado. Para las otras listas, los argumentos se manejan de forma diferente. Para las listas 1 y 3 (filas), se registra únicamente el tiempo de llegada a la fila. El método arrive registra el tiempo de reloj en QUEUE1 cuando se procesa un evento de llegada, y el servidor 1 está disponible, y el método depart1 hace lo mismo con el evento de salida 1, y el servidor 2 disponible. Por otra parte, las listas 2 y 4 (servidores), únicamente registran un booleano, para indicar si está disponible u ocupado el servidor. Esto lo verifican los métodos arrive y depart1, al consultar si el valor es igual a 1, están preguntando si el servidor 1 y 2 respectivamente están disponibles."
   ]
  },
  {
   "cell_type": "markdown",
   "metadata": {
    "id": "yX7Xf2Gf9WbC"
   },
   "source": [
    "**e. Contadores y/o acumuladores**\n",
    "\n",
    "| Variable                | Tipo            | Descripción                                           | \n",
    "|-------------------------|-----------------|-------------------------------------------------------|\n",
    "| num_custs_delayed       | Contador entero | Clientes que no han sido atendidos de forma inmediata |\n",
    "| num_completed_customers | Contador entero | Clientes que han completado el servicio 2             |\n",
    "\n",
    "Como se comentó en los puntos anteriores, la mayoría de variables y contadores son manejadas internamente por la librería Simlib, al realizar los métodos predefinidos de Simlib. En la simulación sólo se manejan dos contadores, que permiten contar la cantidad de clientes que han sido atendidos."
   ]
  },
  {
   "cell_type": "markdown",
   "metadata": {
    "id": "yX7Xf2Gf9WbC"
   },
   "source": [
    "**f. Medidas de desempeño**\n",
    "\n",
    "| Variable                 | Descripción                                           | \n",
    "|--------------------------|-----------------------------------------------------|\n",
    "| Demora promedio en cola       | Tiempo promedio de espera en cualquiera de las dos colas            |\n",
    "| Demora máxima en cola         | Tiempo máximo de espera registrado en cola |\n",
    "| Demora mínima en cola         | Tiempo mínimo de espera registrado en cola |\n",
    "| Longitud promedio de cola 1   | Contador entero | Clientes que no han sido atendidos de forma inmediata |\n",
    "| Longitud máxima de cola 1     | Contador entero | Clientes que no han sido atendidos de forma inmediata |\n",
    "| Longitud mínima de cola 1     | Contador entero | Clientes que no han sido atendidos de forma inmediata |\n",
    "| Longitud promedio de cola 2   | Contador entero | Clientes que no han sido atendidos de forma inmediata |\n",
    "| Longitud máxima de cola 2     | Contador entero | Clientes que no han sido atendidos de forma inmediata |\n",
    "| Longitud mínima de cola 2     | Contador entero | Clientes que no han sido atendidos de forma inmediata |\n",
    "| Uso promedio del servidor 1   | Contador entero | Clientes que no han sido atendidos de forma inmediata |\n",
    "| Uso máximo del servidor 1     | Contador entero | Clientes que no han sido atendidos de forma inmediata |\n",
    "| Uso mínimo del servidor 1     | Contador entero | Clientes que no han sido atendidos de forma inmediata |\n",
    "| Uso promedio del servidor 2   | Contador entero | Clientes que no han sido atendidos de forma inmediata |\n",
    "| Uso máximo del servidor 2     | Contador entero | Clientes que no han sido atendidos de forma inmediata |\n",
    "| Uso mínimo del servidor 2     | Contador entero | Clientes que no han sido atendidos de forma inmediata |"
   ]
  },
  {
   "cell_type": "markdown",
   "metadata": {
    "id": "yX7Xf2Gf9WbC"
   },
   "source": [
    "**g. Subprogramas y propósito**\n",
    "\n",
    "En la solución presentada, no se crearon subprogramas para las simulaciones. Como tal, era posible crear cuatro archivos separados, especificando las distribuciones de cada corrida. No obstante, en el simulador utilizado para los resultados, se prefirió usar un solo programa, el cual pudiera cambiar las distribuciones entre exponencial y constante, dependiendo del modo que se le suministra."
   ]
  },
  {
   "cell_type": "markdown",
   "metadata": {
    "id": "yX7Xf2Gf9WbC"
   },
   "source": [
    "### 2. Elaborar el diagrama de flujo del programa principal y de cada subprograma que conforma el modelo"
   ]
  },
  {
   "cell_type": "markdown",
   "metadata": {
    "id": "yX7Xf2Gf9WbC"
   },
   "source": [
    "### 3. Desarrollar el simulador en lenguaje de alto nivel"
   ]
  },
  {
   "cell_type": "code",
   "execution_count": 8,
   "metadata": {
    "colab": {
     "base_uri": "https://localhost:8080/"
    },
    "id": "2_XCHLu09-pN",
    "outputId": "1b6a1238-bc99-49a2-9588-f1ee6584b654"
   },
   "outputs": [
    {
     "name": "stdout",
     "output_type": "stream",
     "text": [
      "Writing parameters_10.txt\n"
     ]
    }
   ],
   "source": [
    "%%writefile parameters_9.txt\n",
    "10 9 10000 1 1 1"
   ]
  },
  {
   "cell_type": "markdown",
   "metadata": {
    "id": "yX7Xf2Gf9WbC"
   },
   "source": [
    "%%writefile simulation_9.c\n",
    "#include \"simlib.h\"\n",
    "\n",
    "#define EVENT_ARRIVAL 1\n",
    "#define EVENT_DEPARTURE1 2\n",
    "#define EVENT_DEPARTURE2 3\n",
    "#define LIST_QUEUE1 1\n",
    "#define LIST_SERVER1 2\n",
    "#define LIST_QUEUE2 3\n",
    "#define LIST_SERVER2 4\n",
    "#define SAMPST_DELAYS 1\n",
    "#define STREAM_INTERARRIVAL 1\n",
    "#define STREAM_SERVICE 2\n",
    "\n",
    "int num_custs_delayed, total_simulation_time, num_completed_customers, \n",
    "distribution_type,servers_level1, servers_level2;\n",
    "float mean_interarrival, mean_service;\n",
    "FILE *infile, *outfile;\n",
    "\n",
    "float get_interarrival_time() {\n",
    "    switch (distribution_type) {\n",
    "        case 1: // Exponential interarrival\n",
    "        case 3:\n",
    "            return expon(mean_interarrival, STREAM_INTERARRIVAL);\n",
    "        case 2: // Constant interarrival\n",
    "        case 4:\n",
    "            return mean_interarrival; // Constant time = mean\n",
    "        default:\n",
    "            return expon(mean_interarrival, STREAM_INTERARRIVAL); // Default to exponential\n",
    "    }\n",
    "}\n",
    "\n",
    "float get_service_time() {\n",
    "    switch (distribution_type) {\n",
    "        case 1: // Exponential service\n",
    "        case 2:\n",
    "            return expon(mean_service, STREAM_SERVICE);\n",
    "        case 3: // Constant service\n",
    "        case 4:\n",
    "            return mean_service; // Constant time = mean\n",
    "        default:\n",
    "            return expon(mean_service, STREAM_SERVICE); // Default to exponential\n",
    "    }\n",
    "}\n",
    "\n",
    "void init_model(void) {\n",
    "    num_custs_delayed = 0;\n",
    "    event_schedule(sim_time + get_interarrival_time(), EVENT_ARRIVAL);\n",
    "}\n",
    "\n",
    "void arrive(void) {\n",
    "    event_schedule(sim_time + get_interarrival_time(), EVENT_ARRIVAL);\n",
    "    \n",
    "    if (list_size[LIST_SERVER1] >= servers_level1) {  // Check against number of servers\n",
    "        transfer[1] = sim_time;\n",
    "        list_file(LAST, LIST_QUEUE1);\n",
    "    }\n",
    "    else {\n",
    "        sampst(0.0, SAMPST_DELAYS);\n",
    "        ++num_custs_delayed;\n",
    "        list_file(FIRST, LIST_SERVER1);\n",
    "        event_schedule(sim_time + get_service_time(), EVENT_DEPARTURE1);\n",
    "    }\n",
    "}\n",
    "\n",
    "void depart1(void) {\n",
    "    if (list_size[LIST_QUEUE1] == 0) {\n",
    "        list_remove(FIRST, LIST_SERVER1);\n",
    "    } else {\n",
    "        list_remove(FIRST, LIST_QUEUE1);\n",
    "        sampst(sim_time - transfer[1], SAMPST_DELAYS);\n",
    "        ++num_custs_delayed;\n",
    "        event_schedule(sim_time + get_service_time(), EVENT_DEPARTURE1);\n",
    "    }\n",
    "\n",
    "    if (list_size[LIST_SERVER2] >= servers_level2) {  // Check against number of servers\n",
    "        transfer[1] = sim_time;\n",
    "        list_file(LAST, LIST_QUEUE2);\n",
    "    }\n",
    "    else {\n",
    "        list_file(FIRST, LIST_SERVER2);\n",
    "        event_schedule(sim_time + get_service_time(), EVENT_DEPARTURE2);\n",
    "    }\n",
    "}\n",
    "\n",
    "void depart2(void) {\n",
    "    if (list_size[LIST_QUEUE2] == 0) {\n",
    "        list_remove(FIRST, LIST_SERVER2);\n",
    "    } else {\n",
    "        list_remove(FIRST, LIST_QUEUE2);\n",
    "        event_schedule(sim_time + get_service_time(), EVENT_DEPARTURE2);\n",
    "    }\n",
    "\n",
    "    ++num_completed_customers;\n",
    "}\n",
    "\n",
    "void report(void) {\n",
    "    fprintf(outfile, \"\\nDelays in queue, in minutes:\\n\");\n",
    "    out_sampst(outfile, SAMPST_DELAYS, SAMPST_DELAYS);\n",
    "    fprintf(outfile, \"\\nQueue length and server utilization:\\n\");\n",
    "    out_filest(outfile, LIST_QUEUE1, LIST_SERVER1);\n",
    "    out_filest(outfile, LIST_QUEUE2, LIST_SERVER2);\n",
    "    fprintf(outfile, \"\\nTime simulation ended:%12.3f minutes\\n\", sim_time);\n",
    "    fprintf(outfile, \"Number of customers completed both services:%8d\\n\", num_completed_customers);\n",
    "    fprintf(outfile, \"Number of servers at level 1: %d\\n\", servers_level1);\n",
    "    fprintf(outfile, \"Number of servers at level 2: %d\\n\", servers_level2);\n",
    "}\n",
    "\n",
    "int main() {\n",
    "    char outfilename[20];\n",
    "\n",
    "    infile = fopen(\"parameters_9.txt\", \"r\");\n",
    "    if (infile == NULL) {\n",
    "        printf(\"Error: cannot open input file parameters_9.txt\\n\");\n",
    "        return 1;\n",
    "    }\n",
    "\n",
    "    // Read input parameters including server counts\n",
    "    fscanf(infile, \"%f %f %d %d %d %d\", \n",
    "           &mean_interarrival, &mean_service, \n",
    "           &total_simulation_time, &distribution_type,\n",
    "           &servers_level1, &servers_level2);\n",
    "\n",
    "    // Generate output filename\n",
    "    sprintf(outfilename, \"report_9_%d.txt\", distribution_type, servers_level1, servers_level2);\n",
    "\n",
    "    outfile = fopen(outfilename, \"w\");\n",
    "    if (outfile == NULL) {\n",
    "        printf(\"Error: cannot open output file %s\\n\", outfilename);\n",
    "        fclose(infile);\n",
    "        return 1;\n",
    "    }\n",
    "\n",
    "    fprintf(outfile, \"Multi-server queueing system using simlib\\n\\n\");\n",
    "    fprintf(outfile, \"Mean interarrival time%11.3f minutes\\n\\n\", mean_interarrival);\n",
    "    fprintf(outfile, \"Mean service time%16.3f minutes\\n\\n\", mean_service);\n",
    "    fprintf(outfile, \"Total simulation time%12d minutes\\n\\n\", total_simulation_time);\n",
    "    fprintf(outfile, \"Distribution type: %d\\n\", distribution_type);\n",
    "    switch (distribution_type) {\n",
    "        case 1:\n",
    "            fprintf(outfile, \"Interarrival: Exponential, Service: Exponential\\n\");\n",
    "            break;\n",
    "        case 2:\n",
    "            fprintf(outfile, \"Interarrival: Constant, Service: Exponential\\n\");\n",
    "            break;\n",
    "        case 3:\n",
    "            fprintf(outfile, \"Interarrival: Exponential, Service: Constant\\n\");\n",
    "            break;\n",
    "        case 4:\n",
    "            fprintf(outfile, \"Interarrival: Constant, Service: Constant\\n\");\n",
    "            break;\n",
    "        default:\n",
    "            fprintf(outfile, \"Invalid distribution type. Defaulting to Exponential/Exponential.\\n\");\n",
    "    }\n",
    "    fprintf(outfile, \"Number of servers at level 1: %d\\n\", servers_level1);\n",
    "    fprintf(outfile, \"Number of servers at level 2: %d\\n\\n\", servers_level2);\n",
    "\n",
    "    maxatr = 4;\n",
    "    maxlist = 26;\n",
    "    init_simlib();\n",
    "    init_model();\n",
    "    while (sim_time < total_simulation_time) {\n",
    "        timing();\n",
    "        switch (next_event_type) {\n",
    "            case EVENT_ARRIVAL:\n",
    "                arrive();\n",
    "                break;\n",
    "            case EVENT_DEPARTURE1:\n",
    "                depart1();\n",
    "                break;\n",
    "            case EVENT_DEPARTURE2:\n",
    "                depart2();\n",
    "                break;\n",
    "        }\n",
    "    }\n",
    "    report();\n",
    "    fclose(infile);\n",
    "    fclose(outfile);\n",
    "\n",
    "    return 0;\n",
    "}"
   ]
  },
  {
   "cell_type": "markdown",
   "metadata": {
    "id": "yX7Xf2Gf9WbC"
   },
   "source": [
    "### 4. Analizar resultados"
   ]
  },
  {
   "cell_type": "code",
   "execution_count": 10,
   "metadata": {
    "colab": {
     "base_uri": "https://localhost:8080/"
    },
    "id": "cZUldD1V-VYX",
    "outputId": "9de7c69b-b304-4837-b7ec-eeea8c8b062e"
   },
   "outputs": [
    {
     "name": "stdout",
     "output_type": "stream",
     "text": [
      "In file included from \u001b[01m\u001b[Ksimlib.h:9\u001b[m\u001b[K,\n",
      "                 from \u001b[01m\u001b[Ksimulation_10.c:74\u001b[m\u001b[K:\n",
      "\u001b[01m\u001b[Ksimlibdefs.h:30:\u001b[m\u001b[K \u001b[01;35m\u001b[Kwarning: \u001b[m\u001b[K\"INFINITY\" redefined\n",
      "   30 | #define INFINITY     1.E30  /* Not really infinity, but a very large number. */\n",
      "      | \n",
      "In file included from \u001b[01m\u001b[Ksimulation_10.c:73\u001b[m\u001b[K:\n",
      "\u001b[01m\u001b[K/usr/include/math.h:91:\u001b[m\u001b[K \u001b[01;36m\u001b[Knote: \u001b[m\u001b[Kthis is the location of the previous definition\n",
      "   91 | #  define INFINITY (__builtin_inff ())\n",
      "      | \n",
      "In file included from \u001b[01m\u001b[Ksimlib.c:9\u001b[m\u001b[K:\n",
      "\u001b[01m\u001b[Ksimlibdefs.h:30:\u001b[m\u001b[K \u001b[01;35m\u001b[Kwarning: \u001b[m\u001b[K\"INFINITY\" redefined\n",
      "   30 | #define INFINITY     1.E30  /* Not really infinity, but a very large number. */\n",
      "      | \n",
      "In file included from \u001b[01m\u001b[Ksimlib.c:8\u001b[m\u001b[K:\n",
      "\u001b[01m\u001b[K/usr/include/math.h:91:\u001b[m\u001b[K \u001b[01;36m\u001b[Knote: \u001b[m\u001b[Kthis is the location of the previous definition\n",
      "   91 | #  define INFINITY (__builtin_inff ())\n",
      "      | \n"
     ]
    }
   ],
   "source": [
    "!gcc simulation_9.c simlib.c -o simulation_9 -lm"
   ]
  },
  {
   "cell_type": "code",
   "execution_count": 11,
   "metadata": {
    "id": "ImJU1lIaBxRw"
   },
   "outputs": [],
   "source": [
    "!./simulation_9"
   ]
  },
  {
   "cell_type": "code",
   "execution_count": 12,
   "metadata": {
    "colab": {
     "base_uri": "https://localhost:8080/"
    },
    "id": "sC46dbTnCtxE",
    "outputId": "28d9da1e-724b-4378-dc02-ddb8a9fe032c"
   },
   "outputs": [
    {
     "ename": "FileNotFoundError",
     "evalue": "[Errno 2] No such file or directory: '/content/report_10.txt'",
     "output_type": "error",
     "traceback": [
      "\u001b[31m---------------------------------------------------------------------------\u001b[39m",
      "\u001b[31mFileNotFoundError\u001b[39m                         Traceback (most recent call last)",
      "\u001b[36mCell\u001b[39m\u001b[36m \u001b[39m\u001b[32mIn[12]\u001b[39m\u001b[32m, line 1\u001b[39m\n\u001b[32m----> \u001b[39m\u001b[32m1\u001b[39m \u001b[38;5;28;01mwith\u001b[39;00m \u001b[38;5;28;43mopen\u001b[39;49m\u001b[43m(\u001b[49m\u001b[33;43m\"\u001b[39;49m\u001b[33;43m/content/report_10.txt\u001b[39;49m\u001b[33;43m\"\u001b[39;49m\u001b[43m,\u001b[49m\u001b[43m \u001b[49m\u001b[33;43m\"\u001b[39;49m\u001b[33;43mr\u001b[39;49m\u001b[33;43m\"\u001b[39;49m\u001b[43m)\u001b[49m \u001b[38;5;28;01mas\u001b[39;00m file:\n\u001b[32m      2\u001b[39m     \u001b[38;5;28mprint\u001b[39m(file.read())\n",
      "\u001b[36mFile \u001b[39m\u001b[32m~/.local/lib/python3.13/site-packages/IPython/core/interactiveshell.py:326\u001b[39m, in \u001b[36m_modified_open\u001b[39m\u001b[34m(file, *args, **kwargs)\u001b[39m\n\u001b[32m    319\u001b[39m \u001b[38;5;28;01mif\u001b[39;00m file \u001b[38;5;129;01min\u001b[39;00m {\u001b[32m0\u001b[39m, \u001b[32m1\u001b[39m, \u001b[32m2\u001b[39m}:\n\u001b[32m    320\u001b[39m     \u001b[38;5;28;01mraise\u001b[39;00m \u001b[38;5;167;01mValueError\u001b[39;00m(\n\u001b[32m    321\u001b[39m         \u001b[33mf\u001b[39m\u001b[33m\"\u001b[39m\u001b[33mIPython won\u001b[39m\u001b[33m'\u001b[39m\u001b[33mt let you open fd=\u001b[39m\u001b[38;5;132;01m{\u001b[39;00mfile\u001b[38;5;132;01m}\u001b[39;00m\u001b[33m by default \u001b[39m\u001b[33m\"\u001b[39m\n\u001b[32m    322\u001b[39m         \u001b[33m\"\u001b[39m\u001b[33mas it is likely to crash IPython. If you know what you are doing, \u001b[39m\u001b[33m\"\u001b[39m\n\u001b[32m    323\u001b[39m         \u001b[33m\"\u001b[39m\u001b[33myou can use builtins\u001b[39m\u001b[33m'\u001b[39m\u001b[33m open.\u001b[39m\u001b[33m\"\u001b[39m\n\u001b[32m    324\u001b[39m     )\n\u001b[32m--> \u001b[39m\u001b[32m326\u001b[39m \u001b[38;5;28;01mreturn\u001b[39;00m \u001b[43mio_open\u001b[49m\u001b[43m(\u001b[49m\u001b[43mfile\u001b[49m\u001b[43m,\u001b[49m\u001b[43m \u001b[49m\u001b[43m*\u001b[49m\u001b[43margs\u001b[49m\u001b[43m,\u001b[49m\u001b[43m \u001b[49m\u001b[43m*\u001b[49m\u001b[43m*\u001b[49m\u001b[43mkwargs\u001b[49m\u001b[43m)\u001b[49m\n",
      "\u001b[31mFileNotFoundError\u001b[39m: [Errno 2] No such file or directory: '/content/report_10.txt'"
     ]
    }
   ],
   "source": [
    "with open(\"report_9_1.txt\", \"r\") as file:\n",
    "    print(file.read())\n"
   ]
  },
  {
   "cell_type": "markdown",
   "metadata": {
    "id": "yX7Xf2Gf9WbC"
   },
   "source": [
    "**a.\tCorrida 1: tiempo entre llegada y de servicio exponenciales**"
   ]
  },
  {
   "cell_type": "markdown",
   "metadata": {
    "id": "yX7Xf2Gf9WbC"
   },
   "source": [
    "Multi-server queueing system using simlib\n",
    "\n",
    "Mean interarrival time     10.000 minutes\n",
    "\n",
    "Mean service time           9.000 minutes\n",
    "\n",
    "Total simulation time       10000 minutes\n",
    "\n",
    "Distribution type: 1\n",
    "Interarrival: Exponential, Service: Exponential\n",
    "Number of servers at level 1: 1\n",
    "Number of servers at level 2: 1\n",
    "\n",
    "\n",
    "Delays in queue, in minutes:\n",
    "\n",
    " sampst                         Number\n",
    "variable                          of\n",
    " number       Average           values          Maximum          Minimum\n",
    "________________________________________________________________________\n",
    "\n",
    "    1         121.123          1014.00          349.119          0.00000 \n",
    "________________________________________________________________________\n",
    "\n",
    "\n",
    "\n",
    "Queue length and server utilization:\n",
    "\n",
    "  File         Time\n",
    " number       average          Maximum          Minimum\n",
    "_______________________________________________________\n",
    "\n",
    "    1         12.2813          37.0000          0.00000 \n",
    "\n",
    "    2        0.925342          1.00000          0.00000 \n",
    "_______________________________________________________\n",
    "\n",
    "\n",
    "\n",
    "  File         Time\n",
    " number       average          Maximum          Minimum\n",
    "_______________________________________________________\n",
    "\n",
    "    3         5.06968          28.0000          0.00000 \n",
    "\n",
    "    4        0.862937          1.00000          0.00000 \n",
    "_______________________________________________________\n",
    "\n",
    "\n",
    "\n",
    "Time simulation ended:   10000.495 minutes\n",
    "Number of customers completed both services:    1006\n",
    "Number of servers at level 1: 1\n",
    "Number of servers at level 2: 1\n"
   ]
  },
  {
   "cell_type": "markdown",
   "metadata": {
    "id": "yX7Xf2Gf9WbC"
   },
   "source": [
    "**b.\tCorrida 2: Tiempo entre llegada constantes y tiempos de servicio exponenciales**"
   ]
  },
  {
   "cell_type": "code",
   "execution_count": 8,
   "metadata": {
    "colab": {
     "base_uri": "https://localhost:8080/"
    },
    "id": "2_XCHLu09-pN",
    "outputId": "1b6a1238-bc99-49a2-9588-f1ee6584b654"
   },
   "outputs": [
    {
     "name": "stdout",
     "output_type": "stream",
     "text": [
      "Writing parameters_10.txt\n"
     ]
    }
   ],
   "source": [
    "%%writefile parameters_9.txt\n",
    "10 9 10000 2 1 1"
   ]
  },
  {
   "cell_type": "code",
   "execution_count": 11,
   "metadata": {
    "id": "ImJU1lIaBxRw"
   },
   "outputs": [],
   "source": [
    "!./simulation_9"
   ]
  },
  {
   "cell_type": "code",
   "execution_count": 12,
   "metadata": {
    "colab": {
     "base_uri": "https://localhost:8080/"
    },
    "id": "sC46dbTnCtxE",
    "outputId": "28d9da1e-724b-4378-dc02-ddb8a9fe032c"
   },
   "outputs": [
    {
     "ename": "FileNotFoundError",
     "evalue": "[Errno 2] No such file or directory: '/content/report_10.txt'",
     "output_type": "error",
     "traceback": [
      "\u001b[31m---------------------------------------------------------------------------\u001b[39m",
      "\u001b[31mFileNotFoundError\u001b[39m                         Traceback (most recent call last)",
      "\u001b[36mCell\u001b[39m\u001b[36m \u001b[39m\u001b[32mIn[12]\u001b[39m\u001b[32m, line 1\u001b[39m\n\u001b[32m----> \u001b[39m\u001b[32m1\u001b[39m \u001b[38;5;28;01mwith\u001b[39;00m \u001b[38;5;28;43mopen\u001b[39;49m\u001b[43m(\u001b[49m\u001b[33;43m\"\u001b[39;49m\u001b[33;43m/content/report_10.txt\u001b[39;49m\u001b[33;43m\"\u001b[39;49m\u001b[43m,\u001b[49m\u001b[43m \u001b[49m\u001b[33;43m\"\u001b[39;49m\u001b[33;43mr\u001b[39;49m\u001b[33;43m\"\u001b[39;49m\u001b[43m)\u001b[49m \u001b[38;5;28;01mas\u001b[39;00m file:\n\u001b[32m      2\u001b[39m     \u001b[38;5;28mprint\u001b[39m(file.read())\n",
      "\u001b[36mFile \u001b[39m\u001b[32m~/.local/lib/python3.13/site-packages/IPython/core/interactiveshell.py:326\u001b[39m, in \u001b[36m_modified_open\u001b[39m\u001b[34m(file, *args, **kwargs)\u001b[39m\n\u001b[32m    319\u001b[39m \u001b[38;5;28;01mif\u001b[39;00m file \u001b[38;5;129;01min\u001b[39;00m {\u001b[32m0\u001b[39m, \u001b[32m1\u001b[39m, \u001b[32m2\u001b[39m}:\n\u001b[32m    320\u001b[39m     \u001b[38;5;28;01mraise\u001b[39;00m \u001b[38;5;167;01mValueError\u001b[39;00m(\n\u001b[32m    321\u001b[39m         \u001b[33mf\u001b[39m\u001b[33m\"\u001b[39m\u001b[33mIPython won\u001b[39m\u001b[33m'\u001b[39m\u001b[33mt let you open fd=\u001b[39m\u001b[38;5;132;01m{\u001b[39;00mfile\u001b[38;5;132;01m}\u001b[39;00m\u001b[33m by default \u001b[39m\u001b[33m\"\u001b[39m\n\u001b[32m    322\u001b[39m         \u001b[33m\"\u001b[39m\u001b[33mas it is likely to crash IPython. If you know what you are doing, \u001b[39m\u001b[33m\"\u001b[39m\n\u001b[32m    323\u001b[39m         \u001b[33m\"\u001b[39m\u001b[33myou can use builtins\u001b[39m\u001b[33m'\u001b[39m\u001b[33m open.\u001b[39m\u001b[33m\"\u001b[39m\n\u001b[32m    324\u001b[39m     )\n\u001b[32m--> \u001b[39m\u001b[32m326\u001b[39m \u001b[38;5;28;01mreturn\u001b[39;00m \u001b[43mio_open\u001b[49m\u001b[43m(\u001b[49m\u001b[43mfile\u001b[49m\u001b[43m,\u001b[49m\u001b[43m \u001b[49m\u001b[43m*\u001b[49m\u001b[43margs\u001b[49m\u001b[43m,\u001b[49m\u001b[43m \u001b[49m\u001b[43m*\u001b[49m\u001b[43m*\u001b[49m\u001b[43mkwargs\u001b[49m\u001b[43m)\u001b[49m\n",
      "\u001b[31mFileNotFoundError\u001b[39m: [Errno 2] No such file or directory: '/content/report_10.txt'"
     ]
    }
   ],
   "source": [
    "with open(\"report_9_2.txt\", \"r\") as file:\n",
    "    print(file.read())\n"
   ]
  },
  {
   "cell_type": "markdown",
   "metadata": {
    "id": "yX7Xf2Gf9WbC"
   },
   "source": [
    "Multi-server queueing system using simlib\n",
    "\n",
    "Mean interarrival time     10.000 minutes\n",
    "\n",
    "Mean service time           9.000 minutes\n",
    "\n",
    "Total simulation time       10000 minutes\n",
    "\n",
    "Distribution type: 2\n",
    "Interarrival: Constant, Service: Exponential\n",
    "Number of servers at level 1: 1\n",
    "Number of servers at level 2: 1\n",
    "\n",
    "\n",
    "Delays in queue, in minutes:\n",
    "\n",
    " sampst                         Number\n",
    "variable                          of\n",
    " number       Average           values          Maximum          Minimum\n",
    "________________________________________________________________________\n",
    "\n",
    "    1         36.6710          998.000          148.308          0.00000 \n",
    "________________________________________________________________________\n",
    "\n",
    "\n",
    "\n",
    "Queue length and server utilization:\n",
    "\n",
    "  File         Time\n",
    " number       average          Maximum          Minimum\n",
    "_______________________________________________________\n",
    "\n",
    "    1         3.66076          15.0000          0.00000 \n",
    "\n",
    "    2        0.894527          1.00000          0.00000 \n",
    "_______________________________________________________\n",
    "\n",
    "\n",
    "\n",
    "  File         Time\n",
    " number       average          Maximum          Minimum\n",
    "_______________________________________________________\n",
    "\n",
    "    3         3.54243          25.0000          0.00000 \n",
    "\n",
    "    4        0.864306          1.00000          0.00000 \n",
    "_______________________________________________________\n",
    "\n",
    "\n",
    "\n",
    "Time simulation ended:   10000.000 minutes\n",
    "Number of customers completed both services:     993\n",
    "Number of servers at level 1: 1\n",
    "Number of servers at level 2: 1\n"
   ]
  },
  {
   "cell_type": "markdown",
   "metadata": {
    "id": "yX7Xf2Gf9WbC"
   },
   "source": [
    "**c.\tCorrida 3: Tiempo entre llegadas exponenciales y tiempo de servicio constantes**"
   ]
  },
  {
   "cell_type": "code",
   "execution_count": 8,
   "metadata": {
    "colab": {
     "base_uri": "https://localhost:8080/"
    },
    "id": "2_XCHLu09-pN",
    "outputId": "1b6a1238-bc99-49a2-9588-f1ee6584b654"
   },
   "outputs": [
    {
     "name": "stdout",
     "output_type": "stream",
     "text": [
      "Writing parameters_10.txt\n"
     ]
    }
   ],
   "source": [
    "%%writefile parameters_9.txt\n",
    "10 9 10000 3 1 1"
   ]
  },
  {
   "cell_type": "code",
   "execution_count": 11,
   "metadata": {
    "id": "ImJU1lIaBxRw"
   },
   "outputs": [],
   "source": [
    "!./simulation_9"
   ]
  },
  {
   "cell_type": "code",
   "execution_count": 12,
   "metadata": {
    "colab": {
     "base_uri": "https://localhost:8080/"
    },
    "id": "sC46dbTnCtxE",
    "outputId": "28d9da1e-724b-4378-dc02-ddb8a9fe032c"
   },
   "outputs": [
    {
     "ename": "FileNotFoundError",
     "evalue": "[Errno 2] No such file or directory: '/content/report_10.txt'",
     "output_type": "error",
     "traceback": [
      "\u001b[31m---------------------------------------------------------------------------\u001b[39m",
      "\u001b[31mFileNotFoundError\u001b[39m                         Traceback (most recent call last)",
      "\u001b[36mCell\u001b[39m\u001b[36m \u001b[39m\u001b[32mIn[12]\u001b[39m\u001b[32m, line 1\u001b[39m\n\u001b[32m----> \u001b[39m\u001b[32m1\u001b[39m \u001b[38;5;28;01mwith\u001b[39;00m \u001b[38;5;28;43mopen\u001b[39;49m\u001b[43m(\u001b[49m\u001b[33;43m\"\u001b[39;49m\u001b[33;43m/content/report_10.txt\u001b[39;49m\u001b[33;43m\"\u001b[39;49m\u001b[43m,\u001b[49m\u001b[43m \u001b[49m\u001b[33;43m\"\u001b[39;49m\u001b[33;43mr\u001b[39;49m\u001b[33;43m\"\u001b[39;49m\u001b[43m)\u001b[49m \u001b[38;5;28;01mas\u001b[39;00m file:\n\u001b[32m      2\u001b[39m     \u001b[38;5;28mprint\u001b[39m(file.read())\n",
      "\u001b[36mFile \u001b[39m\u001b[32m~/.local/lib/python3.13/site-packages/IPython/core/interactiveshell.py:326\u001b[39m, in \u001b[36m_modified_open\u001b[39m\u001b[34m(file, *args, **kwargs)\u001b[39m\n\u001b[32m    319\u001b[39m \u001b[38;5;28;01mif\u001b[39;00m file \u001b[38;5;129;01min\u001b[39;00m {\u001b[32m0\u001b[39m, \u001b[32m1\u001b[39m, \u001b[32m2\u001b[39m}:\n\u001b[32m    320\u001b[39m     \u001b[38;5;28;01mraise\u001b[39;00m \u001b[38;5;167;01mValueError\u001b[39;00m(\n\u001b[32m    321\u001b[39m         \u001b[33mf\u001b[39m\u001b[33m\"\u001b[39m\u001b[33mIPython won\u001b[39m\u001b[33m'\u001b[39m\u001b[33mt let you open fd=\u001b[39m\u001b[38;5;132;01m{\u001b[39;00mfile\u001b[38;5;132;01m}\u001b[39;00m\u001b[33m by default \u001b[39m\u001b[33m\"\u001b[39m\n\u001b[32m    322\u001b[39m         \u001b[33m\"\u001b[39m\u001b[33mas it is likely to crash IPython. If you know what you are doing, \u001b[39m\u001b[33m\"\u001b[39m\n\u001b[32m    323\u001b[39m         \u001b[33m\"\u001b[39m\u001b[33myou can use builtins\u001b[39m\u001b[33m'\u001b[39m\u001b[33m open.\u001b[39m\u001b[33m\"\u001b[39m\n\u001b[32m    324\u001b[39m     )\n\u001b[32m--> \u001b[39m\u001b[32m326\u001b[39m \u001b[38;5;28;01mreturn\u001b[39;00m \u001b[43mio_open\u001b[49m\u001b[43m(\u001b[49m\u001b[43mfile\u001b[49m\u001b[43m,\u001b[49m\u001b[43m \u001b[49m\u001b[43m*\u001b[49m\u001b[43margs\u001b[49m\u001b[43m,\u001b[49m\u001b[43m \u001b[49m\u001b[43m*\u001b[49m\u001b[43m*\u001b[49m\u001b[43mkwargs\u001b[49m\u001b[43m)\u001b[49m\n",
      "\u001b[31mFileNotFoundError\u001b[39m: [Errno 2] No such file or directory: '/content/report_10.txt'"
     ]
    }
   ],
   "source": [
    "with open(\"report_9_3.txt\", \"r\") as file:\n",
    "    print(file.read())\n"
   ]
  },
  {
   "cell_type": "markdown",
   "metadata": {
    "id": "yX7Xf2Gf9WbC"
   },
   "source": [
    "Multi-server queueing system using simlib\n",
    "\n",
    "Mean interarrival time     10.000 minutes\n",
    "\n",
    "Mean service time           9.000 minutes\n",
    "\n",
    "Total simulation time       10000 minutes\n",
    "\n",
    "Distribution type: 3\n",
    "Interarrival: Exponential, Service: Constant\n",
    "Number of servers at level 1: 1\n",
    "Number of servers at level 2: 1\n",
    "\n",
    "\n",
    "Delays in queue, in minutes:\n",
    "\n",
    " sampst                         Number\n",
    "variable                          of\n",
    " number       Average           values          Maximum          Minimum\n",
    "________________________________________________________________________\n",
    "\n",
    "    1         47.3141          1015.00          208.489          0.00000 \n",
    "________________________________________________________________________\n",
    "\n",
    "\n",
    "\n",
    "Queue length and server utilization:\n",
    "\n",
    "  File         Time\n",
    " number       average          Maximum          Minimum\n",
    "_______________________________________________________\n",
    "\n",
    "    1         4.79695          24.0000          0.00000 \n",
    "\n",
    "    2        0.911567          1.00000          0.00000 \n",
    "_______________________________________________________\n",
    "\n",
    "\n",
    "\n",
    "  File         Time\n",
    " number       average          Maximum          Minimum\n",
    "_______________________________________________________\n",
    "\n",
    "    3         0.00000          1.00000          0.00000 \n",
    "\n",
    "    4        0.911567          1.00000          0.00000 \n",
    "_______________________________________________________\n",
    "\n",
    "\n",
    "\n",
    "Time simulation ended:   10011.330 minutes\n",
    "Number of customers completed both services:    1014\n",
    "Number of servers at level 1: 1\n",
    "Number of servers at level 2: 1\n"
   ]
  },
  {
   "cell_type": "markdown",
   "metadata": {
    "id": "yX7Xf2Gf9WbC"
   },
   "source": [
    "**d.\tCorrida 4: Tiempo entre llegadas constantes y tiempos de servicio constantes**"
   ]
  },
  {
   "cell_type": "code",
   "execution_count": 8,
   "metadata": {
    "colab": {
     "base_uri": "https://localhost:8080/"
    },
    "id": "2_XCHLu09-pN",
    "outputId": "1b6a1238-bc99-49a2-9588-f1ee6584b654"
   },
   "outputs": [
    {
     "name": "stdout",
     "output_type": "stream",
     "text": [
      "Writing parameters_10.txt\n"
     ]
    }
   ],
   "source": [
    "%%writefile parameters_9.txt\n",
    "10 9 10000 4 1 1"
   ]
  },
  {
   "cell_type": "code",
   "execution_count": 11,
   "metadata": {
    "id": "ImJU1lIaBxRw"
   },
   "outputs": [],
   "source": [
    "!./simulation_9"
   ]
  },
  {
   "cell_type": "code",
   "execution_count": 12,
   "metadata": {
    "colab": {
     "base_uri": "https://localhost:8080/"
    },
    "id": "sC46dbTnCtxE",
    "outputId": "28d9da1e-724b-4378-dc02-ddb8a9fe032c"
   },
   "outputs": [
    {
     "ename": "FileNotFoundError",
     "evalue": "[Errno 2] No such file or directory: '/content/report_10.txt'",
     "output_type": "error",
     "traceback": [
      "\u001b[31m---------------------------------------------------------------------------\u001b[39m",
      "\u001b[31mFileNotFoundError\u001b[39m                         Traceback (most recent call last)",
      "\u001b[36mCell\u001b[39m\u001b[36m \u001b[39m\u001b[32mIn[12]\u001b[39m\u001b[32m, line 1\u001b[39m\n\u001b[32m----> \u001b[39m\u001b[32m1\u001b[39m \u001b[38;5;28;01mwith\u001b[39;00m \u001b[38;5;28;43mopen\u001b[39;49m\u001b[43m(\u001b[49m\u001b[33;43m\"\u001b[39;49m\u001b[33;43m/content/report_10.txt\u001b[39;49m\u001b[33;43m\"\u001b[39;49m\u001b[43m,\u001b[49m\u001b[43m \u001b[49m\u001b[33;43m\"\u001b[39;49m\u001b[33;43mr\u001b[39;49m\u001b[33;43m\"\u001b[39;49m\u001b[43m)\u001b[49m \u001b[38;5;28;01mas\u001b[39;00m file:\n\u001b[32m      2\u001b[39m     \u001b[38;5;28mprint\u001b[39m(file.read())\n",
      "\u001b[36mFile \u001b[39m\u001b[32m~/.local/lib/python3.13/site-packages/IPython/core/interactiveshell.py:326\u001b[39m, in \u001b[36m_modified_open\u001b[39m\u001b[34m(file, *args, **kwargs)\u001b[39m\n\u001b[32m    319\u001b[39m \u001b[38;5;28;01mif\u001b[39;00m file \u001b[38;5;129;01min\u001b[39;00m {\u001b[32m0\u001b[39m, \u001b[32m1\u001b[39m, \u001b[32m2\u001b[39m}:\n\u001b[32m    320\u001b[39m     \u001b[38;5;28;01mraise\u001b[39;00m \u001b[38;5;167;01mValueError\u001b[39;00m(\n\u001b[32m    321\u001b[39m         \u001b[33mf\u001b[39m\u001b[33m\"\u001b[39m\u001b[33mIPython won\u001b[39m\u001b[33m'\u001b[39m\u001b[33mt let you open fd=\u001b[39m\u001b[38;5;132;01m{\u001b[39;00mfile\u001b[38;5;132;01m}\u001b[39;00m\u001b[33m by default \u001b[39m\u001b[33m\"\u001b[39m\n\u001b[32m    322\u001b[39m         \u001b[33m\"\u001b[39m\u001b[33mas it is likely to crash IPython. If you know what you are doing, \u001b[39m\u001b[33m\"\u001b[39m\n\u001b[32m    323\u001b[39m         \u001b[33m\"\u001b[39m\u001b[33myou can use builtins\u001b[39m\u001b[33m'\u001b[39m\u001b[33m open.\u001b[39m\u001b[33m\"\u001b[39m\n\u001b[32m    324\u001b[39m     )\n\u001b[32m--> \u001b[39m\u001b[32m326\u001b[39m \u001b[38;5;28;01mreturn\u001b[39;00m \u001b[43mio_open\u001b[49m\u001b[43m(\u001b[49m\u001b[43mfile\u001b[49m\u001b[43m,\u001b[49m\u001b[43m \u001b[49m\u001b[43m*\u001b[49m\u001b[43margs\u001b[49m\u001b[43m,\u001b[49m\u001b[43m \u001b[49m\u001b[43m*\u001b[49m\u001b[43m*\u001b[49m\u001b[43mkwargs\u001b[49m\u001b[43m)\u001b[49m\n",
      "\u001b[31mFileNotFoundError\u001b[39m: [Errno 2] No such file or directory: '/content/report_10.txt'"
     ]
    }
   ],
   "source": [
    "with open(\"report_9_4.txt\", \"r\") as file:\n",
    "    print(file.read())\n"
   ]
  },
  {
   "cell_type": "markdown",
   "metadata": {
    "id": "yX7Xf2Gf9WbC"
   },
   "source": [
    "Multi-server queueing system using simlib\n",
    "\n",
    "Mean interarrival time     10.000 minutes\n",
    "\n",
    "Mean service time           9.000 minutes\n",
    "\n",
    "Total simulation time       10000 minutes\n",
    "\n",
    "Distribution type: 4\n",
    "Interarrival: Constant, Service: Constant\n",
    "Number of servers at level 1: 1\n",
    "Number of servers at level 2: 1\n",
    "\n",
    "\n",
    "Delays in queue, in minutes:\n",
    "\n",
    " sampst                         Number\n",
    "variable                          of\n",
    " number       Average           values          Maximum          Minimum\n",
    "________________________________________________________________________\n",
    "\n",
    "    1         0.00000          1000.00          0.00000          0.00000 \n",
    "________________________________________________________________________\n",
    "\n",
    "\n",
    "\n",
    "Queue length and server utilization:\n",
    "\n",
    "  File         Time\n",
    " number       average          Maximum          Minimum\n",
    "_______________________________________________________\n",
    "\n",
    "    1         0.00000     -1.00000E+30      1.00000E+30 \n",
    "\n",
    "    2        0.899100          1.00000          0.00000 \n",
    "_______________________________________________________\n",
    "\n",
    "\n",
    "\n",
    "  File         Time\n",
    " number       average          Maximum          Minimum\n",
    "_______________________________________________________\n",
    "\n",
    "    3         0.00000     -1.00000E+30      1.00000E+30 \n",
    "\n",
    "    4        0.898300          1.00000          0.00000 \n",
    "_______________________________________________________\n",
    "\n",
    "\n",
    "\n",
    "Time simulation ended:   10000.000 minutes\n",
    "Number of customers completed both services:     998\n",
    "Number of servers at level 1: 1\n",
    "Number of servers at level 2: 1\n"
   ]
  },
  {
   "cell_type": "markdown",
   "metadata": {
    "id": "yX7Xf2Gf9WbC"
   },
   "source": [
    "**e. Análisis de resultados**\n",
    "\n",
    "En esta sección, acabamos de mostrar cómo se realizan reportes de rendimiento para las cuatro corridas requeridas para el ejercicio. En la siguiente tabla, comparamos las corridas realizadas durante el desarrollo de este taller. Se pueden confirmar estos valores en el repositorio oficial del taller:\n",
    "| Métrica            | Exponencial/Exponencial | Constante/Exponencial | Exponencial/Constante | Constante/Constante |\n",
    "|--------------------|-------------------------|-----------------------|-----------------------|---------------------|\n",
    "| Demora total       | 197.448 (0.9-603.5)     | 124.112 (3.3-286.1)   | 65.3607 (18-226.5)    | 18 (18-18)          |\n",
    "| Demora cola 1      | 70.3611 (0-270.2)       | 34.0812 (0-212.6)     | 47.3141 (0-208.5)     | 0                   |\n",
    "| Demora cola 2      | 109.225 (0-520.8)       | 72.1279 (0-235.2)     | 0                     | 0                   |\n",
    "| Longitud fila 1    | 7.13311 (0-26)          | 3.40471 (0-22)        | 4.79695 (0-24)        | 0                   |\n",
    "| Longitud fila 2    | 11.0731 (0-57)          | 7.17686 (0-25)        | 0                     | 0                   |\n",
    "| Uso servidor 1     | 90.6411%                | 84.8335%              | 91.1567%              | 89.91%              |\n",
    "| Uso servidor 2     | 88.6811%                | 91.0061%              | 91.1567%              | 89.83%              |\n",
    "| Clientes atendidos | 1013                    | 992                   | 1014                  | 998                 |\n",
    "\n",
    "Primero, debemos confirmar que estos valores sean coherentes con las características de cada corrida. Se observa que, en general, la simulación con tiempos de llegada y servicio constante, es la más eficiente, ya que evita la formación de colas, y la demora total promedio de los clientes es la más baja de las cuatro corridas (18). Por otra parte, la primera corrida, la de tiempos exponenciales, es la que tiene mayor tiempo de demora en atención al cliente, así como las demoras más largas en la cola, y los peores casos más exagerados. \n",
    "El resultado de la corrida 4 tan exacto es coherente. El tiempo de demora total no considera el tiempo entre llegadas de cada cliente. Por tanto, el tiempo de demora total es, el tiempo de ambos servicios, más el tiempo de espera en ambas colas. Si el tiempo de servicio es constante (9 minutos), y ambos servicios son iguales, un tiempo promedio de demora de 18 minutos indica que no hubo demora en cola, que es exactamente lo que se observa en las demoras de cada cola. Tiene sentido que no se genere nunca cola en esta simulación, porque el tiempo entre llegadas es constante, y mayor al tiempo de servicio, por lo que siempre se libera el servidor antes de que llegue un nuevo cliente.\n",
    "Por otra parte, la diferencia entre los casos exponenciales con los constantes también es coherente. Aunque el promedio de llegada, como el de servicio, son iguales en ambas distribuciones, la variabilidad en la distribución exponencial es mucho mayor. Esto implica, que van a existir casos de demoras en servicio, así como tiempos de llegada inusualmente rápidos La presencia de casos anómalos a lo largo de la simulación van a generar retrasos, que se manifiestan como el crecimiento de las colas. Incluso en el peor caso (Corrida 1), el promedio de longitud de fila no es tan grande (7 y 11 respectivamente), pero los máximos registrados muestran que existen momentos específicos en los que las colas crecen significativamente, y por tanto, los tiempos de espera resultantes. Cualquier situación de tiempo de llegada menor a alguno de los dos tiempos de servicio de los dos servidores generará un retraso, que se va a ir acumulando en los clientes posteriores.\n",
    "Comparando la corrida 2 con la corrida 3, observamos que hacer constante el tiempo de servicio, tiene mejores resultados que hacer constante el tiempo de espera. Esto también tiene sentido, ya que el tiempo de servicio tiene un mayor impacto en la simulación general, al presentar dos servidores de manera secuencial. No solo es (en el caso óptimo), más demorado atender un cliente en ambos servidores, que esperar a un nuevo cliente, sino que además, una demora en cualquiera de los dos servidores va a generar un retraso en el servicio. Por eso se observa que la Corrida 3 no tiene fila para el servicio 2. Como los tiempos son constantes, la llegada de clientes al servicio 2 depende exclusivamente de la llegada y resolución de la cola al servicio 1. Una vez se inicia el servicio 1, el tiempo de servicio total es constante, y será más rápido que el proceso de desencolar al servicio 1.\n",
    "Finalmente, llama la atención que, aunque el tiempo de espera por cliente difiere significativamente en cada corrida, el número de clientes atendidos se mantiene constante. Esto se explica por el porcentaje de uso del servidor. Aunque el tiempo de espera del cliente sea distinto, el tiempo de atención promedio se mantiene constante. Esto se observa porque en las cuatro corridas, el uso de los servidores es casi constante. Lo que espera observarse, es que la fila pendiente al final de la simulación de la corrida 1, sea mayor que la fila de las corridas 3 y 4 (que nunca se encola), pero el tiempo que demora cada servidor en atender a los clientes, se mantiene muy constante. "
   ]
  },
  {
   "cell_type": "markdown",
   "metadata": {
    "id": "yX7Xf2Gf9WbC"
   },
   "source": [
    "### 5. Plantear modificaciones\n",
    "\n",
    "Para el proceso de modificaciones, vamos a realizar experimentos únicamente en parámetros que se presume, pueden ser modificados por el sistema. Por ejemplo, el tiempo de llegada de clientes (y su distribución), no es dependiente del funcionamiento de su sistema, y se presume que no puede ser modificado por acciones reales del sistema. Por tanto, nos vamos a enfocar en dos variables, el número de servidores, y el tiempo promedio de servicio. Comparar estas dos variables, nos permite asesorar, por ejemplo, si es más eficiente poner una nueva máquina (en el caso de que sea una planta de ensamblaje, equivalente a duplicar servidores), o si es más eficiente reemplazar la máquina existente por una más rápida (disminuyendo el tiempo de servicio). También es importante determinar cuál de las dos máquinas vale más la pena duplicar o reemplazar. A continuación, mostramos las corridas para el modo 1, con las modificaciones pertinentes:"
   ]
  },
  {
   "cell_type": "markdown",
   "metadata": {
    "id": "yX7Xf2Gf9WbC"
   },
   "source": [
    "## Simpy"
   ]
  },
  {
   "cell_type": "markdown",
   "metadata": {
    "id": "yX7Xf2Gf9WbC"
   },
   "source": [
    "### 1. Definir:"
   ]
  },
  {
   "cell_type": "markdown",
   "metadata": {
    "id": "yX7Xf2Gf9WbC"
   },
   "source": [
    "**a. Parámetros de entrada**\n",
    "\n",
    "\n",
    "| Nombre                | Parámetro                                                   |\n",
    "|-----------------------|-------------------------------------------------------------|\n",
    "| mean_interarrival     | Tiempo promedio de llegada entre elementos                  |\n",
    "| mean_service          | Tiempo promedio de servicio en cada uno de los dos procesos |\n",
    "| total_simulation_time | Tiempo total de la simulación                               |\n",
    "| distribution_type     | Tipo de distribuciones usadas en la simulación              |\n",
    "| servers_level1        | Número de servidores del servicio 1                         |\n",
    "| servers_level2        | Número de servidores del servicio 2                         |\n",
    "\n",
    "\n",
    "| Valor | mean_interarrival | mean_service |\n",
    "|-------|-------------------|--------------|\n",
    "| 1     | Exponencial       | Exponencial  |\n",
    "| 2     | Constante         | Exponencial  |\n",
    "| 3     | Exponencial       | Constante    |\n",
    "| 4     | Constante         | Constante    |\n",
    "\n",
    "Los parámetros que usa el programa de entrada en Simpy son los mismos que se usaron para la simulación en Simlib. Nótese que la variable total_simulation_type no es declarada en el constructor de la clase, porque no es usada por la clase. En cambio, es usada por el ambiente de simulación de SimPy. El ambiente al ejecutarse, recibe este parámetro como \"until\", es decir, que se ejecuta hasta que el reloj interno alcance este valor."
   ]
  },
  {
   "cell_type": "markdown",
   "metadata": {
    "id": "yX7Xf2Gf9WbC"
   },
   "source": [
    "**b. Variables del modelado**\n",
    "\n",
    "El uso de Simlib, permite facilitar la declaración de variables explícitas, y la definición de los métodos de la simulación. Esto es, porque la propia librería tiene predefinidos múltiples variables y métodos en cada simulación, realizada con esta. Por tanto, muchas de las variables específicas de cada agente, evento o proceso, son manejadas internamente por Simlib, y no tienen que ser escritas en el código. En la siguiente tabla, mostramos las variables usadas de forma explícita en la simulación.\n",
    "\n",
    "| Nombre          | Tipo  | Uso                                                                 |\n",
    "|-----------------|-------|---------------------------------------------------------------------|\n",
    "| sim_time        | Float | Reloj interno del simulador                                         |\n",
    "| next_event_type | Int   | Identificador del tipo de evento que se debe planear a continuación |\n",
    "| maxatr          | Int   | Número máximo de atributos por lista                                |\n",
    "| maxlist         | Int   | Número máximo de listas                                             |\n",
    "\n",
    "Mantenemos las llamadas al reloj interno, y al identificador de tipo de evento. El reloj sigue siendo necesario manejarlo, para especificar el manejo de eventos de esta simulación en particular. Por ejemplo, en este programa que requiere indicar de entrada, el tipo de distribuciones (exponencial o constante) con el que se van a programar las llegadas y servicios de los elementos, es necesario especificar cómo se van a calcular, usando sim_time como referente. El identificador de tipo de evento es necesario para dar forma a la simulación particular. Por ejemplo, es necesario identificar el orden para crear una simulación de dos servicios secuenciales, en vez de paralelos.\n",
    "Finalmente, maxatr y maxlist deben ser definidos en cualquier simulación que utilice simlib. La variable maxatr define el número máximo de atributos de cada lista simlib. Por la manera en la que esta escrito Simlib internamente, el mínimo valor posible de maxatr es 4. Por otra parte, maxlist indica el máximo de listas que se pueden crear en una simulación. El mínimo valor que se puede usar es 25, porque la lista 25 siempre va a ser la lista de eventos.\n"
   ]
  },
  {
   "cell_type": "markdown",
   "metadata": {
    "id": "yX7Xf2Gf9WbC"
   },
   "source": [
    "**c. Descripción del proceso y tipo de proceso**\n",
    "\n",
    "| Nombre     | Parámetros | Uso                                                                                                           |\n",
    "|------------|------|---------------------------------------------------------------------------------------------------------------|\n",
    "| customer_generator    | Ninguno    | Crea un cliente (con id), registra su llegada al sistema, ejecuta customer_flow y programa al siguiente cliente|\n",
    "| customer_flow | customer_id, arrival_time   | Registra el ingreso a la fila 1, demora respectiva, tiempo de servicio 1, y el mismo proceso del servicio 2 |\n",
    "| monitor_queues | Ninguno   | Mide la cantidad de clientes haciendo fila en el tiempo                 |\n",
    "| monitor_servers | Ninguno    | Monitorea el uso de cada servidor en el tiempo                |\n",
    "\n",
    "SimPy, a diferencia de Simlib, es una librería de modelado por procesos. Los procesos, son más afines a los hilos de un sistema operativo. Mientras que el sistema por eventos, define los eventos que se deben detectar, y las acciones a realizar cuando ocurre un evento, el modelado por procesos define las acciones que debe realizar cada agente, y construye el hilo que debe seguir cada agente en el modelo. Para este ejemplo, definimos 4 procesos. El proceso principal es \"customer_flow\", que indica el camino que realiza un agente (cliente) en el sistema. Este proceso define cuando entra a la fila 1, la espera al servicio 1, la ejecución del servicio 1, la entrada a la fila 2, la espera del servicio 2, la ejecución del servicio 2, y la salida del sistema. Este proceso recibe un \"cliente\", el cual es generado por el proceso \"customer_generator\" de acuerdo a los tiempos de llegada que reciba la simulación. Una vez se crea un cliente, este realiza el proceso de flujo del cliente. El proceso de \"customer_flow\" también registra los tiempos de espera en fila promedio que se usarán para la evaluación de métricas. Los otros dos modelos se encargan de monitorear la cantidad de clientes haciendo fila, y el uso de servidores respectivamente, lo que también dará un resultado para la evaluación de métricas."
   ]
  },
  {
   "cell_type": "markdown",
   "metadata": {
    "id": "yX7Xf2Gf9WbC"
   },
   "source": [
    "**d. Listas y sus atributos**\n",
    "\n",
    "Nombre     | Llave                | Descripción     |                                                                              \n",
    "------------|-------------------------------|----------------|\n",
    " queue1_delays     |                 | Mide la diferencia entre el tiempo actual, y la llegada del cliente a la cola 1 |\n",
    " queue2_delays    |                    | Mide la diferencia entre el tiempo actual, y la llegada del cliente a la cola 2                |\n",
    " queue1_lengths    |                  | Registra la cantidad de clientes haciendo fila para el servicio 1 cada 6 segundos |\n",
    " queue2_lengths    |                   | Registra la cantidad de clientes haciendo fila para el servicio 2 cada 6 segundos                |\n",
    " server1_busy |  | Registra cada 6 segundos si el servidor 1 está ocupado |\n",
    " server2_busy |  | Registra cada 6 segundos si el servidor 2 está ocupado |\n",
    " queue1_entry_times | customer_id | Registra la entrada a la cola 1 para cada cliente |\n",
    " queue2_entry_times | customer_id | Registra la entrada a la cola 2 para cada cliente |\n",
    " \n",
    "Las listas en SimPy pueden ser arreglos convencionales, o pueden ser diccionarios, dependiendo de si el valor almacenado es específico de un cliente, o no. En el caso de queue1_entry_times y queueu2_entry_times, es necesario asociarlo a cada cliente, para poder monitorear la demora en las filas a lo largo del flujo de cada cliente en específico. Si no estuvieran marcadas, existe la posibilidad de que se registren entradas a la cola para clientes distintos, porque el tiempo de servicio sea diferente. En cambio, las otras listas no deben ser diccionarios, porque todas las mediciones son medidores de rendimiento directos en un punto determinado, y no dependen del seguimiento del cliente para su cálculo."
   ]
  },
  {
   "cell_type": "markdown",
   "metadata": {
    "id": "yX7Xf2Gf9WbC"
   },
   "source": [
    "**e. Contadores y/o acumuladores**\n",
    "\n",
    "| Variable                | Tipo            | Descripción                                           | \n",
    "|-------------------------|-----------------|-------------------------------------------------------|\n",
    "| num_arrivals      | Contador entero | Clientes que no han sido atendidos de forma inmediata |\n",
    "| num_completed| Contador entero | Clientes que han completado el servicio 2             |\n",
    "\n",
    "El uso de contadores no requiere múltiples modificaciones respecto al programa original en Simlib, por lo que se mantiene el sistema original."
   ]
  },
  {
   "cell_type": "markdown",
   "metadata": {
    "id": "yX7Xf2Gf9WbC"
   },
   "source": [
    "**f. Medidas de desempeño**\n",
    "\n",
    "| Variable                 Descripción                                           | \n",
    "|--------------------------------------------------------------------------------|\n",
    "| Demora promedio en cola| Tiempo promedio de espera en cualquiera de las dos colas            |\n",
    "| Demora máxima en cola      | Tiempo máximo de espera registrado en cola |\n",
    "| Demora mínima en cola     | Tiempo mínimo de espera registrado en cola |\n",
    "| Longitud promedio de cola 1    | Contador entero | Clientes que no han sido atendidos de forma inmediata |\n",
    "| Longitud máxima de cola 1      | Contador entero | Clientes que no han sido atendidos de forma inmediata |\n",
    "| Longitud mínima de cola 1      | Contador entero | Clientes que no han sido atendidos de forma inmediata |\n",
    "| Longitud promedio de cola 2    | Contador entero | Clientes que no han sido atendidos de forma inmediata |\n",
    "| Longitud máxima de cola 2      | Contador entero | Clientes que no han sido atendidos de forma inmediata |\n",
    "| Longitud mínima de cola 2      | Contador entero | Clientes que no han sido atendidos de forma inmediata |\n",
    "| Uso promedio del servidor 1    | Contador entero | Clientes que no han sido atendidos de forma inmediata |\n",
    "| Uso máximo del servidor 1      | Contador entero | Clientes que no han sido atendidos de forma inmediata |\n",
    "| Uso mínimo del servidor 1     | Contador entero | Clientes que no han sido atendidos de forma inmediata |\n",
    "| Uso promedio del servidor 2   | Contador entero | Clientes que no han sido atendidos de forma inmediata |\n",
    "| Uso máximo del servidor 2     | Contador entero | Clientes que no han sido atendidos de forma inmediata |\n",
    "| Uso mínimo del servidor 2     | Contador entero | Clientes que no han sido atendidos de forma inmediata |\n",
    "\n",
    "Se usaron los mismos marcadores de rendimiento de Simlib, para poder comparar fielmente los resultados obtenidos en ambos modelos."
   ]
  },
  {
   "cell_type": "markdown",
   "metadata": {
    "id": "yX7Xf2Gf9WbC"
   },
   "source": [
    "**g. Subprogramas y propósito**\n",
    "\n",
    "Igualmente, para este problema se decidieron no realizar subprogramas. Esto, por la misma razón que no se usaron en Simpy. Para la ejecución de la solución en este Notebook, se consideró más práctico hacer el programa flexible a distintos parámetros, y producir una salida distinta según los parámetros, en vez de ejecutar un modelo aparte con modificaciones mínimas."
   ]
  },
  {
   "cell_type": "markdown",
   "metadata": {
    "id": "yX7Xf2Gf9WbC"
   },
   "source": [
    "### 2. Elaborar el diagrama de flujo del programa principal y de cada subprograma que conforma el modelo"
   ]
  },
  {
   "cell_type": "markdown",
   "metadata": {
    "id": "yX7Xf2Gf9WbC"
   },
   "source": [
    "### 3. Desarrollar el simulador en lenguaje de alto nivel"
   ]
  },
  {
   "cell_type": "code",
   "execution_count": 8,
   "metadata": {
    "colab": {
     "base_uri": "https://localhost:8080/"
    },
    "id": "2_XCHLu09-pN",
    "outputId": "1b6a1238-bc99-49a2-9588-f1ee6584b654"
   },
   "outputs": [
    {
     "name": "stdout",
     "output_type": "stream",
     "text": [
      "Writing parameters_10.txt\n"
     ]
    }
   ],
   "source": [
    "%%writefile parameters_9.txt\n",
    "10 9 10000 1 1 1"
   ]
  },
  {
   "cell_type": "code",
   "execution_count": null,
   "metadata": {
    "colab": {
     "base_uri": "https://localhost:8080/"
    },
    "id": "jSG9bzOEDopD",
    "outputId": "4f94314e-b6e2-4313-c54c-e3a853494988"
   },
   "outputs": [
    {
     "name": "stdout",
     "output_type": "stream",
     "text": [
      "Collecting simpy\n",
      "  Downloading simpy-4.1.1-py3-none-any.whl.metadata (6.1 kB)\n",
      "Downloading simpy-4.1.1-py3-none-any.whl (27 kB)\n",
      "Installing collected packages: simpy\n",
      "Successfully installed simpy-4.1.1\n"
     ]
    }
   ],
   "source": [
    "!pip install simpy"
   ]
  },
  {
   "cell_type": "markdown",
   "metadata": {
    "id": "yX7Xf2Gf9WbC"
   },
   "source": [
    "import simpy\n",
    "import random\n",
    "import statistics\n",
    "from collections import defaultdict\n",
    "\n",
    "class SimuladorSecuencial:\n",
    "    def __init__(self, env, mean_interarrival, mean_service, \n",
    "                 servers_level1, servers_level2, distribution_type):\n",
    "        self.env = env\n",
    "        self.mean_interarrival = mean_interarrival\n",
    "        self.mean_service = mean_service\n",
    "        self.distribution_type = distribution_type\n",
    "        self.server1 = simpy.Resource(env, capacity=servers_level1)\n",
    "        self.server2 = simpy.Resource(env, capacity=servers_level2)\n",
    "        self.queue1_delays = []\n",
    "        self.queue2_delays = []\n",
    "        self.system_times = []\n",
    "        self.queue1_lengths = []\n",
    "        self.queue2_lengths = []\n",
    "        self.server1_busy = []\n",
    "        self.server2_busy = []\n",
    "        self.num_completed = 0\n",
    "        self.num_arrivals = 0\n",
    "        self.queue1_entry_times = {}\n",
    "        self.queue2_entry_times = {}\n",
    "        self.env.process(self.customer_generator())\n",
    "        self.env.process(self.monitor_queues())\n",
    "        self.env.process(self.monitor_servers())\n",
    "    \n",
    "    def get_interarrival_time(self):\n",
    "        if self.distribution_type in [1, 3]:\n",
    "            return random.expovariate(1.0 / self.mean_interarrival)\n",
    "        else:\n",
    "            return self.mean_interarrival\n",
    "    \n",
    "    def get_service_time(self):\n",
    "        if self.distribution_type in [1, 2]:\n",
    "            return random.expovariate(1.0 / self.mean_service)\n",
    "        else:\n",
    "            return self.mean_service\n",
    "    \n",
    "    def customer_generator(self):\n",
    "        while True:\n",
    "            # Schedule next arrival first (like in original arrive function)\n",
    "            yield self.env.timeout(self.get_interarrival_time())\n",
    "            \n",
    "            # Create new customer (equivalent to transfer[1] = sim_time in original)\n",
    "            arrival_time = self.env.now\n",
    "            self.num_arrivals += 1\n",
    "            customer_id = self.num_arrivals\n",
    "            \n",
    "            # Process customer through the system\n",
    "            self.env.process(self.customer_flow(customer_id, arrival_time))\n",
    "    \n",
    "    def customer_flow(self, customer_id, arrival_time):\n",
    "        \"\"\"Handles the complete flow through both queues and servers\"\"\"\n",
    "        # Level 1 processing (equivalent to original arrive and depart1 logic)\n",
    "        \n",
    "        # Record queue1 entry time (transfer[2] in original)\n",
    "        queue1_entry = self.env.now\n",
    "        self.queue1_entry_times[customer_id] = queue1_entry\n",
    "        \n",
    "        # Request server1 (this handles both queueing and service)\n",
    "        with self.server1.request() as req:\n",
    "            # This is where the customer would wait in queue1 if servers are busy\n",
    "            yield req\n",
    "            \n",
    "            # Customer got server1 - record delay\n",
    "            queue1_delay = self.env.now - queue1_entry\n",
    "            self.queue1_delays.append(queue1_delay)\n",
    "            del self.queue1_entry_times[customer_id]\n",
    "            \n",
    "            # Process at server1 (equivalent to EVENT_DEPARTURE1)\n",
    "            yield self.env.timeout(self.get_service_time())\n",
    "        \n",
    "        # Level 2 processing (equivalent to original depart1 and depart2 logic)\n",
    "        \n",
    "        # Record queue2 entry time (transfer[4] in original)\n",
    "        queue2_entry = self.env.now\n",
    "        self.queue2_entry_times[customer_id] = queue2_entry\n",
    "        \n",
    "        # Request server2\n",
    "        with self.server2.request() as req:\n",
    "            # Wait in queue2 if servers are busy\n",
    "            yield req\n",
    "            \n",
    "            # Customer got server2 - record delay\n",
    "            queue2_delay = self.env.now - queue2_entry\n",
    "            self.queue2_delays.append(queue2_delay)\n",
    "            del self.queue2_entry_times[customer_id]\n",
    "            \n",
    "            # Process at server2 (equivalent to EVENT_DEPARTURE2)\n",
    "            yield self.env.timeout(self.get_service_time())\n",
    "        \n",
    "        # Customer completed both services\n",
    "        system_time = self.env.now - arrival_time\n",
    "        self.system_times.append(system_time)\n",
    "        self.num_completed += 1\n",
    "    \n",
    "    def monitor_queues(self):\n",
    "        \"\"\"Tracks queue lengths over time (equivalent to original filest)\"\"\"\n",
    "        while True:\n",
    "            # Current customers waiting in queue1 (not being served)\n",
    "            q1_len = len(self.server1.queue)\n",
    "            self.queue1_lengths.append(q1_len)\n",
    "            \n",
    "            # Current customers waiting in queue2 (not being served)\n",
    "            q2_len = len(self.server2.queue)\n",
    "            self.queue2_lengths.append(q2_len)\n",
    "            \n",
    "            yield self.env.timeout(0.1)  # Sample every 0.1 time units\n",
    "    \n",
    "    def monitor_servers(self):\n",
    "        \"\"\"Tracks server utilization over time\"\"\"\n",
    "        while True:\n",
    "            # Record number of busy servers (equivalent to list_size[LIST_SERVER1])\n",
    "            self.server1_busy.append(len(self.server1.users))\n",
    "            self.server2_busy.append(len(self.server2.users))\n",
    "            yield self.env.timeout(0.1)  # Sample every 0.1 time units\n",
    "    \n",
    "    def generate_report(self):\n",
    "        \"\"\"Produces output exactly matching the original report format\"\"\"\n",
    "        def safe_mean(data):\n",
    "            return statistics.mean(data) if data else 0.0\n",
    "        \n",
    "        def safe_max(data):\n",
    "            return max(data) if data else 0.0\n",
    "        \n",
    "        def safe_min(data):\n",
    "            return min(data) if data else 0.0\n",
    "        \n",
    "        report = \"Multi-server queueing system using SimPy\\n\\n\"\n",
    "        report += f\"Mean interarrival time{11*' '}{self.mean_interarrival:.3f} minutes\\n\\n\"\n",
    "        report += f\"Mean service time{16*' '}{self.mean_service:.3f} minutes\\n\\n\"\n",
    "        report += f\"Total simulation time{12*' '}{self.env.now:.3f} minutes\\n\\n\"\n",
    "        report += f\"Distribution type: {self.distribution_type}\\n\"\n",
    "        \n",
    "        # Distribution description matching original\n",
    "        dist_map = {\n",
    "            1: \"Interarrival: Exponential, Service: Exponential\",\n",
    "            2: \"Interarrival: Constant, Service: Exponential\",\n",
    "            3: \"Interarrival: Exponential, Service: Constant\",\n",
    "            4: \"Interarrival: Constant, Service: Constant\"\n",
    "        }\n",
    "        report += dist_map.get(self.distribution_type, \"Invalid distribution type\") + \"\\n\"\n",
    "        report += f\"Number of servers at level 1: {self.server1.capacity}\\n\"\n",
    "        report += f\"Number of servers at level 2: {self.server2.capacity}\\n\\n\"\n",
    "        \n",
    "        # Queue 1 delays\n",
    "        report += \"\\nDelays in Queue 1, in minutes:\\n\"\n",
    "        report += f\"  Average: {safe_mean(self.queue1_delays):.3f}\\n\"\n",
    "        report += f\"  Maximum: {safe_max(self.queue1_delays):.3f}\\n\"\n",
    "        report += f\"  Minimum: {safe_min(self.queue1_delays):.3f}\\n\"\n",
    "        report += f\"  Number measured: {len(self.queue1_delays)}\\n\"\n",
    "        \n",
    "        # Queue 2 delays\n",
    "        report += \"\\nDelays in Queue 2, in minutes:\\n\"\n",
    "        report += f\"  Average: {safe_mean(self.queue2_delays):.3f}\\n\"\n",
    "        report += f\"  Maximum: {safe_max(self.queue2_delays):.3f}\\n\"\n",
    "        report += f\"  Minimum: {safe_min(self.queue2_delays):.3f}\\n\"\n",
    "        report += f\"  Number measured: {len(self.queue2_delays)}\\n\"\n",
    "        \n",
    "        # System times\n",
    "        report += \"\\nTotal System Time (arrival to final departure), in minutes:\\n\"\n",
    "        report += f\"  Average: {safe_mean(self.system_times):.3f}\\n\"\n",
    "        report += f\"  Maximum: {safe_max(self.system_times):.3f}\\n\"\n",
    "        report += f\"  Minimum: {safe_min(self.system_times):.3f}\\n\"\n",
    "        report += f\"  Number measured: {len(self.system_times)}\\n\"\n",
    "        \n",
    "        # Queue lengths (average)\n",
    "        report += \"\\nQueue lengths:\\n\"\n",
    "        report += f\"  Average queue 1 length: {safe_mean(self.queue1_lengths):.3f}\\n\"\n",
    "        report += f\"  Average queue 2 length: {safe_mean(self.queue2_lengths):.3f}\\n\"\n",
    "        \n",
    "        # Server utilization (percentage)\n",
    "        server1_util = sum(self.server1_busy) / len(self.server1_busy) / self.server1.capacity * 100\n",
    "        server2_util = sum(self.server2_busy) / len(self.server2_busy) / self.server2.capacity * 100\n",
    "        report += \"\\nServer utilization:\\n\"\n",
    "        report += f\"  Server 1 utilization: {server1_util:.1f}%\\n\"\n",
    "        report += f\"  Server 2 utilization: {server2_util:.1f}%\\n\"\n",
    "        \n",
    "        report += f\"\\nTime simulation ended:{12*' '}{self.env.now:.3f} minutes\\n\"\n",
    "        report += f\"Number of customers completed both services:{8*' '}{self.num_completed}\\n\"\n",
    "        \n",
    "        return report\n",
    "\n",
    "def read_parameters(filename):\n",
    "    \"\"\"Reads parameters from file in the same format as the original\"\"\"\n",
    "    with open(filename, 'r') as f:\n",
    "        # Read all values from the first line\n",
    "        values = list(map(float, f.readline().strip().split()))\n",
    "        \n",
    "        # Convert to appropriate types\n",
    "        mean_interarrival = values[0]\n",
    "        mean_service = values[1]\n",
    "        total_simulation_time = int(values[2])\n",
    "        distribution_type = int(values[3])\n",
    "        servers_level1 = int(values[4])\n",
    "        servers_level2 = int(values[5])\n",
    "        \n",
    "        return (mean_interarrival, mean_service, total_simulation_time,\n",
    "                distribution_type, servers_level1, servers_level2)\n",
    "\n",
    "def run_simulation(input_file, output_prefix):\n",
    "    \"\"\"Main function to run the simulation\"\"\"\n",
    "    try:\n",
    "        # Read parameters from file\n",
    "        params = read_parameters(input_file)\n",
    "        mean_interarrival, mean_service, total_simulation_time, \\\n",
    "        distribution_type, servers_level1, servers_level2 = params\n",
    "        \n",
    "        # Run simulation\n",
    "        env = simpy.Environment()\n",
    "        system = SimuladorSecuencial(env, mean_interarrival, mean_service,\n",
    "                                   servers_level1, servers_level2, distribution_type)\n",
    "        env.run(until=total_simulation_time)\n",
    "        \n",
    "        # Generate and save report\n",
    "        report = system.generate_report()\n",
    "        output_filename = f\"{output_prefix}_{distribution_type}.txt\"\n",
    "        \n",
    "        with open(output_filename, 'w') as f:\n",
    "            f.write(report)\n",
    "        \n",
    "        print(f\"Simulation complete. Report saved to {output_filename}\")\n",
    "        return True\n",
    "    \n",
    "    except FileNotFoundError:\n",
    "        print(f\"Error: Cannot open input file {input_file}\")\n",
    "        return False\n",
    "    except Exception as e:\n",
    "        print(f\"Error running simulation: {str(e)}\")\n",
    "        return False\n",
    "\n",
    "if __name__ == \"__main__\":\n",
    "    # Run with the same file names as original\n",
    "    input_file = \"parameters_9.txt\"\n",
    "    output_prefix = \"report_9\"\n",
    "    \n",
    "    if not run_simulation(input_file, output_prefix):\n",
    "        # If parameters_9.txt not found, create a sample one and try again\n",
    "        print(\"Creating sample parameters file and running simulation...\")\n",
    "        with open(input_file, 'w') as f:\n",
    "            f.write(\"5.0 4.0 1000 1 2 3\\n\")  # Default parameters\n",
    "        \n",
    "        run_simulation(input_file, output_prefix)"
   ]
  },
  {
   "cell_type": "markdown",
   "metadata": {
    "id": "yX7Xf2Gf9WbC"
   },
   "source": [
    "### 4. Analizar resultados"
   ]
  },
  {
   "cell_type": "code",
   "execution_count": 12,
   "metadata": {
    "colab": {
     "base_uri": "https://localhost:8080/"
    },
    "id": "sC46dbTnCtxE",
    "outputId": "28d9da1e-724b-4378-dc02-ddb8a9fe032c"
   },
   "outputs": [
    {
     "ename": "FileNotFoundError",
     "evalue": "[Errno 2] No such file or directory: '/content/report_10.txt'",
     "output_type": "error",
     "traceback": [
      "\u001b[31m---------------------------------------------------------------------------\u001b[39m",
      "\u001b[31mFileNotFoundError\u001b[39m                         Traceback (most recent call last)",
      "\u001b[36mCell\u001b[39m\u001b[36m \u001b[39m\u001b[32mIn[12]\u001b[39m\u001b[32m, line 1\u001b[39m\n\u001b[32m----> \u001b[39m\u001b[32m1\u001b[39m \u001b[38;5;28;01mwith\u001b[39;00m \u001b[38;5;28;43mopen\u001b[39;49m\u001b[43m(\u001b[49m\u001b[33;43m\"\u001b[39;49m\u001b[33;43m/content/report_10.txt\u001b[39;49m\u001b[33;43m\"\u001b[39;49m\u001b[43m,\u001b[49m\u001b[43m \u001b[49m\u001b[33;43m\"\u001b[39;49m\u001b[33;43mr\u001b[39;49m\u001b[33;43m\"\u001b[39;49m\u001b[43m)\u001b[49m \u001b[38;5;28;01mas\u001b[39;00m file:\n\u001b[32m      2\u001b[39m     \u001b[38;5;28mprint\u001b[39m(file.read())\n",
      "\u001b[36mFile \u001b[39m\u001b[32m~/.local/lib/python3.13/site-packages/IPython/core/interactiveshell.py:326\u001b[39m, in \u001b[36m_modified_open\u001b[39m\u001b[34m(file, *args, **kwargs)\u001b[39m\n\u001b[32m    319\u001b[39m \u001b[38;5;28;01mif\u001b[39;00m file \u001b[38;5;129;01min\u001b[39;00m {\u001b[32m0\u001b[39m, \u001b[32m1\u001b[39m, \u001b[32m2\u001b[39m}:\n\u001b[32m    320\u001b[39m     \u001b[38;5;28;01mraise\u001b[39;00m \u001b[38;5;167;01mValueError\u001b[39;00m(\n\u001b[32m    321\u001b[39m         \u001b[33mf\u001b[39m\u001b[33m\"\u001b[39m\u001b[33mIPython won\u001b[39m\u001b[33m'\u001b[39m\u001b[33mt let you open fd=\u001b[39m\u001b[38;5;132;01m{\u001b[39;00mfile\u001b[38;5;132;01m}\u001b[39;00m\u001b[33m by default \u001b[39m\u001b[33m\"\u001b[39m\n\u001b[32m    322\u001b[39m         \u001b[33m\"\u001b[39m\u001b[33mas it is likely to crash IPython. If you know what you are doing, \u001b[39m\u001b[33m\"\u001b[39m\n\u001b[32m    323\u001b[39m         \u001b[33m\"\u001b[39m\u001b[33myou can use builtins\u001b[39m\u001b[33m'\u001b[39m\u001b[33m open.\u001b[39m\u001b[33m\"\u001b[39m\n\u001b[32m    324\u001b[39m     )\n\u001b[32m--> \u001b[39m\u001b[32m326\u001b[39m \u001b[38;5;28;01mreturn\u001b[39;00m \u001b[43mio_open\u001b[49m\u001b[43m(\u001b[49m\u001b[43mfile\u001b[49m\u001b[43m,\u001b[49m\u001b[43m \u001b[49m\u001b[43m*\u001b[49m\u001b[43margs\u001b[49m\u001b[43m,\u001b[49m\u001b[43m \u001b[49m\u001b[43m*\u001b[49m\u001b[43m*\u001b[49m\u001b[43mkwargs\u001b[49m\u001b[43m)\u001b[49m\n",
      "\u001b[31mFileNotFoundError\u001b[39m: [Errno 2] No such file or directory: '/content/report_10.txt'"
     ]
    }
   ],
   "source": [
    "with open(\"report_9_1.txt\", \"r\") as file:\n",
    "    print(file.read())\n"
   ]
  },
  {
   "cell_type": "markdown",
   "metadata": {
    "id": "yX7Xf2Gf9WbC"
   },
   "source": [
    "**a.\tCorrida 1: tiempo entre llegada y de servicio exponenciales**"
   ]
  },
  {
   "cell_type": "markdown",
   "metadata": {
    "id": "yX7Xf2Gf9WbC"
   },
   "source": [
    "Multi-server queueing system using simlib\n",
    "\n",
    "Mean interarrival time     10.000 minutes\n",
    "\n",
    "Mean service time           9.000 minutes\n",
    "\n",
    "Total simulation time       10000 minutes\n",
    "\n",
    "Distribution type: 1\n",
    "Interarrival: Exponential, Service: Exponential\n",
    "Number of servers at level 1: 1\n",
    "Number of servers at level 2: 1\n",
    "\n",
    "\n",
    "Delays in queue, in minutes:\n",
    "\n",
    " sampst                         Number\n",
    "variable                          of\n",
    " number       Average           values          Maximum          Minimum\n",
    "________________________________________________________________________\n",
    "\n",
    "    1         121.123          1014.00          349.119          0.00000 \n",
    "________________________________________________________________________\n",
    "\n",
    "\n",
    "\n",
    "Queue length and server utilization:\n",
    "\n",
    "  File         Time\n",
    " number       average          Maximum          Minimum\n",
    "_______________________________________________________\n",
    "\n",
    "    1         12.2813          37.0000          0.00000 \n",
    "\n",
    "    2        0.925342          1.00000          0.00000 \n",
    "_______________________________________________________\n",
    "\n",
    "\n",
    "\n",
    "  File         Time\n",
    " number       average          Maximum          Minimum\n",
    "_______________________________________________________\n",
    "\n",
    "    3         5.06968          28.0000          0.00000 \n",
    "\n",
    "    4        0.862937          1.00000          0.00000 \n",
    "_______________________________________________________\n",
    "\n",
    "\n",
    "\n",
    "Time simulation ended:   10000.495 minutes\n",
    "Number of customers completed both services:    1006\n",
    "Number of servers at level 1: 1\n",
    "Number of servers at level 2: 1\n"
   ]
  },
  {
   "cell_type": "markdown",
   "metadata": {
    "id": "yX7Xf2Gf9WbC"
   },
   "source": [
    "**b.\tCorrida 2: Tiempo entre llegada constantes y tiempos de servicio exponenciales**"
   ]
  },
  {
   "cell_type": "code",
   "execution_count": 8,
   "metadata": {
    "colab": {
     "base_uri": "https://localhost:8080/"
    },
    "id": "2_XCHLu09-pN",
    "outputId": "1b6a1238-bc99-49a2-9588-f1ee6584b654"
   },
   "outputs": [
    {
     "name": "stdout",
     "output_type": "stream",
     "text": [
      "Writing parameters_10.txt\n"
     ]
    }
   ],
   "source": [
    "%%writefile parameters_9.txt\n",
    "10 9 10000 2 1 1"
   ]
  },
  {
   "cell_type": "code",
   "execution_count": 11,
   "metadata": {
    "id": "ImJU1lIaBxRw"
   },
   "outputs": [],
   "source": [
    "!./simulation_9"
   ]
  },
  {
   "cell_type": "code",
   "execution_count": 12,
   "metadata": {
    "colab": {
     "base_uri": "https://localhost:8080/"
    },
    "id": "sC46dbTnCtxE",
    "outputId": "28d9da1e-724b-4378-dc02-ddb8a9fe032c"
   },
   "outputs": [
    {
     "ename": "FileNotFoundError",
     "evalue": "[Errno 2] No such file or directory: '/content/report_10.txt'",
     "output_type": "error",
     "traceback": [
      "\u001b[31m---------------------------------------------------------------------------\u001b[39m",
      "\u001b[31mFileNotFoundError\u001b[39m                         Traceback (most recent call last)",
      "\u001b[36mCell\u001b[39m\u001b[36m \u001b[39m\u001b[32mIn[12]\u001b[39m\u001b[32m, line 1\u001b[39m\n\u001b[32m----> \u001b[39m\u001b[32m1\u001b[39m \u001b[38;5;28;01mwith\u001b[39;00m \u001b[38;5;28;43mopen\u001b[39;49m\u001b[43m(\u001b[49m\u001b[33;43m\"\u001b[39;49m\u001b[33;43m/content/report_10.txt\u001b[39;49m\u001b[33;43m\"\u001b[39;49m\u001b[43m,\u001b[49m\u001b[43m \u001b[49m\u001b[33;43m\"\u001b[39;49m\u001b[33;43mr\u001b[39;49m\u001b[33;43m\"\u001b[39;49m\u001b[43m)\u001b[49m \u001b[38;5;28;01mas\u001b[39;00m file:\n\u001b[32m      2\u001b[39m     \u001b[38;5;28mprint\u001b[39m(file.read())\n",
      "\u001b[36mFile \u001b[39m\u001b[32m~/.local/lib/python3.13/site-packages/IPython/core/interactiveshell.py:326\u001b[39m, in \u001b[36m_modified_open\u001b[39m\u001b[34m(file, *args, **kwargs)\u001b[39m\n\u001b[32m    319\u001b[39m \u001b[38;5;28;01mif\u001b[39;00m file \u001b[38;5;129;01min\u001b[39;00m {\u001b[32m0\u001b[39m, \u001b[32m1\u001b[39m, \u001b[32m2\u001b[39m}:\n\u001b[32m    320\u001b[39m     \u001b[38;5;28;01mraise\u001b[39;00m \u001b[38;5;167;01mValueError\u001b[39;00m(\n\u001b[32m    321\u001b[39m         \u001b[33mf\u001b[39m\u001b[33m\"\u001b[39m\u001b[33mIPython won\u001b[39m\u001b[33m'\u001b[39m\u001b[33mt let you open fd=\u001b[39m\u001b[38;5;132;01m{\u001b[39;00mfile\u001b[38;5;132;01m}\u001b[39;00m\u001b[33m by default \u001b[39m\u001b[33m\"\u001b[39m\n\u001b[32m    322\u001b[39m         \u001b[33m\"\u001b[39m\u001b[33mas it is likely to crash IPython. If you know what you are doing, \u001b[39m\u001b[33m\"\u001b[39m\n\u001b[32m    323\u001b[39m         \u001b[33m\"\u001b[39m\u001b[33myou can use builtins\u001b[39m\u001b[33m'\u001b[39m\u001b[33m open.\u001b[39m\u001b[33m\"\u001b[39m\n\u001b[32m    324\u001b[39m     )\n\u001b[32m--> \u001b[39m\u001b[32m326\u001b[39m \u001b[38;5;28;01mreturn\u001b[39;00m \u001b[43mio_open\u001b[49m\u001b[43m(\u001b[49m\u001b[43mfile\u001b[49m\u001b[43m,\u001b[49m\u001b[43m \u001b[49m\u001b[43m*\u001b[49m\u001b[43margs\u001b[49m\u001b[43m,\u001b[49m\u001b[43m \u001b[49m\u001b[43m*\u001b[49m\u001b[43m*\u001b[49m\u001b[43mkwargs\u001b[49m\u001b[43m)\u001b[49m\n",
      "\u001b[31mFileNotFoundError\u001b[39m: [Errno 2] No such file or directory: '/content/report_10.txt'"
     ]
    }
   ],
   "source": [
    "with open(\"report_9_2.txt\", \"r\") as file:\n",
    "    print(file.read())\n"
   ]
  },
  {
   "cell_type": "markdown",
   "metadata": {
    "id": "yX7Xf2Gf9WbC"
   },
   "source": [
    "Multi-server queueing system using simlib\n",
    "\n",
    "Mean interarrival time     10.000 minutes\n",
    "\n",
    "Mean service time           9.000 minutes\n",
    "\n",
    "Total simulation time       10000 minutes\n",
    "\n",
    "Distribution type: 2\n",
    "Interarrival: Constant, Service: Exponential\n",
    "Number of servers at level 1: 1\n",
    "Number of servers at level 2: 1\n",
    "\n",
    "\n",
    "Delays in queue, in minutes:\n",
    "\n",
    " sampst                         Number\n",
    "variable                          of\n",
    " number       Average           values          Maximum          Minimum\n",
    "________________________________________________________________________\n",
    "\n",
    "    1         36.6710          998.000          148.308          0.00000 \n",
    "________________________________________________________________________\n",
    "\n",
    "\n",
    "\n",
    "Queue length and server utilization:\n",
    "\n",
    "  File         Time\n",
    " number       average          Maximum          Minimum\n",
    "_______________________________________________________\n",
    "\n",
    "    1         3.66076          15.0000          0.00000 \n",
    "\n",
    "    2        0.894527          1.00000          0.00000 \n",
    "_______________________________________________________\n",
    "\n",
    "\n",
    "\n",
    "  File         Time\n",
    " number       average          Maximum          Minimum\n",
    "_______________________________________________________\n",
    "\n",
    "    3         3.54243          25.0000          0.00000 \n",
    "\n",
    "    4        0.864306          1.00000          0.00000 \n",
    "_______________________________________________________\n",
    "\n",
    "\n",
    "\n",
    "Time simulation ended:   10000.000 minutes\n",
    "Number of customers completed both services:     993\n",
    "Number of servers at level 1: 1\n",
    "Number of servers at level 2: 1\n"
   ]
  },
  {
   "cell_type": "markdown",
   "metadata": {
    "id": "yX7Xf2Gf9WbC"
   },
   "source": [
    "**c.\tCorrida 3: Tiempo entre llegadas exponenciales y tiempo de servicio constantes**"
   ]
  },
  {
   "cell_type": "code",
   "execution_count": 8,
   "metadata": {
    "colab": {
     "base_uri": "https://localhost:8080/"
    },
    "id": "2_XCHLu09-pN",
    "outputId": "1b6a1238-bc99-49a2-9588-f1ee6584b654"
   },
   "outputs": [
    {
     "name": "stdout",
     "output_type": "stream",
     "text": [
      "Writing parameters_10.txt\n"
     ]
    }
   ],
   "source": [
    "%%writefile parameters_9.txt\n",
    "10 9 10000 3 1 1"
   ]
  },
  {
   "cell_type": "code",
   "execution_count": 11,
   "metadata": {
    "id": "ImJU1lIaBxRw"
   },
   "outputs": [],
   "source": [
    "!./simulation_9"
   ]
  },
  {
   "cell_type": "code",
   "execution_count": 12,
   "metadata": {
    "colab": {
     "base_uri": "https://localhost:8080/"
    },
    "id": "sC46dbTnCtxE",
    "outputId": "28d9da1e-724b-4378-dc02-ddb8a9fe032c"
   },
   "outputs": [
    {
     "ename": "FileNotFoundError",
     "evalue": "[Errno 2] No such file or directory: '/content/report_10.txt'",
     "output_type": "error",
     "traceback": [
      "\u001b[31m---------------------------------------------------------------------------\u001b[39m",
      "\u001b[31mFileNotFoundError\u001b[39m                         Traceback (most recent call last)",
      "\u001b[36mCell\u001b[39m\u001b[36m \u001b[39m\u001b[32mIn[12]\u001b[39m\u001b[32m, line 1\u001b[39m\n\u001b[32m----> \u001b[39m\u001b[32m1\u001b[39m \u001b[38;5;28;01mwith\u001b[39;00m \u001b[38;5;28;43mopen\u001b[39;49m\u001b[43m(\u001b[49m\u001b[33;43m\"\u001b[39;49m\u001b[33;43m/content/report_10.txt\u001b[39;49m\u001b[33;43m\"\u001b[39;49m\u001b[43m,\u001b[49m\u001b[43m \u001b[49m\u001b[33;43m\"\u001b[39;49m\u001b[33;43mr\u001b[39;49m\u001b[33;43m\"\u001b[39;49m\u001b[43m)\u001b[49m \u001b[38;5;28;01mas\u001b[39;00m file:\n\u001b[32m      2\u001b[39m     \u001b[38;5;28mprint\u001b[39m(file.read())\n",
      "\u001b[36mFile \u001b[39m\u001b[32m~/.local/lib/python3.13/site-packages/IPython/core/interactiveshell.py:326\u001b[39m, in \u001b[36m_modified_open\u001b[39m\u001b[34m(file, *args, **kwargs)\u001b[39m\n\u001b[32m    319\u001b[39m \u001b[38;5;28;01mif\u001b[39;00m file \u001b[38;5;129;01min\u001b[39;00m {\u001b[32m0\u001b[39m, \u001b[32m1\u001b[39m, \u001b[32m2\u001b[39m}:\n\u001b[32m    320\u001b[39m     \u001b[38;5;28;01mraise\u001b[39;00m \u001b[38;5;167;01mValueError\u001b[39;00m(\n\u001b[32m    321\u001b[39m         \u001b[33mf\u001b[39m\u001b[33m\"\u001b[39m\u001b[33mIPython won\u001b[39m\u001b[33m'\u001b[39m\u001b[33mt let you open fd=\u001b[39m\u001b[38;5;132;01m{\u001b[39;00mfile\u001b[38;5;132;01m}\u001b[39;00m\u001b[33m by default \u001b[39m\u001b[33m\"\u001b[39m\n\u001b[32m    322\u001b[39m         \u001b[33m\"\u001b[39m\u001b[33mas it is likely to crash IPython. If you know what you are doing, \u001b[39m\u001b[33m\"\u001b[39m\n\u001b[32m    323\u001b[39m         \u001b[33m\"\u001b[39m\u001b[33myou can use builtins\u001b[39m\u001b[33m'\u001b[39m\u001b[33m open.\u001b[39m\u001b[33m\"\u001b[39m\n\u001b[32m    324\u001b[39m     )\n\u001b[32m--> \u001b[39m\u001b[32m326\u001b[39m \u001b[38;5;28;01mreturn\u001b[39;00m \u001b[43mio_open\u001b[49m\u001b[43m(\u001b[49m\u001b[43mfile\u001b[49m\u001b[43m,\u001b[49m\u001b[43m \u001b[49m\u001b[43m*\u001b[49m\u001b[43margs\u001b[49m\u001b[43m,\u001b[49m\u001b[43m \u001b[49m\u001b[43m*\u001b[49m\u001b[43m*\u001b[49m\u001b[43mkwargs\u001b[49m\u001b[43m)\u001b[49m\n",
      "\u001b[31mFileNotFoundError\u001b[39m: [Errno 2] No such file or directory: '/content/report_10.txt'"
     ]
    }
   ],
   "source": [
    "with open(\"report_9_3.txt\", \"r\") as file:\n",
    "    print(file.read())\n"
   ]
  },
  {
   "cell_type": "markdown",
   "metadata": {
    "id": "yX7Xf2Gf9WbC"
   },
   "source": [
    "Multi-server queueing system using simlib\n",
    "\n",
    "Mean interarrival time     10.000 minutes\n",
    "\n",
    "Mean service time           9.000 minutes\n",
    "\n",
    "Total simulation time       10000 minutes\n",
    "\n",
    "Distribution type: 3\n",
    "Interarrival: Exponential, Service: Constant\n",
    "Number of servers at level 1: 1\n",
    "Number of servers at level 2: 1\n",
    "\n",
    "\n",
    "Delays in queue, in minutes:\n",
    "\n",
    " sampst                         Number\n",
    "variable                          of\n",
    " number       Average           values          Maximum          Minimum\n",
    "________________________________________________________________________\n",
    "\n",
    "    1         47.3141          1015.00          208.489          0.00000 \n",
    "________________________________________________________________________\n",
    "\n",
    "\n",
    "\n",
    "Queue length and server utilization:\n",
    "\n",
    "  File         Time\n",
    " number       average          Maximum          Minimum\n",
    "_______________________________________________________\n",
    "\n",
    "    1         4.79695          24.0000          0.00000 \n",
    "\n",
    "    2        0.911567          1.00000          0.00000 \n",
    "_______________________________________________________\n",
    "\n",
    "\n",
    "\n",
    "  File         Time\n",
    " number       average          Maximum          Minimum\n",
    "_______________________________________________________\n",
    "\n",
    "    3         0.00000          1.00000          0.00000 \n",
    "\n",
    "    4        0.911567          1.00000          0.00000 \n",
    "_______________________________________________________\n",
    "\n",
    "\n",
    "\n",
    "Time simulation ended:   10011.330 minutes\n",
    "Number of customers completed both services:    1014\n",
    "Number of servers at level 1: 1\n",
    "Number of servers at level 2: 1\n"
   ]
  },
  {
   "cell_type": "markdown",
   "metadata": {
    "id": "yX7Xf2Gf9WbC"
   },
   "source": [
    "**d.\tCorrida 4: Tiempo entre llegadas constantes y tiempos de servicio constantes**"
   ]
  },
  {
   "cell_type": "code",
   "execution_count": 8,
   "metadata": {
    "colab": {
     "base_uri": "https://localhost:8080/"
    },
    "id": "2_XCHLu09-pN",
    "outputId": "1b6a1238-bc99-49a2-9588-f1ee6584b654"
   },
   "outputs": [
    {
     "name": "stdout",
     "output_type": "stream",
     "text": [
      "Writing parameters_10.txt\n"
     ]
    }
   ],
   "source": [
    "%%writefile parameters_9.txt\n",
    "10 9 10000 4 1 1"
   ]
  },
  {
   "cell_type": "code",
   "execution_count": 11,
   "metadata": {
    "id": "ImJU1lIaBxRw"
   },
   "outputs": [],
   "source": [
    "!./simulation_9"
   ]
  },
  {
   "cell_type": "code",
   "execution_count": 12,
   "metadata": {
    "colab": {
     "base_uri": "https://localhost:8080/"
    },
    "id": "sC46dbTnCtxE",
    "outputId": "28d9da1e-724b-4378-dc02-ddb8a9fe032c"
   },
   "outputs": [
    {
     "ename": "FileNotFoundError",
     "evalue": "[Errno 2] No such file or directory: '/content/report_10.txt'",
     "output_type": "error",
     "traceback": [
      "\u001b[31m---------------------------------------------------------------------------\u001b[39m",
      "\u001b[31mFileNotFoundError\u001b[39m                         Traceback (most recent call last)",
      "\u001b[36mCell\u001b[39m\u001b[36m \u001b[39m\u001b[32mIn[12]\u001b[39m\u001b[32m, line 1\u001b[39m\n\u001b[32m----> \u001b[39m\u001b[32m1\u001b[39m \u001b[38;5;28;01mwith\u001b[39;00m \u001b[38;5;28;43mopen\u001b[39;49m\u001b[43m(\u001b[49m\u001b[33;43m\"\u001b[39;49m\u001b[33;43m/content/report_10.txt\u001b[39;49m\u001b[33;43m\"\u001b[39;49m\u001b[43m,\u001b[49m\u001b[43m \u001b[49m\u001b[33;43m\"\u001b[39;49m\u001b[33;43mr\u001b[39;49m\u001b[33;43m\"\u001b[39;49m\u001b[43m)\u001b[49m \u001b[38;5;28;01mas\u001b[39;00m file:\n\u001b[32m      2\u001b[39m     \u001b[38;5;28mprint\u001b[39m(file.read())\n",
      "\u001b[36mFile \u001b[39m\u001b[32m~/.local/lib/python3.13/site-packages/IPython/core/interactiveshell.py:326\u001b[39m, in \u001b[36m_modified_open\u001b[39m\u001b[34m(file, *args, **kwargs)\u001b[39m\n\u001b[32m    319\u001b[39m \u001b[38;5;28;01mif\u001b[39;00m file \u001b[38;5;129;01min\u001b[39;00m {\u001b[32m0\u001b[39m, \u001b[32m1\u001b[39m, \u001b[32m2\u001b[39m}:\n\u001b[32m    320\u001b[39m     \u001b[38;5;28;01mraise\u001b[39;00m \u001b[38;5;167;01mValueError\u001b[39;00m(\n\u001b[32m    321\u001b[39m         \u001b[33mf\u001b[39m\u001b[33m\"\u001b[39m\u001b[33mIPython won\u001b[39m\u001b[33m'\u001b[39m\u001b[33mt let you open fd=\u001b[39m\u001b[38;5;132;01m{\u001b[39;00mfile\u001b[38;5;132;01m}\u001b[39;00m\u001b[33m by default \u001b[39m\u001b[33m\"\u001b[39m\n\u001b[32m    322\u001b[39m         \u001b[33m\"\u001b[39m\u001b[33mas it is likely to crash IPython. If you know what you are doing, \u001b[39m\u001b[33m\"\u001b[39m\n\u001b[32m    323\u001b[39m         \u001b[33m\"\u001b[39m\u001b[33myou can use builtins\u001b[39m\u001b[33m'\u001b[39m\u001b[33m open.\u001b[39m\u001b[33m\"\u001b[39m\n\u001b[32m    324\u001b[39m     )\n\u001b[32m--> \u001b[39m\u001b[32m326\u001b[39m \u001b[38;5;28;01mreturn\u001b[39;00m \u001b[43mio_open\u001b[49m\u001b[43m(\u001b[49m\u001b[43mfile\u001b[49m\u001b[43m,\u001b[49m\u001b[43m \u001b[49m\u001b[43m*\u001b[49m\u001b[43margs\u001b[49m\u001b[43m,\u001b[49m\u001b[43m \u001b[49m\u001b[43m*\u001b[49m\u001b[43m*\u001b[49m\u001b[43mkwargs\u001b[49m\u001b[43m)\u001b[49m\n",
      "\u001b[31mFileNotFoundError\u001b[39m: [Errno 2] No such file or directory: '/content/report_10.txt'"
     ]
    }
   ],
   "source": [
    "with open(\"report_9_4.txt\", \"r\") as file:\n",
    "    print(file.read())\n"
   ]
  },
  {
   "cell_type": "markdown",
   "metadata": {
    "id": "yX7Xf2Gf9WbC"
   },
   "source": [
    "Multi-server queueing system using simlib\n",
    "\n",
    "Mean interarrival time     10.000 minutes\n",
    "\n",
    "Mean service time           9.000 minutes\n",
    "\n",
    "Total simulation time       10000 minutes\n",
    "\n",
    "Distribution type: 4\n",
    "Interarrival: Constant, Service: Constant\n",
    "Number of servers at level 1: 1\n",
    "Number of servers at level 2: 1\n",
    "\n",
    "\n",
    "Delays in queue, in minutes:\n",
    "\n",
    " sampst                         Number\n",
    "variable                          of\n",
    " number       Average           values          Maximum          Minimum\n",
    "________________________________________________________________________\n",
    "\n",
    "    1         0.00000          1000.00          0.00000          0.00000 \n",
    "________________________________________________________________________\n",
    "\n",
    "\n",
    "\n",
    "Queue length and server utilization:\n",
    "\n",
    "  File         Time\n",
    " number       average          Maximum          Minimum\n",
    "_______________________________________________________\n",
    "\n",
    "    1         0.00000     -1.00000E+30      1.00000E+30 \n",
    "\n",
    "    2        0.899100          1.00000          0.00000 \n",
    "_______________________________________________________\n",
    "\n",
    "\n",
    "\n",
    "  File         Time\n",
    " number       average          Maximum          Minimum\n",
    "_______________________________________________________\n",
    "\n",
    "    3         0.00000     -1.00000E+30      1.00000E+30 \n",
    "\n",
    "    4        0.898300          1.00000          0.00000 \n",
    "_______________________________________________________\n",
    "\n",
    "\n",
    "\n",
    "Time simulation ended:   10000.000 minutes\n",
    "Number of customers completed both services:     998\n",
    "Number of servers at level 1: 1\n",
    "Number of servers at level 2: 1\n"
   ]
  },
  {
   "cell_type": "markdown",
   "metadata": {
    "id": "yX7Xf2Gf9WbC"
   },
   "source": [
    "**e. Análisis de resultados**\n",
    "\n",
    "En esta sección, acabamos de mostrar cómo se realizan reportes de rendimiento para las cuatro corridas requeridas para el ejercicio. En la siguiente tabla, comparamos las corridas realizadas durante el desarrollo de este taller. Se pueden confirmar estos valores en el repositorio oficial del taller:\n",
    "| Métrica            | Exponencial/Exponencial | Constante/Exponencial | Exponencial/Constante | Constante/Constante |\n",
    "|--------------------|-------------------------|-----------------------|-----------------------|---------------------|\n",
    "| Demora total       | 145.865 (4.5-341.9)     | 124.746 (25.1-223.2)  | 85.424 (18-237.2)     | 18 (18-18)          |\n",
    "| Demora cola 1      | 75.27 (0-306.2)         | 39.169 (0-169.4)      | 67.317 (0-219.2)      | 0                   |\n",
    "| Demora cola 2      | 51.864 (0-256)          | 66.972 (0-205)        | 0                     | 0                   |\n",
    "| Longitud fila 1    | 7.551                   | 3.914                 | 6.943                 | 0                   |\n",
    "| Longitud fila 2    | 5.203                   | 6.637                 | 0                     | 0                   |\n",
    "| Uso servidor 1     | 88.4%                   | 91.5%                 | 92.7%                 | 89.9%               |\n",
    "| Uso servidor 2     | 88.8%                   | 93%                   | 92.6%                 | 89.8%               |\n",
    "| Clientes atendidos | 988                     | 990                   | 1029                  | 998                 |\n",
    "\n",
    "Comparando con los resultados obtenidos con Simlib, observamos que en general, son bastante parecidos. El resultado de la Corrida 4, de tiempos constantes, es exactamente idéntico, mientras que las otras corridas tienen leves variaciones. Esto puede ser resultado de la variabilidad dada por el manejo de variables aleatorias en ambos programas. No obstante, al observar las mismas tendencias dependiendo del manejo de las variables de cada corrida, se puede confirmar que la simulación por procesos hecha en SimPy, es equivalente a la simulación por eventos en Simlib."
   ]
  },
  {
   "cell_type": "markdown",
   "metadata": {
    "id": "yX7Xf2Gf9WbC"
   },
   "source": [
    "### 5. Plantear modificaciones\n",
    "\n",
    "Para el proceso de modificaciones, vamos a realizar experimentos únicamente en parámetros que se presume, pueden ser modificados por el sistema. Por ejemplo, el tiempo de llegada de clientes (y su distribución), no es dependiente del funcionamiento de su sistema, y se presume que no puede ser modificado por acciones reales del sistema. Por tanto, nos vamos a enfocar en dos variables, el número de servidores, y el tiempo promedio de servicio. Comparar estas dos variables, nos permite asesorar, por ejemplo, si es más eficiente poner una nueva máquina (en el caso de que sea una planta de ensamblaje, equivalente a duplicar servidores), o si es más eficiente reemplazar la máquina existente por una más rápida (disminuyendo el tiempo de servicio). También es importante determinar cuál de las dos máquinas vale más la pena duplicar o reemplazar. A continuación, mostramos las corridas para el modo 1, con las modificaciones pertinentes:"
   ]
  }
 ],
 "metadata": {
  "colab": {
   "provenance": []
  },
  "kernelspec": {
   "display_name": "Python 3 (ipykernel)",
   "language": "python",
   "name": "python3"
  },
  "language_info": {
   "codemirror_mode": {
    "name": "ipython",
    "version": 3
   },
   "file_extension": ".py",
   "mimetype": "text/x-python",
   "name": "python",
   "nbconvert_exporter": "python",
   "pygments_lexer": "ipython3",
   "version": "3.13.2"
  }
 },
 "nbformat": 4,
 "nbformat_minor": 4
}
